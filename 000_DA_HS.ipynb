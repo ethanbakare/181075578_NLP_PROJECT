{
 "cells": [
  {
   "cell_type": "code",
   "execution_count": 72,
   "metadata": {},
   "outputs": [],
   "source": [
    "import numpy as np\n",
    "import tensorflow as tf\n",
    "# from numpy.random import seed\n",
    "# seed(1)\n",
    "# from tensorflow import set_random_seed\n",
    "# set_random_seed(2)\n",
    "\n",
    "\n",
    "\n",
    "\n",
    "import pandas as pd\n",
    "import matplotlib.pyplot as plt\n",
    "import seaborn as sns\n",
    "from tqdm import tqdm\n",
    "import re\n",
    "import os\n",
    "import keras\n",
    "from sklearn import metrics\n",
    "from sklearn.model_selection import train_test_split, cross_val_score, StratifiedKFold \n",
    "from sklearn.preprocessing import LabelEncoder\n",
    "from sklearn.metrics import precision_score, recall_score, accuracy_score, f1_score, confusion_matrix\n",
    "from keras.preprocessing.text import Tokenizer\n",
    "from keras.preprocessing import sequence\n",
    "from keras.utils import to_categorical\n",
    "from keras import optimizers\n",
    "from keras.models import Sequential, Model, load_model\n",
    "from keras.layers import LSTM, Bidirectional, BatchNormalization,SpatialDropout1D, Activation, GlobalAveragePooling1D, Dense, Input, Dropout, Embedding, Conv1D, MaxPooling1D, GlobalMaxPooling1D\n",
    "from keras.initializers import glorot_normal, glorot_uniform, he_uniform\n",
    "from sklearn.linear_model import LogisticRegression\n",
    "from sklearn.feature_extraction.text import TfidfVectorizer\n",
    "from scipy.sparse import hstack\n",
    "from sklearn.metrics import ConfusionMatrixDisplay\n",
    "import random\n",
    "\n",
    "from sklearn.utils import class_weight\n",
    "from sklearn.utils import shuffle\n",
    "\n",
    "from keras import backend as K\n",
    "\n",
    "\n",
    "%matplotlib inline\n",
    "\n",
    "import warnings\n",
    "warnings.filterwarnings('ignore')\n",
    "\n"
   ]
  },
  {
   "cell_type": "code",
   "execution_count": 73,
   "metadata": {},
   "outputs": [],
   "source": [
    "# Load dataset\n",
    "def load_data():\n",
    "  data_train=pd.read_csv('/Users/ethan/py3tf/project_nlp/train_data_hs.csv')\n",
    "  data_test=pd.read_csv('/Users/ethan/py3tf/project_nlp/test_data_hs.csv')\n",
    "  data_val=pd.read_csv('/Users/ethan/py3tf/project_nlp/val_data_hs.csv')\n",
    "  data_train=data_train.drop('Unnamed: 0', axis=1)\n",
    "  data_test=data_test.drop('Unnamed: 0', axis=1)\n",
    "  data_val=data_val.drop('Unnamed: 0', axis=1)\n",
    "  return data_train, data_test, data_val\n"
   ]
  },
  {
   "cell_type": "code",
   "execution_count": 74,
   "metadata": {},
   "outputs": [],
   "source": [
    "label={0:'hate', 1:'offensive', 2:'neither'}"
   ]
  },
  {
   "cell_type": "code",
   "execution_count": 75,
   "metadata": {},
   "outputs": [],
   "source": [
    "# Plot data by target class\n",
    "def plot(data):\n",
    "  sns.countplot(data['class'])\n",
    "  plt.xlabel('Class')\n",
    "  plt.title('Distribution of data in each class')\n",
    "  plt.ylabel('Count')\n",
    "  plt.show()"
   ]
  },
  {
   "cell_type": "markdown",
   "metadata": {},
   "source": [
    " Cleaning tweets"
   ]
  },
  {
   "cell_type": "code",
   "execution_count": 76,
   "metadata": {},
   "outputs": [],
   "source": [
    "data_train, data_test, data_val = load_data()\n"
   ]
  },
  {
   "cell_type": "code",
   "execution_count": 77,
   "metadata": {},
   "outputs": [],
   "source": [
    "data_train = data_train.astype(str)\n",
    "# data_val = data_val.astype(str)"
   ]
  },
  {
   "cell_type": "code",
   "execution_count": 78,
   "metadata": {},
   "outputs": [
    {
     "data": {
      "text/html": [
       "<div>\n",
       "<style scoped>\n",
       "    .dataframe tbody tr th:only-of-type {\n",
       "        vertical-align: middle;\n",
       "    }\n",
       "\n",
       "    .dataframe tbody tr th {\n",
       "        vertical-align: top;\n",
       "    }\n",
       "\n",
       "    .dataframe thead th {\n",
       "        text-align: right;\n",
       "    }\n",
       "</style>\n",
       "<table border=\"1\" class=\"dataframe\">\n",
       "  <thead>\n",
       "    <tr style=\"text-align: right;\">\n",
       "      <th></th>\n",
       "      <th>class</th>\n",
       "      <th>tweet</th>\n",
       "    </tr>\n",
       "  </thead>\n",
       "  <tbody>\n",
       "    <tr>\n",
       "      <td>0</td>\n",
       "      <td>0</td>\n",
       "      <td>I hate when faggots talk shit on here then b...</td>\n",
       "    </tr>\n",
       "    <tr>\n",
       "      <td>1</td>\n",
       "      <td>1</td>\n",
       "      <td>Dumb bitch</td>\n",
       "    </tr>\n",
       "    <tr>\n",
       "      <td>2</td>\n",
       "      <td>1</td>\n",
       "      <td>lets record a song bitch right nowb</td>\n",
       "    </tr>\n",
       "    <tr>\n",
       "      <td>3</td>\n",
       "      <td>1</td>\n",
       "      <td>I m a joke having hoes ain t shit  I m just...</td>\n",
       "    </tr>\n",
       "    <tr>\n",
       "      <td>4</td>\n",
       "      <td>2</td>\n",
       "      <td>It s not as easy as you d think to find an a...</td>\n",
       "    </tr>\n",
       "    <tr>\n",
       "      <td>...</td>\n",
       "      <td>...</td>\n",
       "      <td>...</td>\n",
       "    </tr>\n",
       "    <tr>\n",
       "      <td>16847</td>\n",
       "      <td>2</td>\n",
       "      <td>I need to pick between two wigs  The agony    ...</td>\n",
       "    </tr>\n",
       "    <tr>\n",
       "      <td>16848</td>\n",
       "      <td>0</td>\n",
       "      <td>I feel like Tim Ross is a nigger</td>\n",
       "    </tr>\n",
       "    <tr>\n",
       "      <td>16849</td>\n",
       "      <td>0</td>\n",
       "      <td>Horrible rapper    Tyga   Most trash rapper ...</td>\n",
       "    </tr>\n",
       "    <tr>\n",
       "      <td>16850</td>\n",
       "      <td>1</td>\n",
       "      <td>Contrary to belief  us queers don       t go...</td>\n",
       "    </tr>\n",
       "    <tr>\n",
       "      <td>16851</td>\n",
       "      <td>0</td>\n",
       "      <td>it means that im following orders and being su...</td>\n",
       "    </tr>\n",
       "  </tbody>\n",
       "</table>\n",
       "<p>16852 rows × 2 columns</p>\n",
       "</div>"
      ],
      "text/plain": [
       "      class                                              tweet\n",
       "0         0    I hate when faggots talk shit on here then b...\n",
       "1         1                                        Dumb bitch \n",
       "2         1                lets record a song bitch right nowb\n",
       "3         1     I m a joke having hoes ain t shit  I m just...\n",
       "4         2    It s not as easy as you d think to find an a...\n",
       "...     ...                                                ...\n",
       "16847     2  I need to pick between two wigs  The agony    ...\n",
       "16848     0                   I feel like Tim Ross is a nigger\n",
       "16849     0    Horrible rapper    Tyga   Most trash rapper ...\n",
       "16850     1    Contrary to belief  us queers don       t go...\n",
       "16851     0  it means that im following orders and being su...\n",
       "\n",
       "[16852 rows x 2 columns]"
      ]
     },
     "execution_count": 78,
     "metadata": {},
     "output_type": "execute_result"
    }
   ],
   "source": [
    "data_train"
   ]
  },
  {
   "cell_type": "code",
   "execution_count": 79,
   "metadata": {},
   "outputs": [
    {
     "data": {
      "text/html": [
       "<div>\n",
       "<style scoped>\n",
       "    .dataframe tbody tr th:only-of-type {\n",
       "        vertical-align: middle;\n",
       "    }\n",
       "\n",
       "    .dataframe tbody tr th {\n",
       "        vertical-align: top;\n",
       "    }\n",
       "\n",
       "    .dataframe thead th {\n",
       "        text-align: right;\n",
       "    }\n",
       "</style>\n",
       "<table border=\"1\" class=\"dataframe\">\n",
       "  <thead>\n",
       "    <tr style=\"text-align: right;\">\n",
       "      <th></th>\n",
       "      <th>class</th>\n",
       "      <th>tweet</th>\n",
       "    </tr>\n",
       "  </thead>\n",
       "  <tbody>\n",
       "    <tr>\n",
       "      <td>0</td>\n",
       "      <td>1</td>\n",
       "      <td>yea u know these lil bitches be stalking a...</td>\n",
       "    </tr>\n",
       "    <tr>\n",
       "      <td>1</td>\n",
       "      <td>2</td>\n",
       "      <td>Fit lads  Nice gear    these scally lads n t...</td>\n",
       "    </tr>\n",
       "    <tr>\n",
       "      <td>2</td>\n",
       "      <td>1</td>\n",
       "      <td>I got bad bitches on stand by</td>\n",
       "    </tr>\n",
       "    <tr>\n",
       "      <td>3</td>\n",
       "      <td>1</td>\n",
       "      <td>With no babymama drama   side hoes all that   ...</td>\n",
       "    </tr>\n",
       "    <tr>\n",
       "      <td>4</td>\n",
       "      <td>1</td>\n",
       "      <td>I think my wish came true  where y all hat...</td>\n",
       "    </tr>\n",
       "    <tr>\n",
       "      <td>...</td>\n",
       "      <td>...</td>\n",
       "      <td>...</td>\n",
       "    </tr>\n",
       "    <tr>\n",
       "      <td>4208</td>\n",
       "      <td>1</td>\n",
       "      <td>sockin bitches in they mouf</td>\n",
       "    </tr>\n",
       "    <tr>\n",
       "      <td>4209</td>\n",
       "      <td>1</td>\n",
       "      <td>prairie nigger</td>\n",
       "    </tr>\n",
       "    <tr>\n",
       "      <td>4210</td>\n",
       "      <td>1</td>\n",
       "      <td>He s been drinking too much of that shitty ...</td>\n",
       "    </tr>\n",
       "    <tr>\n",
       "      <td>4211</td>\n",
       "      <td>1</td>\n",
       "      <td>Having a bitch ain t goofy  Having bitch dat a...</td>\n",
       "    </tr>\n",
       "    <tr>\n",
       "      <td>4212</td>\n",
       "      <td>1</td>\n",
       "      <td>Picture time outside of metro  fucking fags</td>\n",
       "    </tr>\n",
       "  </tbody>\n",
       "</table>\n",
       "<p>4213 rows × 2 columns</p>\n",
       "</div>"
      ],
      "text/plain": [
       "      class                                              tweet\n",
       "0         1      yea u know these lil bitches be stalking a...\n",
       "1         2    Fit lads  Nice gear    these scally lads n t...\n",
       "2         1                      I got bad bitches on stand by\n",
       "3         1  With no babymama drama   side hoes all that   ...\n",
       "4         1      I think my wish came true  where y all hat...\n",
       "...     ...                                                ...\n",
       "4208      1                        sockin bitches in they mouf\n",
       "4209      1                                     prairie nigger\n",
       "4210      1     He s been drinking too much of that shitty ...\n",
       "4211      1  Having a bitch ain t goofy  Having bitch dat a...\n",
       "4212      1        Picture time outside of metro  fucking fags\n",
       "\n",
       "[4213 rows x 2 columns]"
      ]
     },
     "execution_count": 79,
     "metadata": {},
     "output_type": "execute_result"
    }
   ],
   "source": [
    "data_val"
   ]
  },
  {
   "cell_type": "code",
   "execution_count": 80,
   "metadata": {},
   "outputs": [
    {
     "name": "stdout",
     "output_type": "stream",
     "text": [
      "16852\n",
      "3718\n",
      "4213\n"
     ]
    }
   ],
   "source": [
    "print(len(data_train))\n",
    "print(len(data_test))\n",
    "print(len(data_val))"
   ]
  },
  {
   "cell_type": "code",
   "execution_count": 81,
   "metadata": {},
   "outputs": [
    {
     "name": "stdout",
     "output_type": "stream",
     "text": [
      "       tweet\n",
      "class       \n",
      "0        199\n",
      "1       2894\n",
      "2        625\n"
     ]
    }
   ],
   "source": [
    "frequency_df = data_test.groupby('class').count()\n",
    "print(frequency_df)"
   ]
  },
  {
   "cell_type": "code",
   "execution_count": 82,
   "metadata": {},
   "outputs": [
    {
     "name": "stdout",
     "output_type": "stream",
     "text": [
      "       tweet\n",
      "class       \n",
      "0        258\n",
      "1       3276\n",
      "2        679\n"
     ]
    }
   ],
   "source": [
    "frequency_d = data_val.groupby('class').count()\n",
    "print(frequency_d)"
   ]
  },
  {
   "cell_type": "code",
   "execution_count": 83,
   "metadata": {},
   "outputs": [],
   "source": [
    "# Splitting data \n",
    "def split_data(data_train, data_test, data_val ):\n",
    " \n",
    "  X_train=data_train['tweet']\n",
    "  y_train=data_train['class'].values\n",
    "  y_train=to_categorical(y_train)\n",
    "\n",
    "  X_test=data_test['tweet']\n",
    "  y_test=data_test['class'].values\n",
    "  y_test=to_categorical(y_test)\n",
    "\n",
    "  X_val=data_val['tweet']\n",
    "  y_val=data_val['class'].values\n",
    "  y_val=to_categorical(y_val)\n",
    "\n",
    "  return X_train, y_train, X_test, y_test, X_val, y_val\n"
   ]
  },
  {
   "cell_type": "code",
   "execution_count": 84,
   "metadata": {},
   "outputs": [],
   "source": [
    "# data = load_data()\n",
    "# data = clean_text(data)\n",
    "X_train, y_train, X_test, y_test, X_val, y_val = split_data(data_train, data_test, data_val)\n"
   ]
  },
  {
   "cell_type": "code",
   "execution_count": 85,
   "metadata": {},
   "outputs": [],
   "source": [
    "# Data pre-processing\n",
    "#token.word_index gives me the total vocabulary of the training data\n",
    "#Creating vectorizer for LSTM\n",
    "\n",
    "def create_token(X,max_seq_len = None):\n",
    "  token=Tokenizer() # Define Tokenizer\n",
    "  token.fit_on_texts(X) # Train tokenizer\n",
    "  word_index = token.word_index\n",
    "#   X = sequence.pad_sequences(encoded, maxlen=self.max_seq_len)\n",
    "  if max_seq_len is None:\n",
    "    max_seq_len = max([len(s.split()) for s in X.tolist()])\n",
    "  \n",
    "  sequences=token.texts_to_sequences(X) # apply tokenizer on data\n",
    "  pad_sequence=sequence.pad_sequences(sequences, maxlen = max_seq_len) # padding token sequernces to provide it as input\n",
    "  #applying padding to ensure equal size of sequences.. length of padding matrix gives the size of input data\n",
    "  return token, max_seq_len, pad_sequence, word_index"
   ]
  },
  {
   "cell_type": "code",
   "execution_count": 86,
   "metadata": {},
   "outputs": [],
   "source": [
    "#Get Vectors for LSTM modeld\n",
    "token, max_seq_len, X_train_pad, word_index = create_token(X_train)"
   ]
  },
  {
   "cell_type": "code",
   "execution_count": 87,
   "metadata": {},
   "outputs": [],
   "source": [
    "_,__, X_val_padded, b = create_token(X_val, max_seq_len)"
   ]
  },
  {
   "cell_type": "code",
   "execution_count": null,
   "metadata": {},
   "outputs": [],
   "source": []
  },
  {
   "cell_type": "code",
   "execution_count": 88,
   "metadata": {},
   "outputs": [
    {
     "data": {
      "text/plain": [
       "(4213, 34)"
      ]
     },
     "execution_count": 88,
     "metadata": {},
     "output_type": "execute_result"
    }
   ],
   "source": [
    "X_val_padded.shape"
   ]
  },
  {
   "cell_type": "code",
   "execution_count": 89,
   "metadata": {},
   "outputs": [
    {
     "data": {
      "text/plain": [
       "(16852, 34)"
      ]
     },
     "execution_count": 89,
     "metadata": {},
     "output_type": "execute_result"
    }
   ],
   "source": [
    "X_train_pad.shape"
   ]
  },
  {
   "cell_type": "markdown",
   "metadata": {},
   "source": [
    "# Embed LSTM Model"
   ]
  },
  {
   "cell_type": "code",
   "execution_count": 90,
   "metadata": {},
   "outputs": [],
   "source": [
    "\n",
    "# Create embedding matrix for CNN\n",
    "def index_vector():\n",
    "  embeddings_index = {}\n",
    "  f = open('/Users/ethan/py3tf/project_nlp/glove.6B/glove.6B.100d.txt', encoding='utf-8')\n",
    "  for line in f:\n",
    "    values = line.split()\n",
    "    word = values[0]\n",
    "    coefs = np.asarray(values[1:], dtype='float32')\n",
    "    embeddings_index[word] = coefs\n",
    "  f.close()\n",
    "  return embeddings_index\n",
    "\n",
    "def create_embed_matrix(word_index, embeddings_index):\n",
    "  embedding_matrix = np.zeros((len(word_index) + 1, 100))\n",
    "  for word, i in tqdm(word_index.items()):\n",
    "    embedding_vector = embeddings_index.get(word)\n",
    "    if embedding_vector is not None:\n",
    "        embedding_matrix[i] = embedding_vector\n",
    "  return embedding_matrix\n",
    "\n",
    "\n"
   ]
  },
  {
   "cell_type": "code",
   "execution_count": 91,
   "metadata": {},
   "outputs": [
    {
     "data": {
      "text/plain": [
       "{0: 5.773210003425831, 1: 0.4314388120839734, 2: 1.9647895534569197}"
      ]
     },
     "execution_count": 91,
     "metadata": {},
     "output_type": "execute_result"
    }
   ],
   "source": [
    "\n",
    "def recall(y_true, y_pred):\n",
    "    y_true = K.ones_like(y_true) \n",
    "    true_positives = K.sum(K.round(K.clip(y_true * y_pred, 0, 1)))\n",
    "    all_positives = K.sum(K.round(K.clip(y_true, 0, 1)))\n",
    "\n",
    "    r = true_positives / (all_positives + K.epsilon())\n",
    "    return r\n",
    "\n",
    "def precision(y_true, y_pred):\n",
    "    y_true = K.ones_like(y_true) \n",
    "    true_positives = K.sum(K.round(K.clip(y_true * y_pred, 0, 1)))\n",
    "\n",
    "    predicted_positives = K.sum(K.round(K.clip(y_pred, 0, 1)))\n",
    "    p = true_positives / (predicted_positives + K.epsilon())\n",
    "    return p\n",
    "\n",
    "def f1_score(y_true, y_pred):\n",
    "    precision_m = precision(y_true, y_pred)\n",
    "    recall_m = recall(y_true, y_pred)\n",
    "    return 2*((precision_m*recall_m)/(precision_m+recall_m+K.epsilon()))\n",
    "\n",
    "\n",
    "\n",
    "\n",
    "# he_intializer = he_uniform(seed = 10)\n",
    "# glorot_intializer = glorot_uniform(seed = 10)\n",
    "\n",
    "def em_lstm_model(nb_words, embedding_matrix, max_seq_len, num_classes=3):\n",
    "  model = Sequential()\n",
    "  embed_dim=100\n",
    "  num_filters=64\n",
    "  model.add(Embedding(nb_words, embed_dim, weights=[embedding_matrix], input_length=max_seq_len, trainable=True))\n",
    "  model.add(SpatialDropout1D(0.3))\n",
    "  model.add(LSTM(128, dropout = 0.5, recurrent_dropout = 0.2))\n",
    "#   model.add(BatchNormalization())  \n",
    "  model.add(Dense(128, activation = 'relu'))\n",
    "  model.add(Dropout(0.2))\n",
    "  model.add(Dense(num_classes, activation = 'softmax'))\n",
    "\n",
    "#   adam = optimizers.Adam(lr=0.003, beta_1=0.9, beta_2=0.999, epsilon=1e-08, decay=0.0)\n",
    "#   SGD = optimizers.SGD(learning_rate=1e-3)\n",
    "  adam = optimizers.Adam(lr=1e-5)\n",
    "  model.compile(loss='categorical_crossentropy', optimizer=adam, metrics=['accuracy', f1_score, precision, recall])\n",
    "  model.summary()\n",
    "  return model\n",
    "\n",
    "y_train_d = np.argmax(y_train, axis=1)\n",
    "clweight = class_weight.compute_class_weight('balanced', np.unique(y_train_d), y_train_d)\n",
    "d_class_weights = dict(enumerate(clweight))\n",
    "d_class_weights\n",
    "\n",
    "\n",
    "# class_weight = {0:14., 1:1., 2:5.}\n",
    "# {0: 5.773210003425831, 1: 0.4314388120839734, 2: 1.9647895534569197}"
   ]
  },
  {
   "cell_type": "code",
   "execution_count": 92,
   "metadata": {},
   "outputs": [],
   "source": [
    "# , class_weight = class_weight\n",
    "def fit_model3(model, pad_sequence, callback):\n",
    "  history = model.fit(pad_sequence, y_train, validation_data = (X_val_padded, y_val), epochs = 25, batch_size = 128, callbacks = [callback], class_weight = d_class_weights)\n",
    "  return model, history"
   ]
  },
  {
   "cell_type": "code",
   "execution_count": 93,
   "metadata": {},
   "outputs": [
    {
     "name": "stderr",
     "output_type": "stream",
     "text": [
      "100%|██████████| 16264/16264 [00:00<00:00, 683446.48it/s]\n"
     ]
    }
   ],
   "source": [
    "embeddings_index=index_vector()\n",
    "embeddings_matrix=create_embed_matrix(word_index, embeddings_index)"
   ]
  },
  {
   "cell_type": "code",
   "execution_count": 94,
   "metadata": {},
   "outputs": [
    {
     "name": "stdout",
     "output_type": "stream",
     "text": [
      "Model: \"sequential_4\"\n",
      "_________________________________________________________________\n",
      "Layer (type)                 Output Shape              Param #   \n",
      "=================================================================\n",
      "embedding_4 (Embedding)      (None, 34, 100)           1626500   \n",
      "_________________________________________________________________\n",
      "spatial_dropout1d_4 (Spatial (None, 34, 100)           0         \n",
      "_________________________________________________________________\n",
      "lstm_4 (LSTM)                (None, 128)               117248    \n",
      "_________________________________________________________________\n",
      "dense_7 (Dense)              (None, 128)               16512     \n",
      "_________________________________________________________________\n",
      "dropout_4 (Dropout)          (None, 128)               0         \n",
      "_________________________________________________________________\n",
      "dense_8 (Dense)              (None, 3)                 387       \n",
      "=================================================================\n",
      "Total params: 1,760,647\n",
      "Trainable params: 1,760,647\n",
      "Non-trainable params: 0\n",
      "_________________________________________________________________\n"
     ]
    }
   ],
   "source": [
    "em_model = em_lstm_model(len(word_index)+1, embeddings_matrix, X_train_pad.shape[1])"
   ]
  },
  {
   "cell_type": "code",
   "execution_count": 95,
   "metadata": {},
   "outputs": [],
   "source": [
    "\n",
    "checkpoint_path = '/Users/ethan/py3tf/model_bestweight/em_lstm_hs_model_weights.h5'\n",
    "checkpt2 = keras.callbacks.ModelCheckpoint(checkpoint_path,monitor='val_f1_score',mode='max',save_weights_only=True,save_best_only=True,verbose=1)\n"
   ]
  },
  {
   "cell_type": "code",
   "execution_count": 96,
   "metadata": {
    "scrolled": false
   },
   "outputs": [
    {
     "name": "stdout",
     "output_type": "stream",
     "text": [
      "Train on 16852 samples, validate on 4213 samples\n",
      "Epoch 1/25\n",
      "16852/16852 [==============================] - 15s 885us/step - loss: 1.1054 - accuracy: 0.2199 - f1_score: 0.0047 - precision: 0.5606 - recall: 0.0024 - val_loss: 1.0964 - val_accuracy: 0.3705 - val_f1_score: 0.0000e+00 - val_precision: 0.0000e+00 - val_recall: 0.0000e+00\n",
      "\n",
      "Epoch 00001: val_f1_score improved from -inf to 0.00000, saving model to /Users/ethan/py3tf/model_bestweight/em_lstm_hs_model_weights.h5\n",
      "Epoch 2/25\n",
      "16852/16852 [==============================] - 13s 792us/step - loss: 1.0990 - accuracy: 0.2680 - f1_score: 0.0026 - precision: 0.4091 - recall: 0.0013 - val_loss: 1.0682 - val_accuracy: 0.5210 - val_f1_score: 0.0000e+00 - val_precision: 0.0000e+00 - val_recall: 0.0000e+00\n",
      "\n",
      "Epoch 00002: val_f1_score did not improve from 0.00000\n",
      "Epoch 3/25\n",
      "16852/16852 [==============================] - 13s 779us/step - loss: 1.0927 - accuracy: 0.3174 - f1_score: 0.0029 - precision: 0.4470 - recall: 0.0015 - val_loss: 1.0464 - val_accuracy: 0.5998 - val_f1_score: 0.0000e+00 - val_precision: 0.0000e+00 - val_recall: 0.0000e+00\n",
      "\n",
      "Epoch 00003: val_f1_score did not improve from 0.00000\n",
      "Epoch 4/25\n",
      "16852/16852 [==============================] - 13s 800us/step - loss: 1.0929 - accuracy: 0.3481 - f1_score: 0.0023 - precision: 0.3409 - recall: 0.0012 - val_loss: 1.0299 - val_accuracy: 0.6378 - val_f1_score: 0.0000e+00 - val_precision: 0.0000e+00 - val_recall: 0.0000e+00\n",
      "\n",
      "Epoch 00004: val_f1_score did not improve from 0.00000\n",
      "Epoch 5/25\n",
      "16852/16852 [==============================] - 14s 808us/step - loss: 1.0851 - accuracy: 0.3944 - f1_score: 0.0026 - precision: 0.4242 - recall: 0.0013 - val_loss: 1.0201 - val_accuracy: 0.6440 - val_f1_score: 0.0000e+00 - val_precision: 0.0000e+00 - val_recall: 0.0000e+00\n",
      "\n",
      "Epoch 00005: val_f1_score did not improve from 0.00000\n",
      "Epoch 6/25\n",
      "16852/16852 [==============================] - 13s 773us/step - loss: 1.0794 - accuracy: 0.4083 - f1_score: 0.0041 - precision: 0.5833 - recall: 0.0021 - val_loss: 1.0138 - val_accuracy: 0.6399 - val_f1_score: 0.0000e+00 - val_precision: 0.0000e+00 - val_recall: 0.0000e+00\n",
      "\n",
      "Epoch 00006: val_f1_score did not improve from 0.00000\n",
      "Epoch 7/25\n",
      "16852/16852 [==============================] - 14s 804us/step - loss: 1.0784 - accuracy: 0.4252 - f1_score: 0.0043 - precision: 0.5379 - recall: 0.0022 - val_loss: 1.0083 - val_accuracy: 0.6397 - val_f1_score: 0.0000e+00 - val_precision: 0.0000e+00 - val_recall: 0.0000e+00\n",
      "\n",
      "Epoch 00007: val_f1_score did not improve from 0.00000\n",
      "Epoch 8/25\n",
      "16852/16852 [==============================] - 13s 800us/step - loss: 1.0762 - accuracy: 0.4329 - f1_score: 0.0054 - precision: 0.5985 - recall: 0.0027 - val_loss: 1.0048 - val_accuracy: 0.6354 - val_f1_score: 3.1484e-04 - val_precision: 0.0606 - val_recall: 1.5783e-04\n",
      "\n",
      "Epoch 00008: val_f1_score improved from 0.00000 to 0.00031, saving model to /Users/ethan/py3tf/model_bestweight/em_lstm_hs_model_weights.h5\n",
      "Epoch 9/25\n",
      "16852/16852 [==============================] - 13s 784us/step - loss: 1.0676 - accuracy: 0.4491 - f1_score: 0.0064 - precision: 0.6894 - recall: 0.0032 - val_loss: 1.0006 - val_accuracy: 0.6264 - val_f1_score: 0.0013 - val_precision: 0.2424 - val_recall: 6.3131e-04\n",
      "\n",
      "Epoch 00009: val_f1_score improved from 0.00031 to 0.00126, saving model to /Users/ethan/py3tf/model_bestweight/em_lstm_hs_model_weights.h5\n",
      "Epoch 10/25\n",
      "16852/16852 [==============================] - 13s 752us/step - loss: 1.0634 - accuracy: 0.4599 - f1_score: 0.0088 - precision: 0.8258 - recall: 0.0044 - val_loss: 0.9990 - val_accuracy: 0.6216 - val_f1_score: 0.0030 - val_precision: 0.4848 - val_recall: 0.0015\n",
      "\n",
      "Epoch 00010: val_f1_score improved from 0.00126 to 0.00299, saving model to /Users/ethan/py3tf/model_bestweight/em_lstm_hs_model_weights.h5\n",
      "Epoch 11/25\n",
      "16852/16852 [==============================] - 13s 781us/step - loss: 1.0603 - accuracy: 0.4645 - f1_score: 0.0112 - precision: 0.8788 - recall: 0.0057 - val_loss: 0.9925 - val_accuracy: 0.6209 - val_f1_score: 0.0060 - val_precision: 0.7273 - val_recall: 0.0030\n",
      "\n",
      "Epoch 00011: val_f1_score improved from 0.00299 to 0.00597, saving model to /Users/ethan/py3tf/model_bestweight/em_lstm_hs_model_weights.h5\n",
      "Epoch 12/25\n",
      "16852/16852 [==============================] - 13s 798us/step - loss: 1.0570 - accuracy: 0.4821 - f1_score: 0.0153 - precision: 0.9621 - recall: 0.0077 - val_loss: 0.9893 - val_accuracy: 0.6138 - val_f1_score: 0.0085 - val_precision: 0.8182 - val_recall: 0.0043\n",
      "\n",
      "Epoch 00012: val_f1_score improved from 0.00597 to 0.00847, saving model to /Users/ethan/py3tf/model_bestweight/em_lstm_hs_model_weights.h5\n",
      "Epoch 13/25\n",
      "16852/16852 [==============================] - 12s 725us/step - loss: 1.0518 - accuracy: 0.4848 - f1_score: 0.0180 - precision: 0.9924 - recall: 0.0091 - val_loss: 0.9867 - val_accuracy: 0.6084 - val_f1_score: 0.0138 - val_precision: 0.9697 - val_recall: 0.0069\n",
      "\n",
      "Epoch 00013: val_f1_score improved from 0.00847 to 0.01375, saving model to /Users/ethan/py3tf/model_bestweight/em_lstm_hs_model_weights.h5\n",
      "Epoch 14/25\n",
      "16852/16852 [==============================] - 14s 850us/step - loss: 1.0511 - accuracy: 0.4894 - f1_score: 0.0231 - precision: 1.0000 - recall: 0.0117 - val_loss: 0.9843 - val_accuracy: 0.6119 - val_f1_score: 0.0190 - val_precision: 0.9697 - val_recall: 0.0096\n",
      "\n",
      "Epoch 00014: val_f1_score improved from 0.01375 to 0.01903, saving model to /Users/ethan/py3tf/model_bestweight/em_lstm_hs_model_weights.h5\n",
      "Epoch 15/25\n",
      "16852/16852 [==============================] - 15s 901us/step - loss: 1.0454 - accuracy: 0.4877 - f1_score: 0.0278 - precision: 0.9924 - recall: 0.0141 - val_loss: 0.9845 - val_accuracy: 0.6029 - val_f1_score: 0.0249 - val_precision: 0.9697 - val_recall: 0.0126\n",
      "\n",
      "Epoch 00015: val_f1_score improved from 0.01903 to 0.02488, saving model to /Users/ethan/py3tf/model_bestweight/em_lstm_hs_model_weights.h5\n",
      "Epoch 16/25\n",
      "16852/16852 [==============================] - 15s 889us/step - loss: 1.0393 - accuracy: 0.4985 - f1_score: 0.0342 - precision: 1.0000 - recall: 0.0174 - val_loss: 0.9840 - val_accuracy: 0.5951 - val_f1_score: 0.0333 - val_precision: 1.0000 - val_recall: 0.0170\n",
      "\n",
      "Epoch 00016: val_f1_score improved from 0.02488 to 0.03335, saving model to /Users/ethan/py3tf/model_bestweight/em_lstm_hs_model_weights.h5\n",
      "Epoch 17/25\n",
      "16852/16852 [==============================] - 13s 792us/step - loss: 1.0345 - accuracy: 0.4972 - f1_score: 0.0429 - precision: 1.0000 - recall: 0.0219 - val_loss: 0.9798 - val_accuracy: 0.5981 - val_f1_score: 0.0474 - val_precision: 1.0000 - val_recall: 0.0243\n",
      "\n",
      "Epoch 00017: val_f1_score improved from 0.03335 to 0.04737, saving model to /Users/ethan/py3tf/model_bestweight/em_lstm_hs_model_weights.h5\n",
      "Epoch 18/25\n",
      "16852/16852 [==============================] - 13s 799us/step - loss: 1.0288 - accuracy: 0.5089 - f1_score: 0.0491 - precision: 1.0000 - recall: 0.0252 - val_loss: 0.9776 - val_accuracy: 0.5996 - val_f1_score: 0.0589 - val_precision: 1.0000 - val_recall: 0.0304\n",
      "\n",
      "Epoch 00018: val_f1_score improved from 0.04737 to 0.05887, saving model to /Users/ethan/py3tf/model_bestweight/em_lstm_hs_model_weights.h5\n",
      "Epoch 19/25\n",
      "16852/16852 [==============================] - 14s 805us/step - loss: 1.0256 - accuracy: 0.5091 - f1_score: 0.0564 - precision: 1.0000 - recall: 0.0291 - val_loss: 0.9708 - val_accuracy: 0.6046 - val_f1_score: 0.0776 - val_precision: 1.0000 - val_recall: 0.0405\n",
      "\n",
      "Epoch 00019: val_f1_score improved from 0.05887 to 0.07757, saving model to /Users/ethan/py3tf/model_bestweight/em_lstm_hs_model_weights.h5\n",
      "Epoch 20/25\n",
      "16852/16852 [==============================] - 17s 990us/step - loss: 1.0195 - accuracy: 0.5207 - f1_score: 0.0704 - precision: 1.0000 - recall: 0.0366 - val_loss: 0.9650 - val_accuracy: 0.6060 - val_f1_score: 0.1006 - val_precision: 1.0000 - val_recall: 0.0531\n",
      "\n",
      "Epoch 00020: val_f1_score improved from 0.07757 to 0.10062, saving model to /Users/ethan/py3tf/model_bestweight/em_lstm_hs_model_weights.h5\n",
      "Epoch 21/25\n",
      "16852/16852 [==============================] - 14s 827us/step - loss: 1.0131 - accuracy: 0.5265 - f1_score: 0.0799 - precision: 1.0000 - recall: 0.0417 - val_loss: 0.9668 - val_accuracy: 0.6003 - val_f1_score: 0.1157 - val_precision: 1.0000 - val_recall: 0.0615\n"
     ]
    },
    {
     "name": "stdout",
     "output_type": "stream",
     "text": [
      "\n",
      "Epoch 00021: val_f1_score improved from 0.10062 to 0.11565, saving model to /Users/ethan/py3tf/model_bestweight/em_lstm_hs_model_weights.h5\n",
      "Epoch 22/25\n",
      "16852/16852 [==============================] - 15s 889us/step - loss: 1.0078 - accuracy: 0.5298 - f1_score: 0.0936 - precision: 1.0000 - recall: 0.0492 - val_loss: 0.9618 - val_accuracy: 0.6012 - val_f1_score: 0.1377 - val_precision: 1.0000 - val_recall: 0.0741\n",
      "\n",
      "Epoch 00022: val_f1_score improved from 0.11565 to 0.13774, saving model to /Users/ethan/py3tf/model_bestweight/em_lstm_hs_model_weights.h5\n",
      "Epoch 23/25\n",
      "16852/16852 [==============================] - 13s 799us/step - loss: 1.0075 - accuracy: 0.5265 - f1_score: 0.1027 - precision: 1.0000 - recall: 0.0542 - val_loss: 0.9595 - val_accuracy: 0.6065 - val_f1_score: 0.1541 - val_precision: 1.0000 - val_recall: 0.0837\n",
      "\n",
      "Epoch 00023: val_f1_score improved from 0.13774 to 0.15415, saving model to /Users/ethan/py3tf/model_bestweight/em_lstm_hs_model_weights.h5\n",
      "Epoch 24/25\n",
      "16852/16852 [==============================] - 13s 771us/step - loss: 1.0077 - accuracy: 0.5218 - f1_score: 0.1107 - precision: 1.0000 - recall: 0.0587 - val_loss: 0.9594 - val_accuracy: 0.6062 - val_f1_score: 0.1664 - val_precision: 1.0000 - val_recall: 0.0909\n",
      "\n",
      "Epoch 00024: val_f1_score improved from 0.15415 to 0.16638, saving model to /Users/ethan/py3tf/model_bestweight/em_lstm_hs_model_weights.h5\n",
      "Epoch 25/25\n",
      "16852/16852 [==============================] - 14s 809us/step - loss: 1.0024 - accuracy: 0.5297 - f1_score: 0.1261 - precision: 1.0000 - recall: 0.0674 - val_loss: 0.9612 - val_accuracy: 0.6003 - val_f1_score: 0.1833 - val_precision: 1.0000 - val_recall: 0.1011\n",
      "\n",
      "Epoch 00025: val_f1_score improved from 0.16638 to 0.18326, saving model to /Users/ethan/py3tf/model_bestweight/em_lstm_hs_model_weights.h5\n"
     ]
    }
   ],
   "source": [
    "em_model, em_lstm_hist = fit_model3(em_model, X_train_pad, checkpt2)"
   ]
  },
  {
   "cell_type": "raw",
   "metadata": {},
   "source": [
    "em_model.load_weights(checkpoint_path)"
   ]
  },
  {
   "cell_type": "code",
   "execution_count": 97,
   "metadata": {},
   "outputs": [],
   "source": [
    "def plot_model(lstm_hist):\n",
    "    \n",
    "    # summarize history for accuracy\n",
    "  plt.plot(lstm_hist.history['accuracy'])\n",
    "  plt.plot(lstm_hist.history['val_accuracy'])\n",
    "  plt.title('model accuracy')\n",
    "  plt.ylabel('accuracy')\n",
    "  plt.xlabel('epoch')\n",
    "  plt.legend(['train', 'val'], loc='upper left')\n",
    "  plt.show()\n",
    "# summarize history for loss\n",
    "  plt.plot(lstm_hist.history['loss'])\n",
    "  plt.plot(lstm_hist.history['val_loss'])\n",
    "  plt.title('model loss')\n",
    "  plt.ylabel('loss')\n",
    "  plt.xlabel('epoch')\n",
    "  plt.legend(['train', 'val'], loc='upper left')\n",
    "  plt.show()\n",
    "#   plt.figure(figsize=(10, 6))\n",
    "#   plt.subplot(1, 2, 1)\n",
    "#   plt.title('Accuracy')\n",
    "#   plt.plot(np.arange(1, 11), lstm_hist.history['accuracy'], label='Training accuracy')\n",
    "#   plt.plot(np.arange(1, 11), lstm_hist.history['val_accuracy'], label='Val_accuracy')\n",
    "#   plt.xlabel('Epochs')\n",
    "#   plt.ylabel('Accuracy')\n",
    "#   plt.legend()\n",
    "\n",
    "#   plt.subplot(1, 2, 2)\n",
    "#   plt.title('Loss')\n",
    "#   plt.plot(np.arange(1, 11), lstm_hist.history['loss'], label='Training loss')\n",
    "#   plt.plot(np.arange(1, 11), lstm_hist.history['val_loss'],label='Val_loss')\n",
    "#   plt.xlabel('Epochs')\n",
    "#   plt.ylabel('Loss')\n",
    "#   plt.legend()\n",
    "\n",
    "  plt.show()"
   ]
  },
  {
   "cell_type": "code",
   "execution_count": 98,
   "metadata": {},
   "outputs": [
    {
     "data": {
      "image/png": "[encoded data removed]",
      "text/plain": [
       "<Figure size 432x288 with 1 Axes>"
      ]
     },
     "metadata": {
      "needs_background": "light"
     },
     "output_type": "display_data"
    },
    {
     "data": {
      "image/png": "[encoded data removed]",
      "text/plain": [
       "<Figure size 432x288 with 1 Axes>"
      ]
     },
     "metadata": {
      "needs_background": "light"
     },
     "output_type": "display_data"
    }
   ],
   "source": [
    "plot_model(em_lstm_hist)"
   ]
  },
  {
   "cell_type": "code",
   "execution_count": 99,
   "metadata": {},
   "outputs": [],
   "source": [
    "def check_accuracy(model, X_test, y_test):\n",
    "  test_sequences=token.texts_to_sequences(X_test)\n",
    "  test_pad=sequence.pad_sequences(test_sequences, maxlen=max_seq_len)\n",
    "  y_pred = model.predict(test_pad)\n",
    "  acc=model.evaluate(test_pad, y_test)\n",
    "  print(\"Accuracy: {}\".format(acc[1]))\n",
    "  y_test_=np.argmax(y_test, axis=1)\n",
    "  y_pred=np.argmax(y_pred, axis=1)\n",
    "  print(metrics.classification_report(y_test_, y_pred))\n",
    "  cm = confusion_matrix(y_test_, y_pred, normalize='true')\n",
    "  \n",
    "  np.set_printoptions(precision=2)\n",
    "  # cm = confusion_matrix(y_test, y_pred)gist_gray_r\n",
    "\n",
    "  cm_display = ConfusionMatrixDisplay(cm, display_labels=label.values()).plot(cmap=plt.cm.Blues)"
   ]
  },
  {
   "cell_type": "code",
   "execution_count": 100,
   "metadata": {},
   "outputs": [
    {
     "name": "stdout",
     "output_type": "stream",
     "text": [
      "EM_LSTM accuracy hs: \n",
      "3718/3718 [==============================] - 1s 236us/step\n",
      "Accuracy: 0.7167832255363464\n",
      "              precision    recall  f1-score   support\n",
      "\n",
      "           0       0.23      0.23      0.23       199\n",
      "           1       0.90      0.75      0.82      2894\n",
      "           2       0.40      0.72      0.52       625\n",
      "\n",
      "    accuracy                           0.72      3718\n",
      "   macro avg       0.51      0.56      0.52      3718\n",
      "weighted avg       0.78      0.72      0.74      3718\n",
      "\n"
     ]
    },
    {
     "data": {
      "image/png": "[encoded data removed]",
      "text/plain": [
       "<Figure size 432x288 with 2 Axes>"
      ]
     },
     "metadata": {
      "needs_background": "light"
     },
     "output_type": "display_data"
    }
   ],
   "source": [
    "print(\"EM_LSTM accuracy hs: \")\n",
    "check_accuracy(em_model, X_test, y_test)"
   ]
  },
  {
   "cell_type": "code",
   "execution_count": 107,
   "metadata": {},
   "outputs": [
    {
     "name": "stdout",
     "output_type": "stream",
     "text": [
      "3718/3718 [==============================] - 1s 221us/step\n"
     ]
    },
    {
     "ename": "IndexError",
     "evalue": "list index out of range",
     "output_type": "error",
     "traceback": [
      "\u001b[0;31m---------------------------------------------------------------------------\u001b[0m",
      "\u001b[0;31mIndexError\u001b[0m                                Traceback (most recent call last)",
      "\u001b[0;32m<ipython-input-107-11e5065f76c3>\u001b[0m in \u001b[0;36m<module>\u001b[0;34m\u001b[0m\n\u001b[1;32m      1\u001b[0m \u001b[0m_\u001b[0m\u001b[0;34m,\u001b[0m\u001b[0m__\u001b[0m\u001b[0;34m,\u001b[0m \u001b[0mX_test_padded\u001b[0m\u001b[0;34m,\u001b[0m \u001b[0mb\u001b[0m \u001b[0;34m=\u001b[0m \u001b[0mcreate_token\u001b[0m\u001b[0;34m(\u001b[0m\u001b[0mX_test\u001b[0m\u001b[0;34m,\u001b[0m \u001b[0mmax_seq_len\u001b[0m\u001b[0;34m)\u001b[0m\u001b[0;34m\u001b[0m\u001b[0;34m\u001b[0m\u001b[0m\n\u001b[1;32m      2\u001b[0m \u001b[0macc\u001b[0m\u001b[0;34m=\u001b[0m\u001b[0mem_model\u001b[0m\u001b[0;34m.\u001b[0m\u001b[0mevaluate\u001b[0m\u001b[0;34m(\u001b[0m\u001b[0mX_test_padded\u001b[0m\u001b[0;34m,\u001b[0m \u001b[0my_test\u001b[0m\u001b[0;34m)\u001b[0m\u001b[0;34m\u001b[0m\u001b[0;34m\u001b[0m\u001b[0m\n\u001b[0;32m----> 3\u001b[0;31m \u001b[0mprint\u001b[0m\u001b[0;34m(\u001b[0m\u001b[0;34m\"Accuracy: {}\"\u001b[0m\u001b[0;34m.\u001b[0m\u001b[0mformat\u001b[0m\u001b[0;34m(\u001b[0m\u001b[0macc\u001b[0m\u001b[0;34m[\u001b[0m\u001b[0;36m6\u001b[0m\u001b[0;34m]\u001b[0m\u001b[0;34m)\u001b[0m\u001b[0;34m)\u001b[0m\u001b[0;34m\u001b[0m\u001b[0;34m\u001b[0m\u001b[0m\n\u001b[0m",
      "\u001b[0;31mIndexError\u001b[0m: list index out of range"
     ]
    }
   ],
   "source": [
    "_,__, X_test_padded, b = create_token(X_test, max_seq_len)\n",
    "acc=em_model.evaluate(X_test_padded, y_test)\n",
    "print(\"Accuracy: {}\".format(acc[]))"
   ]
  },
  {
   "cell_type": "code",
   "execution_count": 108,
   "metadata": {},
   "outputs": [
    {
     "data": {
      "text/plain": [
       "[0.9686730824984037,\n",
       " 0.5917159914970398,\n",
       " 0.18618425726890564,\n",
       " 1.0,\n",
       " 0.1032169908285141]"
      ]
     },
     "execution_count": 108,
     "metadata": {},
     "output_type": "execute_result"
    }
   ],
   "source": [
    "acc"
   ]
  },
  {
   "cell_type": "markdown",
   "metadata": {},
   "source": [
    "# Creating LSTM Model"
   ]
  },
  {
   "cell_type": "code",
   "execution_count": 714,
   "metadata": {},
   "outputs": [],
   "source": [
    "def LSTM_model(max_words, max_phrase):\n",
    "  model = Sequential()\n",
    "  model.add(Embedding(input_dim = max_words, output_dim = 100, input_length = max_phrase))\n",
    "  model.add(SpatialDropout1D(0.3))\n",
    "  model.add(LSTM(128, dropout = 0.5, recurrent_dropout = 0.3))\n",
    "#   model.add(BatchNormalization())  \n",
    "  model.add(Dense(128, activation = 'relu'))\n",
    "  model.add(Dropout(0.5))\n",
    "  model.add(Dense(3, activation = 'softmax'))\n",
    "\n",
    "  model.compile(loss='categorical_crossentropy', optimizer=keras.optimizers.Adam(lr=1e-5),metrics=['accuracy'])\n",
    "  \n",
    "  model.summary()\n",
    "  return model\n",
    "\n",
    "class_weight = {0:0.65, 1: 0.10, 2:0.25}"
   ]
  },
  {
   "cell_type": "code",
   "execution_count": 153,
   "metadata": {},
   "outputs": [],
   "source": [
    "def fit_model2(model, pad_sequence, callback):\n",
    "  history = model.fit(pad_sequence, y_train, validation_data = (X_val_padded, y_val), epochs = 20, batch_size = 128, callbacks = [callback], class_weight = class_weight)\n",
    "  return model, history\n"
   ]
  },
  {
   "cell_type": "code",
   "execution_count": 160,
   "metadata": {},
   "outputs": [
    {
     "data": {
      "text/plain": [
       "(16852, 34)"
      ]
     },
     "execution_count": 160,
     "metadata": {},
     "output_type": "execute_result"
    }
   ],
   "source": [
    "X_train_pad.shape"
   ]
  },
  {
   "cell_type": "markdown",
   "metadata": {},
   "source": [
    "# Training LSTM Model"
   ]
  },
  {
   "cell_type": "code",
   "execution_count": 154,
   "metadata": {
    "scrolled": true
   },
   "outputs": [
    {
     "name": "stdout",
     "output_type": "stream",
     "text": [
      "Model: \"sequential_14\"\n",
      "_________________________________________________________________\n",
      "Layer (type)                 Output Shape              Param #   \n",
      "=================================================================\n",
      "embedding_14 (Embedding)     (None, 34, 100)           1626500   \n",
      "_________________________________________________________________\n",
      "spatial_dropout1d_14 (Spatia (None, 34, 100)           0         \n",
      "_________________________________________________________________\n",
      "lstm_14 (LSTM)               (None, 128)               117248    \n",
      "_________________________________________________________________\n",
      "dense_27 (Dense)             (None, 128)               16512     \n",
      "_________________________________________________________________\n",
      "dropout_14 (Dropout)         (None, 128)               0         \n",
      "_________________________________________________________________\n",
      "dense_28 (Dense)             (None, 3)                 387       \n",
      "=================================================================\n",
      "Total params: 1,760,647\n",
      "Trainable params: 1,760,647\n",
      "Non-trainable params: 0\n",
      "_________________________________________________________________\n"
     ]
    }
   ],
   "source": [
    "lstm_model = LSTM_model(len(word_index)+1, X_train_pad.shape[1])"
   ]
  },
  {
   "cell_type": "code",
   "execution_count": 155,
   "metadata": {
    "scrolled": false
   },
   "outputs": [],
   "source": [
    "# checkpoint_path = '/Users/ethan/py3tf/00checkpoint_play/cp-{epoch:04d}.ckpt'\n",
    "# checkpoint_loc = os.path.dirname(checkpoint_path)\n",
    "checkpoint_path = '/Users/ethan/py3tf/model_bestweight/lstm_hs_model_weights.h5'\n",
    "checkpt = keras.callbacks.ModelCheckpoint(checkpoint_path,monitor='val_accuracy',save_weights_only=True,save_best_only=True,verbose=1)\n",
    "# lstm_model2, lstm_hist2 = fit_model2(lstm_model, X_train_pad, checkpt)"
   ]
  },
  {
   "cell_type": "code",
   "execution_count": 156,
   "metadata": {
    "scrolled": true
   },
   "outputs": [
    {
     "name": "stdout",
     "output_type": "stream",
     "text": [
      "Train on 16852 samples, validate on 4213 samples\n",
      "Epoch 1/20\n",
      "16852/16852 [==============================] - 14s 849us/step - loss: 0.2108 - accuracy: 0.5507 - val_loss: 1.0797 - val_accuracy: 0.7774\n",
      "\n",
      "Epoch 00001: val_accuracy improved from -inf to 0.77736, saving model to /Users/ethan/py3tf/model_bestweight/lstm_hs_model_weights.h5\n",
      "Epoch 2/20\n",
      "16852/16852 [==============================] - 13s 799us/step - loss: 0.2084 - accuracy: 0.7460 - val_loss: 1.0521 - val_accuracy: 0.7776\n",
      "\n",
      "Epoch 00002: val_accuracy improved from 0.77736 to 0.77759, saving model to /Users/ethan/py3tf/model_bestweight/lstm_hs_model_weights.h5\n",
      "Epoch 3/20\n",
      "16852/16852 [==============================] - 13s 779us/step - loss: 0.2034 - accuracy: 0.7717 - val_loss: 0.9761 - val_accuracy: 0.7776\n",
      "\n",
      "Epoch 00003: val_accuracy did not improve from 0.77759\n",
      "Epoch 4/20\n",
      "16852/16852 [==============================] - 13s 777us/step - loss: 0.1922 - accuracy: 0.7726 - val_loss: 0.8124 - val_accuracy: 0.7776\n",
      "\n",
      "Epoch 00004: val_accuracy did not improve from 0.77759\n",
      "Epoch 5/20\n",
      "16852/16852 [==============================] - 13s 776us/step - loss: 0.1881 - accuracy: 0.7726 - val_loss: 0.7983 - val_accuracy: 0.7776\n",
      "\n",
      "Epoch 00005: val_accuracy did not improve from 0.77759\n",
      "Epoch 6/20\n",
      "16852/16852 [==============================] - 14s 820us/step - loss: 0.1870 - accuracy: 0.7726 - val_loss: 0.7917 - val_accuracy: 0.7776\n",
      "\n",
      "Epoch 00006: val_accuracy did not improve from 0.77759\n",
      "Epoch 7/20\n",
      "16852/16852 [==============================] - 14s 831us/step - loss: 0.1868 - accuracy: 0.7726 - val_loss: 0.7805 - val_accuracy: 0.7776\n",
      "\n",
      "Epoch 00007: val_accuracy did not improve from 0.77759\n",
      "Epoch 8/20\n",
      "16852/16852 [==============================] - 14s 859us/step - loss: 0.1866 - accuracy: 0.7726 - val_loss: 0.7810 - val_accuracy: 0.7776\n",
      "\n",
      "Epoch 00008: val_accuracy did not improve from 0.77759\n",
      "Epoch 9/20\n",
      "16852/16852 [==============================] - 16s 933us/step - loss: 0.1855 - accuracy: 0.7726 - val_loss: 0.7789 - val_accuracy: 0.7776\n",
      "\n",
      "Epoch 00009: val_accuracy did not improve from 0.77759\n",
      "Epoch 10/20\n",
      "16852/16852 [==============================] - 17s 1ms/step - loss: 0.1848 - accuracy: 0.7726 - val_loss: 0.7748 - val_accuracy: 0.7776\n",
      "\n",
      "Epoch 00010: val_accuracy did not improve from 0.77759\n",
      "Epoch 11/20\n",
      "16852/16852 [==============================] - 14s 808us/step - loss: 0.1852 - accuracy: 0.7726 - val_loss: 0.7741 - val_accuracy: 0.7776\n",
      "\n",
      "Epoch 00011: val_accuracy did not improve from 0.77759\n",
      "Epoch 12/20\n",
      "16852/16852 [==============================] - 14s 817us/step - loss: 0.1839 - accuracy: 0.7726 - val_loss: 0.7698 - val_accuracy: 0.7776\n",
      "\n",
      "Epoch 00012: val_accuracy did not improve from 0.77759\n",
      "Epoch 13/20\n",
      "16852/16852 [==============================] - 13s 797us/step - loss: 0.1834 - accuracy: 0.7726 - val_loss: 0.7654 - val_accuracy: 0.7776\n",
      "\n",
      "Epoch 00013: val_accuracy did not improve from 0.77759\n",
      "Epoch 14/20\n",
      "16852/16852 [==============================] - 14s 813us/step - loss: 0.1830 - accuracy: 0.7726 - val_loss: 0.7597 - val_accuracy: 0.7776\n",
      "\n",
      "Epoch 00014: val_accuracy did not improve from 0.77759\n",
      "Epoch 15/20\n",
      "16852/16852 [==============================] - 12s 729us/step - loss: 0.1829 - accuracy: 0.7726 - val_loss: 0.7621 - val_accuracy: 0.7776\n",
      "\n",
      "Epoch 00015: val_accuracy did not improve from 0.77759\n",
      "Epoch 16/20\n",
      "16852/16852 [==============================] - 12s 730us/step - loss: 0.1826 - accuracy: 0.7726 - val_loss: 0.7578 - val_accuracy: 0.7776\n",
      "\n",
      "Epoch 00016: val_accuracy did not improve from 0.77759\n",
      "Epoch 17/20\n",
      "16852/16852 [==============================] - 12s 728us/step - loss: 0.1814 - accuracy: 0.7726 - val_loss: 0.7572 - val_accuracy: 0.7776\n",
      "\n",
      "Epoch 00017: val_accuracy did not improve from 0.77759\n",
      "Epoch 18/20\n",
      "16852/16852 [==============================] - 13s 745us/step - loss: 0.1806 - accuracy: 0.7726 - val_loss: 0.7479 - val_accuracy: 0.7776\n",
      "\n",
      "Epoch 00018: val_accuracy did not improve from 0.77759\n",
      "Epoch 19/20\n",
      "16852/16852 [==============================] - 13s 757us/step - loss: 0.1804 - accuracy: 0.7726 - val_loss: 0.7474 - val_accuracy: 0.7776\n",
      "\n",
      "Epoch 00019: val_accuracy did not improve from 0.77759\n",
      "Epoch 20/20\n",
      "16852/16852 [==============================] - 13s 762us/step - loss: 0.1799 - accuracy: 0.7726 - val_loss: 0.7458 - val_accuracy: 0.7776\n",
      "\n",
      "Epoch 00020: val_accuracy did not improve from 0.77759\n"
     ]
    }
   ],
   "source": [
    "lstm_model2, lstm_hist2 = fit_model2(lstm_model, X_train_pad, checkpt)"
   ]
  },
  {
   "cell_type": "code",
   "execution_count": 147,
   "metadata": {},
   "outputs": [],
   "source": [
    "# Loads best weights monitored on highest validation accuracy\n",
    "lstm_model2.load_weights(checkpoint_path)"
   ]
  },
  {
   "cell_type": "code",
   "execution_count": 148,
   "metadata": {},
   "outputs": [
    {
     "data": {
      "image/png": "[encoded data removed]",
      "text/plain": [
       "<Figure size 432x288 with 1 Axes>"
      ]
     },
     "metadata": {
      "needs_background": "light"
     },
     "output_type": "display_data"
    },
    {
     "data": {
      "image/png": "[encoded data removed]",
      "text/plain": [
       "<Figure size 432x288 with 1 Axes>"
      ]
     },
     "metadata": {
      "needs_background": "light"
     },
     "output_type": "display_data"
    }
   ],
   "source": [
    "plot_model(lstm_hist2)"
   ]
  },
  {
   "cell_type": "code",
   "execution_count": 730,
   "metadata": {},
   "outputs": [],
   "source": [
    "from sklearn import metrics"
   ]
  },
  {
   "cell_type": "code",
   "execution_count": 151,
   "metadata": {},
   "outputs": [
    {
     "name": "stdout",
     "output_type": "stream",
     "text": [
      "LSTM accuracy hs: \n",
      "3718/3718 [==============================] - 1s 227us/step\n",
      "Accuracy: 0.787520170211792\n",
      "              precision    recall  f1-score   support\n",
      "\n",
      "           0       0.17      0.07      0.10       199\n",
      "           1       0.82      0.94      0.88      2894\n",
      "           2       0.57      0.30      0.39       625\n",
      "\n",
      "    accuracy                           0.79      3718\n",
      "   macro avg       0.52      0.44      0.46      3718\n",
      "weighted avg       0.75      0.79      0.76      3718\n",
      "\n"
     ]
    },
    {
     "data": {
      "image/png": "[encoded data removed]",
      "text/plain": [
       "<Figure size 432x288 with 2 Axes>"
      ]
     },
     "metadata": {
      "needs_background": "light"
     },
     "output_type": "display_data"
    }
   ],
   "source": [
    "print(\"LSTM accuracy hs: \")\n",
    "check_accuracy(lstm_model2, X_test, y_test)"
   ]
  },
  {
   "cell_type": "code",
   "execution_count": null,
   "metadata": {},
   "outputs": [],
   "source": [
    "!pip install h5py pyyaml"
   ]
  },
  {
   "cell_type": "code",
   "execution_count": 650,
   "metadata": {},
   "outputs": [],
   "source": [
    "# save_path = '/Users/ethan/py3tf'\n",
    "# model_name = \"lstm_sr_model.h5\"\n",
    "# model_hist = lstm_model.save(os.path.join(save_path,model_name))"
   ]
  },
  {
   "cell_type": "code",
   "execution_count": null,
   "metadata": {},
   "outputs": [],
   "source": [
    "# from keras.models import load_model\n",
    "# model2 = load_model(os.path.join(save_path,model_name))\n",
    "# print(\"before change\")\n",
    "# print(model2.get_weights())\n",
    "# checkpoint_loc ='/Users/ethan/py3tf/checkpoint_hs_sr/'\n",
    "# model2.load_weights(os.path.join(checkpoint_loc,\"cp-0001.ckpt\"))\n",
    "# print(\"after change\")\n",
    "# print(model2.get_weights())"
   ]
  },
  {
   "cell_type": "code",
   "execution_count": null,
   "metadata": {},
   "outputs": [],
   "source": [
    "    \n",
    "#   def focal_loss(gamma=2., alpha=4.):\n",
    "\n",
    "#     gamma = float(gamma)\n",
    "#     alpha = float(alpha)\n",
    "\n",
    "#     def focal_loss_fixed(y_true, y_pred):\n",
    "#         \"\"\"Focal loss for multi-classification\n",
    "#         FL(p_t)=-alpha(1-p_t)^{gamma}ln(p_t)\n",
    "#         Notice: y_pred is probability after softmax\n",
    "#         gradient is d(Fl)/d(p_t) not d(Fl)/d(x) as described in paper\n",
    "#         d(Fl)/d(p_t) * [p_t(1-p_t)] = d(Fl)/d(x)\n",
    "#         Focal Loss for Dense Object Detection\n",
    "#         https://arxiv.org/abs/1708.02002\n",
    "\n",
    "#         Arguments:\n",
    "#             y_true {tensor} -- ground truth labels, shape of [batch_size, num_cls]\n",
    "#             y_pred {tensor} -- model's output, shape of [batch_size, num_cls]\n",
    "\n",
    "#         Keyword Arguments:\n",
    "#             gamma {float} -- (default: {2.0})\n",
    "#             alpha {float} -- (default: {4.0})\n",
    "\n",
    "#         Returns:\n",
    "#             [tensor] -- loss.\n",
    "#         \"\"\"\n",
    "#         epsilon = 1.e-9\n",
    "#         y_true = tf.convert_to_tensor(y_true, tf.float32)\n",
    "#         y_pred = tf.convert_to_tensor(y_pred, tf.float32)\n",
    "\n",
    "#         model_out = tf.add(y_pred, epsilon)\n",
    "#         ce = tf.multiply(y_true, -tf.log(model_out))\n",
    "#         weight = tf.multiply(y_true, tf.pow(tf.subtract(1., model_out), gamma))\n",
    "#         fl = tf.multiply(alpha, tf.multiply(weight, ce))\n",
    "#         reduced_fl = tf.reduce_max(fl, axis=1)\n",
    "#         return tf.reduce_mean(reduced_fl)\n",
    "#     return focal_loss_fixed  \n",
    "#   model.compile(loss=focal_loss(alpha=4), optimizer='nadam', metrics=['accuracy'])  "
   ]
  },
  {
   "cell_type": "markdown",
   "metadata": {},
   "source": [
    "# CNN"
   ]
  },
  {
   "cell_type": "code",
   "execution_count": 75,
   "metadata": {},
   "outputs": [],
   "source": [
    "# Creating CNN model\n",
    "\n",
    "# Create embedding matrix for CNN\n",
    "def index_vector():\n",
    "  embeddings_index = {}\n",
    "  f = open('/Users/ethan/py3tf/project_nlp/glove.6B/glove.6B.100d.txt', encoding='utf-8')\n",
    "  for line in f:\n",
    "    values = line.split()\n",
    "    word = values[0]\n",
    "    coefs = np.asarray(values[1:], dtype='float32')\n",
    "    embeddings_index[word] = coefs\n",
    "  f.close()\n",
    "  return embeddings_index\n",
    "\n",
    "def create_embed_matrix(word_index, embeddings_index):\n",
    "  embedding_matrix = np.zeros((len(word_index) + 1, 100))\n",
    "  for word, i in tqdm(word_index.items()):\n",
    "    embedding_vector = embeddings_index.get(word)\n",
    "    if embedding_vector is not None:\n",
    "        embedding_matrix[i] = embedding_vector\n",
    "  return embedding_matrix\n",
    "\n",
    "\n",
    "\n",
    "def cnn_model(nb_words, embedding_matrix, max_seq_len, num_classes=3):\n",
    "  model = Sequential()\n",
    "  embed_dim=100\n",
    "  num_filters=64\n",
    "  model.add(Embedding(nb_words, embed_dim, weights=[embedding_matrix], input_length=max_seq_len, trainable=True))\n",
    "  model.add(Conv1D(num_filters, 7, activation='relu', padding='same'))\n",
    "  model.add(MaxPooling1D(2))\n",
    "  model.add(Conv1D(num_filters, 7, activation='relu', padding='same'))\n",
    "  model.add(GlobalMaxPooling1D())\n",
    "  model.add(Dropout(0.5))\n",
    "  model.add(Dense(32, activation='relu'))\n",
    "  model.add(Dense(num_classes, activation='sigmoid'))  #multi-label (k-hot encoding)\n",
    "\n",
    "  adam = optimizers.Adam(lr=0.003, beta_1=0.9, beta_2=0.999, epsilon=1e-08, decay=0.0)\n",
    "  model.compile(loss='binary_crossentropy', optimizer=adam, metrics=['accuracy'])\n",
    "  model.summary()\n",
    "  return model\n",
    "\n",
    "\n",
    "def fit_model(model, pad_sequence, callback):\n",
    "  history = model.fit(pad_sequence, y_train, validation_data = (X_val_padded, y_val), epochs = 10, batch_size = 128, callbacks = [callback])\n",
    "  return model, history\n"
   ]
  },
  {
   "cell_type": "markdown",
   "metadata": {},
   "source": [
    "# Train CNN"
   ]
  },
  {
   "cell_type": "code",
   "execution_count": 76,
   "metadata": {},
   "outputs": [
    {
     "name": "stderr",
     "output_type": "stream",
     "text": [
      "100%|██████████| 35882/35882 [00:00<00:00, 557174.28it/s]\n"
     ]
    }
   ],
   "source": [
    "embeddings_index=index_vector()\n",
    "embeddings_matrix=create_embed_matrix(word_index, embeddings_index)"
   ]
  },
  {
   "cell_type": "code",
   "execution_count": 77,
   "metadata": {},
   "outputs": [
    {
     "name": "stdout",
     "output_type": "stream",
     "text": [
      "Model: \"sequential_4\"\n",
      "_________________________________________________________________\n",
      "Layer (type)                 Output Shape              Param #   \n",
      "=================================================================\n",
      "embedding_4 (Embedding)      (None, 50, 100)           3588300   \n",
      "_________________________________________________________________\n",
      "conv1d_5 (Conv1D)            (None, 50, 64)            44864     \n",
      "_________________________________________________________________\n",
      "max_pooling1d_3 (MaxPooling1 (None, 25, 64)            0         \n",
      "_________________________________________________________________\n",
      "conv1d_6 (Conv1D)            (None, 25, 64)            28736     \n",
      "_________________________________________________________________\n",
      "global_max_pooling1d_3 (Glob (None, 64)                0         \n",
      "_________________________________________________________________\n",
      "dropout_4 (Dropout)          (None, 64)                0         \n",
      "_________________________________________________________________\n",
      "dense_7 (Dense)              (None, 32)                2080      \n",
      "_________________________________________________________________\n",
      "dense_8 (Dense)              (None, 3)                 99        \n",
      "=================================================================\n",
      "Total params: 3,664,079\n",
      "Trainable params: 3,664,079\n",
      "Non-trainable params: 0\n",
      "_________________________________________________________________\n"
     ]
    }
   ],
   "source": [
    "\n",
    "cnn_model = cnn_model(len(word_index)+1, embeddings_matrix, X_train_pad.shape[1])"
   ]
  },
  {
   "cell_type": "code",
   "execution_count": 78,
   "metadata": {},
   "outputs": [
    {
     "name": "stdout",
     "output_type": "stream",
     "text": [
      "Train on 84260 samples, validate on 4213 samples\n",
      "Epoch 1/10\n",
      "84260/84260 [==============================] - 47s 559us/step - loss: 0.2287 - accuracy: 0.9088 - val_loss: 0.6163 - val_accuracy: 0.8009\n",
      "\n",
      "Epoch 00001: saving model to /Users/ethan/py3tf/00checkpoint_hs_sr_rs_rd_ri_cnn/cp-0001.ckpt\n",
      "Epoch 2/10\n",
      "84260/84260 [==============================] - 48s 572us/step - loss: 0.1002 - accuracy: 0.9634 - val_loss: 0.8035 - val_accuracy: 0.8137\n",
      "\n",
      "Epoch 00002: saving model to /Users/ethan/py3tf/00checkpoint_hs_sr_rs_rd_ri_cnn/cp-0002.ckpt\n",
      "Epoch 3/10\n",
      "84260/84260 [==============================] - 47s 555us/step - loss: 0.0505 - accuracy: 0.9816 - val_loss: 1.0879 - val_accuracy: 0.8193\n",
      "\n",
      "Epoch 00003: saving model to /Users/ethan/py3tf/00checkpoint_hs_sr_rs_rd_ri_cnn/cp-0003.ckpt\n",
      "Epoch 4/10\n",
      "84260/84260 [==============================] - 47s 561us/step - loss: 0.0317 - accuracy: 0.9886 - val_loss: 1.1537 - val_accuracy: 0.8103\n",
      "\n",
      "Epoch 00004: saving model to /Users/ethan/py3tf/00checkpoint_hs_sr_rs_rd_ri_cnn/cp-0004.ckpt\n",
      "Epoch 5/10\n",
      "84260/84260 [==============================] - 48s 566us/step - loss: 0.0231 - accuracy: 0.9916 - val_loss: 1.4257 - val_accuracy: 0.7996\n",
      "\n",
      "Epoch 00005: saving model to /Users/ethan/py3tf/00checkpoint_hs_sr_rs_rd_ri_cnn/cp-0005.ckpt\n",
      "Epoch 6/10\n",
      "84260/84260 [==============================] - 48s 571us/step - loss: 0.0184 - accuracy: 0.9931 - val_loss: 1.5348 - val_accuracy: 0.8180\n",
      "\n",
      "Epoch 00006: saving model to /Users/ethan/py3tf/00checkpoint_hs_sr_rs_rd_ri_cnn/cp-0006.ckpt\n",
      "Epoch 7/10\n",
      "84260/84260 [==============================] - 49s 583us/step - loss: 0.0151 - accuracy: 0.9945 - val_loss: 1.5763 - val_accuracy: 0.7995\n",
      "\n",
      "Epoch 00007: saving model to /Users/ethan/py3tf/00checkpoint_hs_sr_rs_rd_ri_cnn/cp-0007.ckpt\n",
      "Epoch 8/10\n",
      "84260/84260 [==============================] - 50s 589us/step - loss: 0.0134 - accuracy: 0.9950 - val_loss: 1.6898 - val_accuracy: 0.8165\n",
      "\n",
      "Epoch 00008: saving model to /Users/ethan/py3tf/00checkpoint_hs_sr_rs_rd_ri_cnn/cp-0008.ckpt\n",
      "Epoch 9/10\n",
      "84260/84260 [==============================] - 45s 531us/step - loss: 0.0117 - accuracy: 0.9957 - val_loss: 1.7156 - val_accuracy: 0.8259\n",
      "\n",
      "Epoch 00009: saving model to /Users/ethan/py3tf/00checkpoint_hs_sr_rs_rd_ri_cnn/cp-0009.ckpt\n",
      "Epoch 10/10\n",
      "84260/84260 [==============================] - 51s 609us/step - loss: 0.0105 - accuracy: 0.9962 - val_loss: 1.6229 - val_accuracy: 0.8055\n",
      "\n",
      "Epoch 00010: saving model to /Users/ethan/py3tf/00checkpoint_hs_sr_rs_rd_ri_cnn/cp-0010.ckpt\n"
     ]
    }
   ],
   "source": [
    "\n",
    "checkpoint_path1 = '/Users/ethan/py3tf/00checkpoint_hs_sr_rs_rd_ri_cnn/cp-{epoch:04d}.ckpt'\n",
    "checkpoint_loc1 = os.path.dirname(checkpoint_path1)\n",
    "checkpt1 = keras.callbacks.ModelCheckpoint(checkpoint_path1,save_weights_only=True,verbose=1,period=1)\n",
    "\n",
    "cnn_model, cnn_hist = fit_model(cnn_model, X_train_pad, checkpt1)"
   ]
  },
  {
   "cell_type": "code",
   "execution_count": 81,
   "metadata": {},
   "outputs": [
    {
     "data": {
      "image/png": "[encoded data removed]",
      "text/plain": [
       "<Figure size 432x288 with 1 Axes>"
      ]
     },
     "metadata": {
      "needs_background": "light"
     },
     "output_type": "display_data"
    },
    {
     "data": {
      "image/png": "[encoded data removed]",
      "text/plain": [
       "<Figure size 432x288 with 1 Axes>"
      ]
     },
     "metadata": {
      "needs_background": "light"
     },
     "output_type": "display_data"
    }
   ],
   "source": [
    "plt.plot(cnn_hist.history['accuracy'])\n",
    "plt.plot(cnn_hist.history['val_accuracy'])\n",
    "plt.title('model accuracy')\n",
    "plt.ylabel('accuracy')\n",
    "plt.xlabel('epoch')\n",
    "plt.legend(['train', 'val'], loc='upper left')\n",
    "plt.show()\n",
    "# summarize history for loss\n",
    "plt.plot(cnn_hist.history['loss'])\n",
    "plt.plot(cnn_hist.history['val_loss'])\n",
    "plt.title('model loss')\n",
    "plt.ylabel('loss')\n",
    "plt.xlabel('epoch')\n",
    "plt.legend(['train', 'val'], loc='upper left')\n",
    "plt.show()"
   ]
  },
  {
   "cell_type": "code",
   "execution_count": 82,
   "metadata": {},
   "outputs": [
    {
     "name": "stdout",
     "output_type": "stream",
     "text": [
      "CNN accuracy : \n",
      "3718/3718 [==============================] - 0s 68us/step\n",
      "Accuracy: 0.9159942269325256\n",
      "              precision    recall  f1-score   support\n",
      "\n",
      "           0       0.33      0.32      0.32       199\n",
      "           1       0.91      0.94      0.93      2894\n",
      "           2       0.84      0.73      0.78       625\n",
      "\n",
      "    accuracy                           0.87      3718\n",
      "   macro avg       0.70      0.66      0.68      3718\n",
      "weighted avg       0.87      0.87      0.87      3718\n",
      "\n"
     ]
    },
    {
     "data": {
      "image/png": "[encoded data removed]",
      "text/plain": [
       "<Figure size 432x288 with 2 Axes>"
      ]
     },
     "metadata": {
      "needs_background": "light"
     },
     "output_type": "display_data"
    }
   ],
   "source": [
    "print(\"CNN accuracy : \")\n",
    "check_accuracy(cnn_model, X_test, y_test)"
   ]
  },
  {
   "cell_type": "code",
   "execution_count": 53,
   "metadata": {},
   "outputs": [],
   "source": [
    "save_path = '/Users/ethan/py3tf'\n",
    "model_name = \"cnn_sr_rs_rd_ri_model.h5\"\n",
    "model_hist = lstm_model.save(os.path.join(save_path,model_name))"
   ]
  },
  {
   "cell_type": "markdown",
   "metadata": {},
   "source": [
    "# Regression"
   ]
  },
  {
   "cell_type": "code",
   "execution_count": 83,
   "metadata": {},
   "outputs": [
    {
     "data": {
      "text/plain": [
       "LogisticRegression(C=5, multi_class='multinomial', n_jobs=4, random_state=17)"
      ]
     },
     "execution_count": 83,
     "metadata": {},
     "output_type": "execute_result"
    }
   ],
   "source": [
    "text_transformer = TfidfVectorizer(stop_words='english', ngram_range=(1, 2), lowercase=True, max_features=10000)\n",
    "\n",
    "X_train_text = text_transformer.fit_transform(X_train)\n",
    "X_test_text = text_transformer.transform(X_test)\n",
    "\n",
    "logit = LogisticRegression(C=5, solver='lbfgs', multi_class='multinomial', random_state=17, n_jobs=4)\n",
    "skf = StratifiedKFold(n_splits=5, shuffle=True, random_state=17)\n",
    "\n",
    "y_train_org = np.argmax(y_train, axis=1)\n",
    "y_test_org = np.argmax(y_test, axis=1)\n",
    "\n",
    "cv_results = cross_val_score(logit, X_train_text, y_train_org, cv=skf, scoring='f1_micro')\n",
    "logit.fit(X_train_text, y_train_org)"
   ]
  },
  {
   "cell_type": "code",
   "execution_count": 84,
   "metadata": {},
   "outputs": [
    {
     "name": "stdout",
     "output_type": "stream",
     "text": [
      "Logistic regression accuracy : \n",
      "              precision    recall  f1-score   support\n",
      "\n",
      "           0       0.44      0.26      0.33       199\n",
      "           1       0.91      0.96      0.93      2894\n",
      "           2       0.84      0.76      0.80       625\n",
      "\n",
      "    accuracy                           0.89      3718\n",
      "   macro avg       0.73      0.66      0.69      3718\n",
      "weighted avg       0.87      0.89      0.88      3718\n",
      "\n"
     ]
    },
    {
     "data": {
      "image/png": "[encoded data removed]",
      "text/plain": [
       "<Figure size 432x288 with 2 Axes>"
      ]
     },
     "metadata": {
      "needs_background": "light"
     },
     "output_type": "display_data"
    }
   ],
   "source": [
    "print(\"Logistic regression accuracy : \")\n",
    "logit.score(X_test_text, y_test_org)\n",
    "y_pred = logit.predict(X_test_text)\n",
    "y_test_=np.argmax(y_test, axis=1)\n",
    "print(metrics.classification_report(y_test_, y_pred))\n",
    "cm = confusion_matrix(y_test_, y_pred, normalize='true')\n",
    "\n",
    "np.set_printoptions(precision=2)\n",
    "# cm = confusion_matrix(y_test, y_pred)\n",
    "\n",
    "cm_display = ConfusionMatrixDisplay(cm, display_labels=label.values()).plot(cmap=plt.cm.Blues)"
   ]
  },
  {
   "cell_type": "code",
   "execution_count": null,
   "metadata": {},
   "outputs": [],
   "source": []
  }
 ],
 "metadata": {
  "kernelspec": {
   "display_name": "py3tf",
   "language": "python",
   "name": "py3tf"
  },
  "language_info": {
   "codemirror_mode": {
    "name": "ipython",
    "version": 3
   },
   "file_extension": ".py",
   "mimetype": "text/x-python",
   "name": "python",
   "nbconvert_exporter": "python",
   "pygments_lexer": "ipython3",
   "version": "3.7.4"
  }
 },
 "nbformat": 4,
 "nbformat_minor": 2
}
