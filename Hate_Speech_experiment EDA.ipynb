{
 "cells": [
  {
   "cell_type": "markdown",
   "metadata": {
    "colab_type": "text",
    "id": "Pj2kEtlTbFSH"
   },
   "source": [
    " Importing data and libraries"
   ]
  },
  {
   "cell_type": "code",
   "execution_count": 33,
   "metadata": {
    "colab": {},
    "colab_type": "code",
    "id": "IYFKUV8ZOc4X"
   },
   "outputs": [],
   "source": [
    "import numpy as np\n",
    "import pandas as pd\n",
    "import matplotlib.pyplot as plt\n",
    "import seaborn as sns\n",
    "from tqdm import tqdm\n",
    "import re\n",
    "from sklearn.model_selection import train_test_split, cross_val_score, StratifiedKFold \n",
    "from sklearn.preprocessing import LabelEncoder\n",
    "from sklearn.metrics import precision_score, recall_score, accuracy_score, f1_score, confusion_matrix\n",
    "from keras.preprocessing.text import Tokenizer\n",
    "from keras.preprocessing import sequence\n",
    "from keras.utils import to_categorical\n",
    "from keras import optimizers\n",
    "from keras.models import Sequential, Model\n",
    "from keras.layers import LSTM, SpatialDropout1D, Activation, GlobalAveragePooling1D, Dense, Input, Dropout, Embedding, Conv1D, MaxPooling1D, GlobalMaxPooling1D\n",
    "from sklearn.linear_model import LogisticRegression\n",
    "from sklearn.feature_extraction.text import TfidfVectorizer\n",
    "from scipy.sparse import hstack\n",
    "from sklearn.metrics import ConfusionMatrixDisplay\n",
    "import random\n",
    "\n",
    "%matplotlib inline\n",
    "\n",
    "import warnings\n",
    "warnings.filterwarnings('ignore')"
   ]
  },
  {
   "cell_type": "code",
   "execution_count": 34,
   "metadata": {
    "colab": {},
    "colab_type": "code",
    "id": "ttSZ2DcWrj5J"
   },
   "outputs": [
    {
     "data": {
      "text/plain": [
       "'2.3.1'"
      ]
     },
     "execution_count": 34,
     "metadata": {},
     "output_type": "execute_result"
    }
   ],
   "source": [
    "import keras\n",
    "keras.__version__"
   ]
  },
  {
   "cell_type": "code",
   "execution_count": 35,
   "metadata": {
    "colab": {},
    "colab_type": "code",
    "id": "1ZxAtymmOufT"
   },
   "outputs": [],
   "source": [
    "# Load dataset\n",
    "def load_data():\n",
    "  data=pd.read_csv('https://raw.githubusercontent.com/t-davidson/hate-speech-and-offensive-language/master/data/labeled_data.csv')\n",
    "  data=data.drop('Unnamed: 0', axis=1)\n",
    "  data=data.drop(labels=['hate_speech', 'offensive_language', 'neither', 'count'], axis=1)\n",
    "  return data"
   ]
  },
  {
   "cell_type": "code",
   "execution_count": 36,
   "metadata": {
    "colab": {},
    "colab_type": "code",
    "id": "uGMySd7rSR4L"
   },
   "outputs": [],
   "source": [
    "label={0:'hate_speech', 1:'offensive_language', 2:'neither'}"
   ]
  },
  {
   "cell_type": "code",
   "execution_count": 37,
   "metadata": {
    "colab": {},
    "colab_type": "code",
    "id": "THno6BlJRS4i"
   },
   "outputs": [],
   "source": [
    "# Plot data by target class\n",
    "def plot(data):\n",
    "  sns.countplot(data['class'])\n",
    "  plt.xlabel('Class')\n",
    "  plt.title('Distribution of data in each class')\n",
    "  plt.ylabel('Count')\n",
    "  plt.show()"
   ]
  },
  {
   "cell_type": "markdown",
   "metadata": {
    "colab_type": "text",
    "id": "_N85T_YU7GjP"
   },
   "source": [
    " Cleaning tweets"
   ]
  },
  {
   "cell_type": "code",
   "execution_count": 38,
   "metadata": {
    "colab": {},
    "colab_type": "code",
    "id": "kuL5Tn856B7Z"
   },
   "outputs": [],
   "source": [
    "# Data cleaning\n",
    "def clean_text(data):\n",
    "  for i in range(len(data)):\n",
    "    txt = data.loc[i][\"tweet\"]\n",
    "    txt=re.sub(r'@[A-Z0-9a-z_:]+','',txt) #replace username-tags\n",
    "    txt=re.sub(r'^[RT]+','',txt) #replace RT-tags\n",
    "    txt = re.sub('https?://[A-Za-z0-9./]+','',txt) #replace URLs\n",
    "    txt=re.sub(\"[^a-zA-Z]\", \" \",txt) #replace hashtags\n",
    "    data.at[i,\"tweet\"]=txt\n",
    "  return data"
   ]
  },
  {
   "cell_type": "code",
   "execution_count": 39,
   "metadata": {
    "colab": {},
    "colab_type": "code",
    "id": "hX8zo2doHz91"
   },
   "outputs": [
    {
     "name": "stderr",
     "output_type": "stream",
     "text": [
      "[nltk_data] Downloading package punkt to /Users/ethan/nltk_data...\n",
      "[nltk_data]   Package punkt is already up-to-date!\n",
      "[nltk_data] Downloading package stopwords to /Users/ethan/nltk_data...\n",
      "[nltk_data]   Package stopwords is already up-to-date!\n",
      "[nltk_data] Downloading package wordnet to /Users/ethan/nltk_data...\n",
      "[nltk_data]   Package wordnet is already up-to-date!\n"
     ]
    }
   ],
   "source": [
    "import nltk\n",
    "from nltk.corpus import stopwords\n",
    "nltk.download('punkt')\n",
    "nltk.download('stopwords')\n",
    "nltk.download('wordnet')\n",
    "stop_words = stopwords.words('english')"
   ]
  },
  {
   "cell_type": "code",
   "execution_count": 40,
   "metadata": {
    "colab": {},
    "colab_type": "code",
    "id": "5Zun8_krN9g7"
   },
   "outputs": [],
   "source": [
    "from nltk.corpus import wordnet \n",
    "\n",
    "def synonym_replacement(words, n):\n",
    "\tnew_words = words.copy()\n",
    "\trandom_word_list = list(set([word for word in words if word not in stop_words]))\n",
    "\trandom.shuffle(random_word_list)\n",
    "\tnum_replaced = 0\n",
    "\tfor random_word in random_word_list:\n",
    "\t\tsynonyms = get_synonyms(random_word)\n",
    "\t\tif len(synonyms) >= 1:\n",
    "\t\t\tsynonym = random.choice(list(synonyms))\n",
    "\t\t\tnew_words = [synonym if word == random_word else word for word in new_words]\n",
    "\t\t\t# print(\"replaced\", random_word, \"with\", synonym)\n",
    "\t\t\tnum_replaced += 1\n",
    "\t\tif num_replaced >= n: #only replace up to n words\n",
    "\t\t\tbreak\n",
    "\n",
    "\treturn new_words\n",
    "\n",
    "def get_synonyms(word):\n",
    "\tsynonyms = set()\n",
    "\tfor syn in wordnet.synsets(word): \n",
    "\t\tfor l in syn.lemmas(): \n",
    "\t\t\tsynonym = l.name().replace(\"_\", \" \").replace(\"-\", \" \").lower()\n",
    "\t\t\tsynonym = \"\".join([char for char in synonym if char in ' qwertyuiopasdfghjklzxcvbnm'])\n",
    "\t\t\tsynonyms.add(synonym) \n",
    "\tif word in synonyms:\n",
    "\t\tsynonyms.remove(word)\n",
    "\treturn list(synonyms)\n",
    " "
   ]
  },
  {
   "cell_type": "code",
   "execution_count": 41,
   "metadata": {
    "colab": {},
    "colab_type": "code",
    "id": "iRLNyq_SH0EF"
   },
   "outputs": [],
   "source": [
    "def random_deletion(words, p):\n",
    "\n",
    "\t#if there's only one word, don't delete it\n",
    "\tif len(words) == 1:\n",
    "\t\treturn words\n",
    "\n",
    "\t#randomly delete words with probability p\n",
    "\tnew_words = []\n",
    "\tfor word in words:\n",
    "\t\tr = random.uniform(0, 1)\n",
    "\t\tif r > p:\n",
    "\t\t\tnew_words.append(word)\n",
    "\n",
    "\t#if you end up deleting all words, just return a random word\n",
    "\tif len(new_words) == 0:\n",
    "\t\trand_int = random.randint(0, len(words)-1)\n",
    "\t\treturn [words[rand_int]]\n",
    "\n",
    "\treturn new_words\n",
    "\n",
    "\n"
   ]
  },
  {
   "cell_type": "code",
   "execution_count": 42,
   "metadata": {
    "colab": {},
    "colab_type": "code",
    "id": "ALLbS2_wH0HU"
   },
   "outputs": [],
   "source": [
    "def random_swap(words, n):\n",
    "  sent = \"\"\n",
    "  new_words = words.copy()\n",
    "  for _ in range(n):\n",
    "    new_words = swap_word(new_words)\n",
    "  return new_words\n",
    "\n",
    "def swap_word(new_words):\n",
    "\trandom_idx_1 = random.randint(0, len(new_words)-1)\n",
    "\trandom_idx_2 = random_idx_1\n",
    "\tcounter = 0\n",
    "\twhile random_idx_2 == random_idx_1:\n",
    "\t\trandom_idx_2 = random.randint(0, len(new_words)-1)\n",
    "\t\tcounter += 1\n",
    "\t\tif counter > 3:\n",
    "\t\t\treturn new_words\n",
    "\tnew_words[random_idx_1], new_words[random_idx_2] = new_words[random_idx_2], new_words[random_idx_1] \n",
    "\treturn new_words\n"
   ]
  },
  {
   "cell_type": "code",
   "execution_count": 43,
   "metadata": {
    "colab": {},
    "colab_type": "code",
    "id": "A709a3u_H0MF"
   },
   "outputs": [],
   "source": [
    "def random_addition(words, n):\n",
    "\tnew_words = words.copy()\n",
    "\tfor _ in range(n):\n",
    "\t\tadd_word(new_words)\n",
    "\treturn new_words\n",
    "\n",
    "def add_word(new_words):\n",
    "\tsynonyms = []\n",
    "\tcounter = 0\n",
    "\twhile len(synonyms) < 1:\n",
    "\t\trandom_word = new_words[random.randint(0, len(new_words)-1)]\n",
    "\t\tsynonyms = get_synonyms(random_word)\n",
    "\t\tcounter += 1\n",
    "\t\tif counter >= 10:\n",
    "\t\t\treturn\n",
    "\trandom_synonym = synonyms[0]\n",
    "\trandom_idx = random.randint(0, len(new_words)-1)\n",
    "\tnew_words.insert(random_idx, random_synonym)\n",
    "\n"
   ]
  },
  {
   "cell_type": "code",
   "execution_count": 44,
   "metadata": {
    "colab": {},
    "colab_type": "code",
    "id": "ATE9tdLOSK45"
   },
   "outputs": [],
   "source": [
    "# Splitting data into train-test with 15 as testset\n",
    "def split_data(data):\n",
    "  X=data['tweet']\n",
    "  Y=data['class'].values\n",
    "  Y=to_categorical(Y)\n",
    "  X_train, X_test, y_train, y_test=train_test_split(X, Y, test_size=0.15)\n",
    "  return X_train, y_train, X_test, y_test"
   ]
  },
  {
   "cell_type": "code",
   "execution_count": 45,
   "metadata": {
    "colab": {},
    "colab_type": "code",
    "id": "YX8622JvUIba"
   },
   "outputs": [],
   "source": [
    "# Data pre-processing\n",
    "#token.word_index gives me the total vocabulary of the training data\n",
    "#Creating vectorizer for LSTM\n",
    "def create_token(X):\n",
    "  token=Tokenizer() # Define Tokenizer\n",
    "  token.fit_on_texts(X) # Train tokenizer\n",
    "  word_index = token.word_index\n",
    "  \n",
    "  sequences=token.texts_to_sequences(X) # apply tokenizer on data\n",
    "  pad_sequence=sequence.pad_sequences(sequences) # padding token sequernces to provide it as input\n",
    "  #applying padding to ensure equal size of sequences.. length of padding matrix gives the size of input data\n",
    "  return token, pad_sequence, word_index"
   ]
  },
  {
   "cell_type": "markdown",
   "metadata": {
    "colab_type": "text",
    "id": "16mmKblBbTG0"
   },
   "source": [
    "# Creating LSTM model"
   ]
  },
  {
   "cell_type": "code",
   "execution_count": 57,
   "metadata": {
    "colab": {},
    "colab_type": "code",
    "id": "8QAmQWZ5ayS_"
   },
   "outputs": [],
   "source": [
    "def LSTM_model(max_words, max_phrase):\n",
    "  model = Sequential()\n",
    "  model.add(Embedding(input_dim = max_words, output_dim = 100, input_length = max_phrase))\n",
    "  model.add(SpatialDropout1D(0.3))\n",
    "  model.add(LSTM(256, dropout = 0.3, recurrent_dropout = 0.3))\n",
    "  model.add(Dense(256, activation = 'relu'))\n",
    "  model.add(Dropout(0.3))\n",
    "  model.add(Dense(3, activation = 'softmax'))\n",
    "  model.compile(loss='categorical_crossentropy', optimizer='Adam',metrics=['accuracy'])\n",
    "  model.summary()\n",
    "  return model"
   ]
  },
  {
   "cell_type": "code",
   "execution_count": 58,
   "metadata": {
    "colab": {},
    "colab_type": "code",
    "id": "yM_haKeSdtOD"
   },
   "outputs": [],
   "source": [
    "def fit_model(model, pad_sequence, epochs=10, y_train = y_train):\n",
    "  history = model.fit(pad_sequence, y_train, validation_split = 0.2, epochs = epochs, batch_size = 128)\n",
    "  return model, history"
   ]
  },
  {
   "cell_type": "code",
   "execution_count": 59,
   "metadata": {
    "colab": {},
    "colab_type": "code",
    "id": "eE5sOvLzd-RN"
   },
   "outputs": [],
   "source": [
    "def plot_model(hist):\n",
    "  plt.figure(figsize=(10, 6))\n",
    "  plt.subplot(1, 2, 1)\n",
    "  plt.title('Accuracy')\n",
    "  n = len(hist.history['accuracy'])\n",
    "  plt.plot(np.arange(0, n), hist.history['accuracy'], label='Training accuracy')\n",
    "  plt.plot(np.arange(0, n), hist.history['val_accuracy'], label='Val_accuracy')\n",
    "  plt.xlabel('Epochs')\n",
    "  plt.ylabel('Accuracy')\n",
    "  plt.legend()\n",
    "\n",
    "  plt.subplot(1, 2, 2)\n",
    "  plt.title('Loss')\n",
    "  plt.plot(np.arange(0, n), hist.history['loss'], label='Training loss')\n",
    "  plt.plot(np.arange(0, n), hist.history['val_loss'],label='Val_loss')\n",
    "  plt.xlabel('Epochs')\n",
    "  plt.ylabel('Loss')\n",
    "  plt.legend()\n",
    "\n",
    "  plt.show()"
   ]
  },
  {
   "cell_type": "markdown",
   "metadata": {
    "colab_type": "text",
    "id": "GUuEGpIIAcO5"
   },
   "source": [
    "Load dataset"
   ]
  },
  {
   "cell_type": "code",
   "execution_count": 60,
   "metadata": {
    "colab": {},
    "colab_type": "code",
    "id": "m3vG8YMyshZF"
   },
   "outputs": [
    {
     "data": {
      "text/html": [
       "<div>\n",
       "<style scoped>\n",
       "    .dataframe tbody tr th:only-of-type {\n",
       "        vertical-align: middle;\n",
       "    }\n",
       "\n",
       "    .dataframe tbody tr th {\n",
       "        vertical-align: top;\n",
       "    }\n",
       "\n",
       "    .dataframe thead th {\n",
       "        text-align: right;\n",
       "    }\n",
       "</style>\n",
       "<table border=\"1\" class=\"dataframe\">\n",
       "  <thead>\n",
       "    <tr style=\"text-align: right;\">\n",
       "      <th></th>\n",
       "      <th>class</th>\n",
       "      <th>tweet</th>\n",
       "    </tr>\n",
       "  </thead>\n",
       "  <tbody>\n",
       "    <tr>\n",
       "      <td>0</td>\n",
       "      <td>2</td>\n",
       "      <td>!!! RT @mayasolovely: As a woman you shouldn't...</td>\n",
       "    </tr>\n",
       "    <tr>\n",
       "      <td>1</td>\n",
       "      <td>1</td>\n",
       "      <td>!!!!! RT @mleew17: boy dats cold...tyga dwn ba...</td>\n",
       "    </tr>\n",
       "    <tr>\n",
       "      <td>2</td>\n",
       "      <td>1</td>\n",
       "      <td>!!!!!!! RT @UrKindOfBrand Dawg!!!! RT @80sbaby...</td>\n",
       "    </tr>\n",
       "    <tr>\n",
       "      <td>3</td>\n",
       "      <td>1</td>\n",
       "      <td>!!!!!!!!! RT @C_G_Anderson: @viva_based she lo...</td>\n",
       "    </tr>\n",
       "    <tr>\n",
       "      <td>4</td>\n",
       "      <td>1</td>\n",
       "      <td>!!!!!!!!!!!!! RT @ShenikaRoberts: The shit you...</td>\n",
       "    </tr>\n",
       "  </tbody>\n",
       "</table>\n",
       "</div>"
      ],
      "text/plain": [
       "   class                                              tweet\n",
       "0      2  !!! RT @mayasolovely: As a woman you shouldn't...\n",
       "1      1  !!!!! RT @mleew17: boy dats cold...tyga dwn ba...\n",
       "2      1  !!!!!!! RT @UrKindOfBrand Dawg!!!! RT @80sbaby...\n",
       "3      1  !!!!!!!!! RT @C_G_Anderson: @viva_based she lo...\n",
       "4      1  !!!!!!!!!!!!! RT @ShenikaRoberts: The shit you..."
      ]
     },
     "execution_count": 60,
     "metadata": {},
     "output_type": "execute_result"
    }
   ],
   "source": [
    "data = load_data()\n",
    "data.head()"
   ]
  },
  {
   "cell_type": "code",
   "execution_count": 61,
   "metadata": {
    "colab": {},
    "colab_type": "code",
    "id": "-4Ry1QaYsiCh"
   },
   "outputs": [
    {
     "data": {
      "image/png": "[encoded data removed]",
      "text/plain": [
       "<Figure size 432x288 with 1 Axes>"
      ]
     },
     "metadata": {
      "needs_background": "light"
     },
     "output_type": "display_data"
    }
   ],
   "source": [
    "plot(data)"
   ]
  },
  {
   "cell_type": "code",
   "execution_count": 62,
   "metadata": {
    "colab": {},
    "colab_type": "code",
    "id": "n_XyqAl-siZE"
   },
   "outputs": [
    {
     "name": "stdout",
     "output_type": "stream",
     "text": [
      "Length of train data: 21065\n",
      "Length of test data: 3718\n"
     ]
    }
   ],
   "source": [
    "data = clean_text(data)\n",
    "X_train, y_train, X_test, y_test = split_data(data)\n",
    "print(\"Length of train data: {}\".format(X_train.shape[0]))\n",
    "print(\"Length of test data: {}\".format(X_test.shape[0]))"
   ]
  },
  {
   "cell_type": "code",
   "execution_count": 63,
   "metadata": {
    "colab": {},
    "colab_type": "code",
    "id": "q70ScZnhshve"
   },
   "outputs": [],
   "source": [
    "token, train_pad, word_index = create_token(X_train)"
   ]
  },
  {
   "cell_type": "code",
   "execution_count": 64,
   "metadata": {
    "colab": {},
    "colab_type": "code",
    "id": "Z876Uwym2wwC"
   },
   "outputs": [
    {
     "data": {
      "text/plain": [
       "'    RT  As a woman you shouldn t complain about cleaning up your house   amp  as a man you should always take the trash out   '"
      ]
     },
     "execution_count": 64,
     "metadata": {},
     "output_type": "execute_result"
    }
   ],
   "source": [
    "data['tweet'][0]"
   ]
  },
  {
   "cell_type": "code",
   "execution_count": 65,
   "metadata": {
    "colab": {},
    "colab_type": "code",
    "id": "WBDhxBAG4Qxc"
   },
   "outputs": [],
   "source": [
    "data_20 = data[:][:int(0.2*len(data))] # fixed 0.2 data for testing\n",
    "data_80 = data[:][:int(-0.2*len(data))] # train model on 0.8 dataset"
   ]
  },
  {
   "cell_type": "code",
   "execution_count": 66,
   "metadata": {
    "colab": {},
    "colab_type": "code",
    "id": "8g5IgFvx6tKc"
   },
   "outputs": [
    {
     "name": "stdout",
     "output_type": "stream",
     "text": [
      "Complete\n"
     ]
    }
   ],
   "source": [
    "if len(data_20) + len(data_80) == len(data):\n",
    "  print(\"Complete\")"
   ]
  },
  {
   "cell_type": "code",
   "execution_count": 67,
   "metadata": {
    "colab": {},
    "colab_type": "code",
    "id": "D0HpVCfJOPME"
   },
   "outputs": [
    {
     "data": {
      "text/html": [
       "<div>\n",
       "<style scoped>\n",
       "    .dataframe tbody tr th:only-of-type {\n",
       "        vertical-align: middle;\n",
       "    }\n",
       "\n",
       "    .dataframe tbody tr th {\n",
       "        vertical-align: top;\n",
       "    }\n",
       "\n",
       "    .dataframe thead th {\n",
       "        text-align: right;\n",
       "    }\n",
       "</style>\n",
       "<table border=\"1\" class=\"dataframe\">\n",
       "  <thead>\n",
       "    <tr style=\"text-align: right;\">\n",
       "      <th></th>\n",
       "      <th>class</th>\n",
       "      <th>tweet</th>\n",
       "    </tr>\n",
       "  </thead>\n",
       "  <tbody>\n",
       "    <tr>\n",
       "      <td>0</td>\n",
       "      <td>2</td>\n",
       "      <td>RTAs a fair sex you shouldn t sound off about ...</td>\n",
       "    </tr>\n",
       "    <tr>\n",
       "      <td>1</td>\n",
       "      <td>1</td>\n",
       "      <td>RTboy digital audiotape stale tyga dwn defecti...</td>\n",
       "    </tr>\n",
       "    <tr>\n",
       "      <td>2</td>\n",
       "      <td>1</td>\n",
       "      <td>RTDawg RTYou always roll in the hay a cunt and...</td>\n",
       "    </tr>\n",
       "    <tr>\n",
       "      <td>3</td>\n",
       "      <td>1</td>\n",
       "      <td>RT she flavour same a tranny</td>\n",
       "    </tr>\n",
       "    <tr>\n",
       "      <td>4</td>\n",
       "      <td>1</td>\n",
       "      <td>RTThe dickhead you get wind about me power be ...</td>\n",
       "    </tr>\n",
       "  </tbody>\n",
       "</table>\n",
       "</div>"
      ],
      "text/plain": [
       "   class                                              tweet\n",
       "0      2  RTAs a fair sex you shouldn t sound off about ...\n",
       "1      1  RTboy digital audiotape stale tyga dwn defecti...\n",
       "2      1  RTDawg RTYou always roll in the hay a cunt and...\n",
       "3      1                       RT she flavour same a tranny\n",
       "4      1  RTThe dickhead you get wind about me power be ..."
      ]
     },
     "execution_count": 67,
     "metadata": {},
     "output_type": "execute_result"
    }
   ],
   "source": [
    "n = 9\n",
    "data_sr = data_80.copy(deep=True)\n",
    "for m,i in enumerate(data_80['tweet']):\n",
    "  i = i.replace('  ', '')\n",
    "  j = nltk.word_tokenize(i)\n",
    "  data_sr['tweet'][m] = ' '.join(synonym_replacement(j, n))\n",
    "\n",
    "data_sr.head()"
   ]
  },
  {
   "cell_type": "code",
   "execution_count": 68,
   "metadata": {
    "colab": {},
    "colab_type": "code",
    "id": "UMEB38tRVTEM"
   },
   "outputs": [
    {
     "data": {
      "text/html": [
       "<div>\n",
       "<style scoped>\n",
       "    .dataframe tbody tr th:only-of-type {\n",
       "        vertical-align: middle;\n",
       "    }\n",
       "\n",
       "    .dataframe tbody tr th {\n",
       "        vertical-align: top;\n",
       "    }\n",
       "\n",
       "    .dataframe thead th {\n",
       "        text-align: right;\n",
       "    }\n",
       "</style>\n",
       "<table border=\"1\" class=\"dataframe\">\n",
       "  <thead>\n",
       "    <tr style=\"text-align: right;\">\n",
       "      <th></th>\n",
       "      <th>class</th>\n",
       "      <th>tweet</th>\n",
       "    </tr>\n",
       "  </thead>\n",
       "  <tbody>\n",
       "    <tr>\n",
       "      <td>0</td>\n",
       "      <td>2</td>\n",
       "      <td>RTAs a woman you shouldn t complain about clea...</td>\n",
       "    </tr>\n",
       "    <tr>\n",
       "      <td>1</td>\n",
       "      <td>1</td>\n",
       "      <td>RTboy dats cold tyga dwn bad for cuffin dat ho...</td>\n",
       "    </tr>\n",
       "    <tr>\n",
       "      <td>2</td>\n",
       "      <td>1</td>\n",
       "      <td>RTDawg RTYou ever fuck a bitch and she be conf...</td>\n",
       "    </tr>\n",
       "    <tr>\n",
       "      <td>3</td>\n",
       "      <td>1</td>\n",
       "      <td>RT she like tranny</td>\n",
       "    </tr>\n",
       "    <tr>\n",
       "      <td>4</td>\n",
       "      <td>1</td>\n",
       "      <td>RTThe shit hear about me might true or it migh...</td>\n",
       "    </tr>\n",
       "  </tbody>\n",
       "</table>\n",
       "</div>"
      ],
      "text/plain": [
       "   class                                              tweet\n",
       "0      2  RTAs a woman you shouldn t complain about clea...\n",
       "1      1  RTboy dats cold tyga dwn bad for cuffin dat ho...\n",
       "2      1  RTDawg RTYou ever fuck a bitch and she be conf...\n",
       "3      1                                 RT she like tranny\n",
       "4      1  RTThe shit hear about me might true or it migh..."
      ]
     },
     "execution_count": 68,
     "metadata": {},
     "output_type": "execute_result"
    }
   ],
   "source": [
    "p = 0.2\n",
    "data_rd = data_80.copy(deep=True)\n",
    "for i,tweet in enumerate(data_80['tweet']):\n",
    "  tweet = tweet.replace('  ', '')\n",
    "  j = nltk.word_tokenize(tweet)\n",
    "  if len(j) < 2:\n",
    "    continue\n",
    "  data_rd['tweet'][i] = ' '.join(random_deletion(j, p))\n",
    "data_rd.head()"
   ]
  },
  {
   "cell_type": "code",
   "execution_count": 69,
   "metadata": {
    "colab": {},
    "colab_type": "code",
    "id": "XDERAcWEOPTL"
   },
   "outputs": [
    {
     "data": {
      "text/html": [
       "<div>\n",
       "<style scoped>\n",
       "    .dataframe tbody tr th:only-of-type {\n",
       "        vertical-align: middle;\n",
       "    }\n",
       "\n",
       "    .dataframe tbody tr th {\n",
       "        vertical-align: top;\n",
       "    }\n",
       "\n",
       "    .dataframe thead th {\n",
       "        text-align: right;\n",
       "    }\n",
       "</style>\n",
       "<table border=\"1\" class=\"dataframe\">\n",
       "  <thead>\n",
       "    <tr style=\"text-align: right;\">\n",
       "      <th></th>\n",
       "      <th>class</th>\n",
       "      <th>tweet</th>\n",
       "    </tr>\n",
       "  </thead>\n",
       "  <tbody>\n",
       "    <tr>\n",
       "      <td>0</td>\n",
       "      <td>2</td>\n",
       "      <td>RTAs man cleaning a up house the about woman s...</td>\n",
       "    </tr>\n",
       "    <tr>\n",
       "      <td>1</td>\n",
       "      <td>1</td>\n",
       "      <td>RTboy cuffin in dats dat thest for place cold ...</td>\n",
       "    </tr>\n",
       "    <tr>\n",
       "      <td>2</td>\n",
       "      <td>1</td>\n",
       "      <td>RTDawg shit be as cryYou fuck RTYou she to sta...</td>\n",
       "    </tr>\n",
       "    <tr>\n",
       "      <td>3</td>\n",
       "      <td>1</td>\n",
       "      <td>RT look she like a tranny</td>\n",
       "    </tr>\n",
       "    <tr>\n",
       "      <td>4</td>\n",
       "      <td>1</td>\n",
       "      <td>RTThe shit to it true me you be be the it migh...</td>\n",
       "    </tr>\n",
       "  </tbody>\n",
       "</table>\n",
       "</div>"
      ],
      "text/plain": [
       "   class                                              tweet\n",
       "0      2  RTAs man cleaning a up house the about woman s...\n",
       "1      1  RTboy cuffin in dats dat thest for place cold ...\n",
       "2      1  RTDawg shit be as cryYou fuck RTYou she to sta...\n",
       "3      1                          RT look she like a tranny\n",
       "4      1  RTThe shit to it true me you be be the it migh..."
      ]
     },
     "execution_count": 69,
     "metadata": {},
     "output_type": "execute_result"
    }
   ],
   "source": [
    "n = 9\n",
    "data_rs = data_80.copy(deep=True)\n",
    "for i, tweet in enumerate(data_80['tweet']):\n",
    "  tweet = tweet.replace('  ', '')\n",
    "  j = nltk.word_tokenize(tweet)\n",
    "  if len(j) < 2:\n",
    "    continue\n",
    "  data_rs['tweet'][i] = ' '.join(random_swap(j, n))\n",
    "data_rs.head()"
   ]
  },
  {
   "cell_type": "code",
   "execution_count": 70,
   "metadata": {
    "colab": {},
    "colab_type": "code",
    "id": "LqOPeOj2d_z-"
   },
   "outputs": [
    {
     "data": {
      "text/html": [
       "<div>\n",
       "<style scoped>\n",
       "    .dataframe tbody tr th:only-of-type {\n",
       "        vertical-align: middle;\n",
       "    }\n",
       "\n",
       "    .dataframe tbody tr th {\n",
       "        vertical-align: top;\n",
       "    }\n",
       "\n",
       "    .dataframe thead th {\n",
       "        text-align: right;\n",
       "    }\n",
       "</style>\n",
       "<table border=\"1\" class=\"dataframe\">\n",
       "  <thead>\n",
       "    <tr style=\"text-align: right;\">\n",
       "      <th></th>\n",
       "      <th>class</th>\n",
       "      <th>tweet</th>\n",
       "    </tr>\n",
       "  </thead>\n",
       "  <tbody>\n",
       "    <tr>\n",
       "      <td>0</td>\n",
       "      <td>2</td>\n",
       "      <td>RTAs a woman you shouldn t complain about clea...</td>\n",
       "    </tr>\n",
       "    <tr>\n",
       "      <td>1</td>\n",
       "      <td>1</td>\n",
       "      <td>RTboy dats lay lay cold digital audiotape dwel...</td>\n",
       "    </tr>\n",
       "    <tr>\n",
       "      <td>2</td>\n",
       "      <td>1</td>\n",
       "      <td>ampere RTDawg RTYou ever eastern samoa fuck a ...</td>\n",
       "    </tr>\n",
       "    <tr>\n",
       "      <td>3</td>\n",
       "      <td>1</td>\n",
       "      <td>RT she feeling ampere the like the like look l...</td>\n",
       "    </tr>\n",
       "    <tr>\n",
       "      <td>4</td>\n",
       "      <td>1</td>\n",
       "      <td>RTThe shit you hear me about me might surgery ...</td>\n",
       "    </tr>\n",
       "  </tbody>\n",
       "</table>\n",
       "</div>"
      ],
      "text/plain": [
       "   class                                              tweet\n",
       "0      2  RTAs a woman you shouldn t complain about clea...\n",
       "1      1  RTboy dats lay lay cold digital audiotape dwel...\n",
       "2      1  ampere RTDawg RTYou ever eastern samoa fuck a ...\n",
       "3      1  RT she feeling ampere the like the like look l...\n",
       "4      1  RTThe shit you hear me about me might surgery ..."
      ]
     },
     "execution_count": 70,
     "metadata": {},
     "output_type": "execute_result"
    }
   ],
   "source": [
    "n = 9\n",
    "data_ra = data_80.copy(deep=True)\n",
    "for i, tweet in enumerate(data_80['tweet']):\n",
    "  tweet = tweet.replace('  ', '')\n",
    "  j = nltk.word_tokenize(tweet)\n",
    "  if len(j) < 2:\n",
    "    continue\n",
    "  data_ra['tweet'][i] = ' '.join(random_addition(j, n))\n",
    "data_ra.head()"
   ]
  },
  {
   "cell_type": "markdown",
   "metadata": {
    "colab_type": "text",
    "id": "Zsnr00MufIHx"
   },
   "source": [
    "# Train LSTM model"
   ]
  },
  {
   "cell_type": "code",
   "execution_count": 75,
   "metadata": {
    "colab": {},
    "colab_type": "code",
    "id": "THbzHWv_C7tF"
   },
   "outputs": [
    {
     "name": "stdout",
     "output_type": "stream",
     "text": [
      "Model: \"sequential_2\"\n",
      "_________________________________________________________________\n",
      "Layer (type)                 Output Shape              Param #   \n",
      "=================================================================\n",
      "embedding_2 (Embedding)      (None, 34, 100)           1844600   \n",
      "_________________________________________________________________\n",
      "spatial_dropout1d_1 (Spatial (None, 34, 100)           0         \n",
      "_________________________________________________________________\n",
      "lstm_1 (LSTM)                (None, 256)               365568    \n",
      "_________________________________________________________________\n",
      "dense_3 (Dense)              (None, 256)               65792     \n",
      "_________________________________________________________________\n",
      "dropout_2 (Dropout)          (None, 256)               0         \n",
      "_________________________________________________________________\n",
      "dense_4 (Dense)              (None, 3)                 771       \n",
      "=================================================================\n",
      "Total params: 2,276,731\n",
      "Trainable params: 2,276,731\n",
      "Non-trainable params: 0\n",
      "_________________________________________________________________\n"
     ]
    }
   ],
   "source": [
    "lstm_model = LSTM_model(len(word_index)+1, train_pad.shape[1])"
   ]
  },
  {
   "cell_type": "code",
   "execution_count": 76,
   "metadata": {
    "colab": {},
    "colab_type": "code",
    "id": "6MFwBiQR8pK5"
   },
   "outputs": [
    {
     "name": "stdout",
     "output_type": "stream",
     "text": [
      "Train on 16852 samples, validate on 4213 samples\n",
      "Epoch 1/3\n",
      "16852/16852 [==============================] - 29s 2ms/step - loss: 0.6918 - accuracy: 0.7723 - val_loss: 0.6817 - val_accuracy: 0.7662\n",
      "Epoch 2/3\n",
      "16852/16852 [==============================] - 26s 2ms/step - loss: 0.6599 - accuracy: 0.7749 - val_loss: 0.6891 - val_accuracy: 0.7662\n",
      "Epoch 3/3\n",
      "16852/16852 [==============================] - 38s 2ms/step - loss: 0.6170 - accuracy: 0.7759 - val_loss: 0.7258 - val_accuracy: 0.7624\n"
     ]
    }
   ],
   "source": [
    "lstm_model, lstm_hist = fit_model(lstm_model, train_pad, epochs=3) # Train LSTM model on train_pad (sentence tokens)"
   ]
  },
  {
   "cell_type": "code",
   "execution_count": 77,
   "metadata": {
    "colab": {},
    "colab_type": "code",
    "id": "HrtirS-dk_82"
   },
   "outputs": [
    {
     "data": {
      "image/png": "[encoded data removed]",
      "text/plain": [
       "<Figure size 720x432 with 2 Axes>"
      ]
     },
     "metadata": {
      "needs_background": "light"
     },
     "output_type": "display_data"
    }
   ],
   "source": [
    "plot_model(lstm_hist)"
   ]
  },
  {
   "cell_type": "code",
   "execution_count": 78,
   "metadata": {
    "colab": {},
    "colab_type": "code",
    "id": "ZTwJsFM-0DY7"
   },
   "outputs": [],
   "source": [
    "def check_accuracy(model, X_test, y_test):\n",
    "  test_sequences=token.texts_to_sequences(X_test)\n",
    "  test_pad=sequence.pad_sequences(test_sequences, maxlen=train_pad.shape[1])\n",
    "  y_pred = model.predict(test_pad)\n",
    "  acc=model.evaluate(test_pad, y_test)\n",
    "  print(\"Accuracy: {}\".format(acc[1]))\n",
    "  y_test_=np.argmax(y_test, axis=1)\n",
    "  y_pred=np.argmax(y_pred, axis=1)\n",
    "  print(metrics.classification_report(y_test_, y_pred))\n",
    "  cm = confusion_matrix(y_test_, y_pred, normalize='true')\n",
    "  \n",
    "  np.set_printoptions(precision=2)\n",
    "  # cm = confusion_matrix(y_test, y_pred)\n",
    "\n",
    "  cm_display = ConfusionMatrixDisplay(cm, display_labels=label.values()).plot(cmap=plt.cm.Blues)"
   ]
  },
  {
   "cell_type": "markdown",
   "metadata": {
    "colab_type": "text",
    "id": "0-vQ3tsfAS1P"
   },
   "source": [
    "# Synonym replacement\n",
    "Replace n words in the sentence with synonyms from wordnet"
   ]
  },
  {
   "cell_type": "code",
   "execution_count": 79,
   "metadata": {
    "colab": {},
    "colab_type": "code",
    "id": "855a2JDhATdz"
   },
   "outputs": [],
   "source": [
    "X_sr_train = data_sr['tweet']\n",
    "y_sr_train = to_categorical(data_sr['class'].values)\n",
    "X_sr_test = data_20['tweet']\n",
    "y_sr_test = to_categorical(data_20['class'].values)\n",
    "\n",
    "token, train_pad, word_index = create_token(X_sr_train)"
   ]
  },
  {
   "cell_type": "code",
   "execution_count": 80,
   "metadata": {
    "colab": {},
    "colab_type": "code",
    "id": "Mqv1loFqA9Mb"
   },
   "outputs": [
    {
     "name": "stdout",
     "output_type": "stream",
     "text": [
      "Model: \"sequential_3\"\n",
      "_________________________________________________________________\n",
      "Layer (type)                 Output Shape              Param #   \n",
      "=================================================================\n",
      "embedding_3 (Embedding)      (None, 40, 100)           3233900   \n",
      "_________________________________________________________________\n",
      "spatial_dropout1d_2 (Spatial (None, 40, 100)           0         \n",
      "_________________________________________________________________\n",
      "lstm_2 (LSTM)                (None, 256)               365568    \n",
      "_________________________________________________________________\n",
      "dense_5 (Dense)              (None, 256)               65792     \n",
      "_________________________________________________________________\n",
      "dropout_3 (Dropout)          (None, 256)               0         \n",
      "_________________________________________________________________\n",
      "dense_6 (Dense)              (None, 3)                 771       \n",
      "=================================================================\n",
      "Total params: 3,666,031\n",
      "Trainable params: 3,666,031\n",
      "Non-trainable params: 0\n",
      "_________________________________________________________________\n",
      "Train on 15861 samples, validate on 3966 samples\n",
      "Epoch 1/1\n",
      "15861/15861 [==============================] - 33s 2ms/step - loss: 0.6556 - accuracy: 0.7668 - val_loss: 0.4153 - val_accuracy: 0.8560\n"
     ]
    }
   ],
   "source": [
    "lstm_sr_model = LSTM_model(len(word_index)+1, train_pad.shape[1])\n",
    "lstm_sr_model, lstm_sr_hist = fit_model(lstm_sr_model, train_pad, y_train=y_sr_train, epochs=1)"
   ]
  },
  {
   "cell_type": "code",
   "execution_count": 81,
   "metadata": {
    "colab": {},
    "colab_type": "code",
    "id": "46xyEDrfBOL5"
   },
   "outputs": [
    {
     "data": {
      "image/png": "[encoded data removed]",
      "text/plain": [
       "<Figure size 720x432 with 2 Axes>"
      ]
     },
     "metadata": {
      "needs_background": "light"
     },
     "output_type": "display_data"
    }
   ],
   "source": [
    "plot_model(lstm_sr_hist)"
   ]
  },
  {
   "cell_type": "code",
   "execution_count": 83,
   "metadata": {
    "colab": {},
    "colab_type": "code",
    "id": "KV23zfJYFwOL"
   },
   "outputs": [
    {
     "name": "stdout",
     "output_type": "stream",
     "text": [
      "4956/4956 [==============================] - 3s 617us/step\n",
      "Accuracy: 0.8042776584625244\n",
      "              precision    recall  f1-score   support\n",
      "\n",
      "           0       0.00      0.00      0.00       386\n",
      "           1       0.84      0.96      0.89      3731\n",
      "           2       0.59      0.49      0.54       839\n",
      "\n",
      "    accuracy                           0.80      4956\n",
      "   macro avg       0.48      0.48      0.48      4956\n",
      "weighted avg       0.73      0.80      0.76      4956\n",
      "\n"
     ]
    },
    {
     "data": {
      "image/png": "[encoded data removed]",
      "text/plain": [
       "<Figure size 432x288 with 2 Axes>"
      ]
     },
     "metadata": {
      "needs_background": "light"
     },
     "output_type": "display_data"
    }
   ],
   "source": [
    "from sklearn import metrics\n",
    "check_accuracy(lstm_sr_model, X_sr_test, y_sr_test)"
   ]
  },
  {
   "cell_type": "markdown",
   "metadata": {
    "colab_type": "text",
    "id": "QtzS__SIATs6"
   },
   "source": [
    "# Random deletion\n",
    "Randomly delete words from the sentence with probability p"
   ]
  },
  {
   "cell_type": "code",
   "execution_count": 84,
   "metadata": {
    "colab": {},
    "colab_type": "code",
    "id": "r8fwqEbRAT6p"
   },
   "outputs": [],
   "source": [
    "X_rd_train = data_rd['tweet']\n",
    "y_rd_train = to_categorical(data_sr['class'].values)\n",
    "X_rd_test = data_20['tweet']\n",
    "y_rd_test = to_categorical(data_20['class'].values)\n",
    "\n",
    "token, train_pad, word_index = create_token(X_rd_train)"
   ]
  },
  {
   "cell_type": "code",
   "execution_count": 85,
   "metadata": {
    "colab": {},
    "colab_type": "code",
    "id": "3vVCmWhEBeH4"
   },
   "outputs": [
    {
     "name": "stdout",
     "output_type": "stream",
     "text": [
      "Model: \"sequential_4\"\n",
      "_________________________________________________________________\n",
      "Layer (type)                 Output Shape              Param #   \n",
      "=================================================================\n",
      "embedding_4 (Embedding)      (None, 28, 100)           2455000   \n",
      "_________________________________________________________________\n",
      "spatial_dropout1d_3 (Spatial (None, 28, 100)           0         \n",
      "_________________________________________________________________\n",
      "lstm_3 (LSTM)                (None, 256)               365568    \n",
      "_________________________________________________________________\n",
      "dense_7 (Dense)              (None, 256)               65792     \n",
      "_________________________________________________________________\n",
      "dropout_4 (Dropout)          (None, 256)               0         \n",
      "_________________________________________________________________\n",
      "dense_8 (Dense)              (None, 3)                 771       \n",
      "=================================================================\n",
      "Total params: 2,887,131\n",
      "Trainable params: 2,887,131\n",
      "Non-trainable params: 0\n",
      "_________________________________________________________________\n",
      "Train on 15861 samples, validate on 3966 samples\n",
      "Epoch 1/10\n",
      "15861/15861 [==============================] - 23s 1ms/step - loss: 0.6447 - accuracy: 0.7716 - val_loss: 0.4389 - val_accuracy: 0.8296\n",
      "Epoch 2/10\n",
      "15861/15861 [==============================] - 22s 1ms/step - loss: 0.4231 - accuracy: 0.8527 - val_loss: 0.3530 - val_accuracy: 0.8744\n",
      "Epoch 3/10\n",
      "15861/15861 [==============================] - 23s 1ms/step - loss: 0.3103 - accuracy: 0.8947 - val_loss: 0.3607 - val_accuracy: 0.8704\n",
      "Epoch 4/10\n",
      "15861/15861 [==============================] - 23s 1ms/step - loss: 0.2300 - accuracy: 0.9232 - val_loss: 0.3994 - val_accuracy: 0.8623\n",
      "Epoch 5/10\n",
      "15861/15861 [==============================] - 22s 1ms/step - loss: 0.1657 - accuracy: 0.9430 - val_loss: 0.4695 - val_accuracy: 0.8601\n",
      "Epoch 6/10\n",
      "15861/15861 [==============================] - 22s 1ms/step - loss: 0.1314 - accuracy: 0.9538 - val_loss: 0.5019 - val_accuracy: 0.8527\n",
      "Epoch 7/10\n",
      "15861/15861 [==============================] - 23s 1ms/step - loss: 0.1049 - accuracy: 0.9633 - val_loss: 0.5715 - val_accuracy: 0.8535\n",
      "Epoch 8/10\n",
      "15861/15861 [==============================] - 26s 2ms/step - loss: 0.0947 - accuracy: 0.9668 - val_loss: 0.5596 - val_accuracy: 0.8464\n",
      "Epoch 9/10\n",
      "15861/15861 [==============================] - 24s 2ms/step - loss: 0.0797 - accuracy: 0.9725 - val_loss: 0.5925 - val_accuracy: 0.8527\n",
      "Epoch 10/10\n",
      "15861/15861 [==============================] - 23s 1ms/step - loss: 0.0706 - accuracy: 0.9755 - val_loss: 0.6681 - val_accuracy: 0.8434\n"
     ]
    }
   ],
   "source": [
    "lstm_rd_model = LSTM_model(len(word_index)+1, train_pad.shape[1])\n",
    "lstm_rd_model, lstm_rd_hist = fit_model(lstm_rd_model, train_pad, y_train=y_rd_train)"
   ]
  },
  {
   "cell_type": "code",
   "execution_count": 86,
   "metadata": {
    "colab": {},
    "colab_type": "code",
    "id": "FN6DykGxBeex"
   },
   "outputs": [
    {
     "data": {
      "image/png": "[encoded data removed]",
      "text/plain": [
       "<Figure size 720x432 with 2 Axes>"
      ]
     },
     "metadata": {
      "needs_background": "light"
     },
     "output_type": "display_data"
    }
   ],
   "source": [
    "plot_model(lstm_rd_hist)"
   ]
  },
  {
   "cell_type": "code",
   "execution_count": 87,
   "metadata": {
    "colab": {},
    "colab_type": "code",
    "id": "FiUrDs9kF3vR"
   },
   "outputs": [
    {
     "name": "stdout",
     "output_type": "stream",
     "text": [
      "4956/4956 [==============================] - 2s 449us/step\n",
      "Accuracy: 0.9402744174003601\n",
      "              precision    recall  f1-score   support\n",
      "\n",
      "           0       0.80      0.76      0.78       386\n",
      "           1       0.95      0.97      0.96      3731\n",
      "           2       0.94      0.89      0.91       839\n",
      "\n",
      "    accuracy                           0.94      4956\n",
      "   macro avg       0.90      0.87      0.89      4956\n",
      "weighted avg       0.94      0.94      0.94      4956\n",
      "\n"
     ]
    },
    {
     "data": {
      "image/png": "[encoded data removed]",
      "text/plain": [
       "<Figure size 432x288 with 2 Axes>"
      ]
     },
     "metadata": {
      "needs_background": "light"
     },
     "output_type": "display_data"
    }
   ],
   "source": [
    "check_accuracy(lstm_rd_model, X_rd_test, y_rd_test)"
   ]
  },
  {
   "cell_type": "markdown",
   "metadata": {
    "colab_type": "text",
    "id": "0SZ_3d5XAUFv"
   },
   "source": [
    "# Random swap\n",
    "Randomly swap two words in the sentence n times"
   ]
  },
  {
   "cell_type": "code",
   "execution_count": 88,
   "metadata": {
    "colab": {},
    "colab_type": "code",
    "id": "gzac5xjjAUTD"
   },
   "outputs": [],
   "source": [
    "X_rs_train = data_rd['tweet']\n",
    "y_rs_train = to_categorical(data_sr['class'].values)\n",
    "X_rs_test = data_20['tweet']\n",
    "y_rs_test = to_categorical(data_20['class'].values)\n",
    "\n",
    "token, train_pad, word_index = create_token(X_rs_train)"
   ]
  },
  {
   "cell_type": "code",
   "execution_count": 89,
   "metadata": {
    "colab": {},
    "colab_type": "code",
    "id": "v5sPGIEcBf_D"
   },
   "outputs": [
    {
     "name": "stdout",
     "output_type": "stream",
     "text": [
      "Model: \"sequential_5\"\n",
      "_________________________________________________________________\n",
      "Layer (type)                 Output Shape              Param #   \n",
      "=================================================================\n",
      "embedding_5 (Embedding)      (None, 28, 100)           2455000   \n",
      "_________________________________________________________________\n",
      "spatial_dropout1d_4 (Spatial (None, 28, 100)           0         \n",
      "_________________________________________________________________\n",
      "lstm_4 (LSTM)                (None, 256)               365568    \n",
      "_________________________________________________________________\n",
      "dense_9 (Dense)              (None, 256)               65792     \n",
      "_________________________________________________________________\n",
      "dropout_5 (Dropout)          (None, 256)               0         \n",
      "_________________________________________________________________\n",
      "dense_10 (Dense)             (None, 3)                 771       \n",
      "=================================================================\n",
      "Total params: 2,887,131\n",
      "Trainable params: 2,887,131\n",
      "Non-trainable params: 0\n",
      "_________________________________________________________________\n",
      "Train on 15861 samples, validate on 3966 samples\n",
      "Epoch 1/10\n",
      "15861/15861 [==============================] - 24s 2ms/step - loss: 0.6147 - accuracy: 0.7786 - val_loss: 0.3954 - val_accuracy: 0.8611\n",
      "Epoch 2/10\n",
      "15861/15861 [==============================] - 24s 2ms/step - loss: 0.4152 - accuracy: 0.8559 - val_loss: 0.3634 - val_accuracy: 0.8729\n",
      "Epoch 3/10\n",
      "15861/15861 [==============================] - 25s 2ms/step - loss: 0.2987 - accuracy: 0.8968 - val_loss: 0.3611 - val_accuracy: 0.8666\n",
      "Epoch 4/10\n",
      "15861/15861 [==============================] - 22s 1ms/step - loss: 0.2177 - accuracy: 0.9257 - val_loss: 0.4007 - val_accuracy: 0.8613\n",
      "Epoch 5/10\n",
      "15861/15861 [==============================] - 22s 1ms/step - loss: 0.1653 - accuracy: 0.9417 - val_loss: 0.4531 - val_accuracy: 0.8633\n",
      "Epoch 6/10\n",
      "15861/15861 [==============================] - 22s 1ms/step - loss: 0.1283 - accuracy: 0.9574 - val_loss: 0.5027 - val_accuracy: 0.8510\n",
      "Epoch 7/10\n",
      "15861/15861 [==============================] - 23s 1ms/step - loss: 0.1067 - accuracy: 0.9627 - val_loss: 0.5098 - val_accuracy: 0.8495\n",
      "Epoch 8/10\n",
      "15861/15861 [==============================] - 24s 2ms/step - loss: 0.0934 - accuracy: 0.9680 - val_loss: 0.5567 - val_accuracy: 0.8515\n",
      "Epoch 9/10\n",
      "15861/15861 [==============================] - 22s 1ms/step - loss: 0.0812 - accuracy: 0.9713 - val_loss: 0.6346 - val_accuracy: 0.8517\n",
      "Epoch 10/10\n",
      "15861/15861 [==============================] - 22s 1ms/step - loss: 0.0707 - accuracy: 0.9748 - val_loss: 0.6490 - val_accuracy: 0.8517\n"
     ]
    }
   ],
   "source": [
    "lstm_rs_model = LSTM_model(len(word_index)+1, train_pad.shape[1])\n",
    "lstm_rs_model, lstm_rs_hist = fit_model(lstm_rs_model, train_pad, y_train=y_sr_train)"
   ]
  },
  {
   "cell_type": "code",
   "execution_count": 90,
   "metadata": {
    "colab": {},
    "colab_type": "code",
    "id": "y_cIjlS7BgFd"
   },
   "outputs": [
    {
     "data": {
      "image/png": "[encoded data removed]",
      "text/plain": [
       "<Figure size 720x432 with 2 Axes>"
      ]
     },
     "metadata": {
      "needs_background": "light"
     },
     "output_type": "display_data"
    }
   ],
   "source": [
    "plot_model(lstm_rs_hist)"
   ]
  },
  {
   "cell_type": "code",
   "execution_count": 91,
   "metadata": {
    "colab": {},
    "colab_type": "code",
    "id": "rssOUzf8F7Jh"
   },
   "outputs": [
    {
     "name": "stdout",
     "output_type": "stream",
     "text": [
      "4956/4956 [==============================] - 2s 437us/step\n",
      "Accuracy: 0.9439063668251038\n",
      "              precision    recall  f1-score   support\n",
      "\n",
      "           0       0.91      0.65      0.76       386\n",
      "           1       0.94      0.99      0.96      3731\n",
      "           2       0.95      0.89      0.92       839\n",
      "\n",
      "    accuracy                           0.94      4956\n",
      "   macro avg       0.94      0.84      0.88      4956\n",
      "weighted avg       0.94      0.94      0.94      4956\n",
      "\n"
     ]
    },
    {
     "data": {
      "image/png": "[encoded data removed]",
      "text/plain": [
       "<Figure size 432x288 with 2 Axes>"
      ]
     },
     "metadata": {
      "needs_background": "light"
     },
     "output_type": "display_data"
    }
   ],
   "source": [
    "check_accuracy(lstm_rs_model, X_rs_test, y_rs_test)"
   ]
  },
  {
   "cell_type": "markdown",
   "metadata": {
    "colab_type": "text",
    "id": "cp8gpxHRAUx5"
   },
   "source": [
    "# Random addition\n",
    "Randomly add n words into the sentence\n"
   ]
  },
  {
   "cell_type": "code",
   "execution_count": 92,
   "metadata": {
    "colab": {},
    "colab_type": "code",
    "id": "sPx9GUiGAVCi"
   },
   "outputs": [],
   "source": [
    "X_ra_train = data_rd['tweet']\n",
    "y_ra_train = to_categorical(data_sr['class'].values)\n",
    "X_ra_test = data_20['tweet']\n",
    "y_ra_test = to_categorical(data_20['class'].values)\n",
    "\n",
    "token, train_pad, word_index = create_token(X_ra_train)"
   ]
  },
  {
   "cell_type": "code",
   "execution_count": 93,
   "metadata": {
    "colab": {},
    "colab_type": "code",
    "id": "KL_h0gBRBhLW"
   },
   "outputs": [
    {
     "name": "stdout",
     "output_type": "stream",
     "text": [
      "Model: \"sequential_6\"\n",
      "_________________________________________________________________\n",
      "Layer (type)                 Output Shape              Param #   \n",
      "=================================================================\n",
      "embedding_6 (Embedding)      (None, 28, 100)           2455000   \n",
      "_________________________________________________________________\n",
      "spatial_dropout1d_5 (Spatial (None, 28, 100)           0         \n",
      "_________________________________________________________________\n",
      "lstm_5 (LSTM)                (None, 256)               365568    \n",
      "_________________________________________________________________\n",
      "dense_11 (Dense)             (None, 256)               65792     \n",
      "_________________________________________________________________\n",
      "dropout_6 (Dropout)          (None, 256)               0         \n",
      "_________________________________________________________________\n",
      "dense_12 (Dense)             (None, 3)                 771       \n",
      "=================================================================\n",
      "Total params: 2,887,131\n",
      "Trainable params: 2,887,131\n",
      "Non-trainable params: 0\n",
      "_________________________________________________________________\n",
      "Train on 15861 samples, validate on 3966 samples\n",
      "Epoch 1/10\n",
      "15861/15861 [==============================] - 22s 1ms/step - loss: 0.6204 - accuracy: 0.7781 - val_loss: 0.4095 - val_accuracy: 0.8583\n",
      "Epoch 2/10\n",
      "15861/15861 [==============================] - 21s 1ms/step - loss: 0.4175 - accuracy: 0.8556 - val_loss: 0.3564 - val_accuracy: 0.8767\n",
      "Epoch 3/10\n",
      "15861/15861 [==============================] - 23s 1ms/step - loss: 0.3031 - accuracy: 0.8952 - val_loss: 0.3682 - val_accuracy: 0.8701\n",
      "Epoch 4/10\n",
      "15861/15861 [==============================] - 23s 1ms/step - loss: 0.2190 - accuracy: 0.9250 - val_loss: 0.4139 - val_accuracy: 0.8649\n",
      "Epoch 5/10\n",
      "15861/15861 [==============================] - 25s 2ms/step - loss: 0.1657 - accuracy: 0.9429 - val_loss: 0.4455 - val_accuracy: 0.8618\n",
      "Epoch 6/10\n",
      "15861/15861 [==============================] - 24s 2ms/step - loss: 0.1335 - accuracy: 0.9533 - val_loss: 0.5187 - val_accuracy: 0.8588\n",
      "Epoch 7/10\n",
      "15861/15861 [==============================] - 24s 2ms/step - loss: 0.1052 - accuracy: 0.9654 - val_loss: 0.5436 - val_accuracy: 0.8517\n",
      "Epoch 8/10\n",
      "15861/15861 [==============================] - 23s 1ms/step - loss: 0.0879 - accuracy: 0.9695 - val_loss: 0.5894 - val_accuracy: 0.8477\n",
      "Epoch 9/10\n",
      "15861/15861 [==============================] - 22s 1ms/step - loss: 0.0788 - accuracy: 0.9734 - val_loss: 0.6328 - val_accuracy: 0.8338\n",
      "Epoch 10/10\n",
      "15861/15861 [==============================] - 22s 1ms/step - loss: 0.0731 - accuracy: 0.9736 - val_loss: 0.6046 - val_accuracy: 0.8359\n"
     ]
    }
   ],
   "source": [
    "lstm_ra_model = LSTM_model(len(word_index)+1, train_pad.shape[1])\n",
    "lstm_ra_model, lstm_ra_hist = fit_model(lstm_ra_model, train_pad, y_train=y_ra_train)"
   ]
  },
  {
   "cell_type": "code",
   "execution_count": 94,
   "metadata": {
    "colab": {},
    "colab_type": "code",
    "id": "A3dSw0ALBhTp"
   },
   "outputs": [
    {
     "data": {
      "image/png": "[encoded data removed]",
      "text/plain": [
       "<Figure size 720x432 with 2 Axes>"
      ]
     },
     "metadata": {
      "needs_background": "light"
     },
     "output_type": "display_data"
    }
   ],
   "source": [
    "plot_model(lstm_ra_hist)"
   ]
  },
  {
   "cell_type": "code",
   "execution_count": 95,
   "metadata": {
    "colab": {},
    "colab_type": "code",
    "id": "f5V-lGU9F_N2"
   },
   "outputs": [
    {
     "name": "stdout",
     "output_type": "stream",
     "text": [
      "4956/4956 [==============================] - 2s 442us/step\n",
      "Accuracy: 0.9390637874603271\n",
      "              precision    recall  f1-score   support\n",
      "\n",
      "           0       0.80      0.73      0.77       386\n",
      "           1       0.95      0.97      0.96      3731\n",
      "           2       0.94      0.89      0.91       839\n",
      "\n",
      "    accuracy                           0.94      4956\n",
      "   macro avg       0.90      0.86      0.88      4956\n",
      "weighted avg       0.94      0.94      0.94      4956\n",
      "\n"
     ]
    },
    {
     "data": {
      "image/png": "[encoded data removed]",
      "text/plain": [
       "<Figure size 432x288 with 2 Axes>"
      ]
     },
     "metadata": {
      "needs_background": "light"
     },
     "output_type": "display_data"
    }
   ],
   "source": [
    "check_accuracy(lstm_ra_model, X_ra_test, y_ra_test)"
   ]
  },
  {
   "cell_type": "markdown",
   "metadata": {
    "colab_type": "text",
    "id": "XS7gJHI9ev7-"
   },
   "source": [
    "# Compare accuracy"
   ]
  },
  {
   "cell_type": "code",
   "execution_count": 101,
   "metadata": {
    "colab": {},
    "colab_type": "code",
    "id": "C4ovZMuVc3BL"
   },
   "outputs": [
    {
     "name": "stdout",
     "output_type": "stream",
     "text": [
      "CNN accuracy : \n"
     ]
    },
    {
     "ename": "ValueError",
     "evalue": "Error when checking input: expected embedding_1_input to have shape (34,) but got array with shape (28,)",
     "output_type": "error",
     "traceback": [
      "\u001b[0;31m---------------------------------------------------------------------------\u001b[0m",
      "\u001b[0;31mValueError\u001b[0m                                Traceback (most recent call last)",
      "\u001b[0;32m<ipython-input-101-0833857a3525>\u001b[0m in \u001b[0;36m<module>\u001b[0;34m\u001b[0m\n\u001b[1;32m      1\u001b[0m \u001b[0;32mfrom\u001b[0m \u001b[0msklearn\u001b[0m \u001b[0;32mimport\u001b[0m \u001b[0mmetrics\u001b[0m\u001b[0;34m\u001b[0m\u001b[0;34m\u001b[0m\u001b[0m\n\u001b[1;32m      2\u001b[0m \u001b[0mprint\u001b[0m\u001b[0;34m(\u001b[0m\u001b[0;34m\"CNN accuracy : \"\u001b[0m\u001b[0;34m)\u001b[0m\u001b[0;34m\u001b[0m\u001b[0;34m\u001b[0m\u001b[0m\n\u001b[0;32m----> 3\u001b[0;31m \u001b[0mcheck_accuracy\u001b[0m\u001b[0;34m(\u001b[0m\u001b[0mcnn_model\u001b[0m\u001b[0;34m,\u001b[0m \u001b[0mX_test\u001b[0m\u001b[0;34m,\u001b[0m \u001b[0my_test\u001b[0m\u001b[0;34m)\u001b[0m\u001b[0;34m\u001b[0m\u001b[0;34m\u001b[0m\u001b[0m\n\u001b[0m",
      "\u001b[0;32m<ipython-input-78-1868521ba186>\u001b[0m in \u001b[0;36mcheck_accuracy\u001b[0;34m(model, X_test, y_test)\u001b[0m\n\u001b[1;32m      2\u001b[0m   \u001b[0mtest_sequences\u001b[0m\u001b[0;34m=\u001b[0m\u001b[0mtoken\u001b[0m\u001b[0;34m.\u001b[0m\u001b[0mtexts_to_sequences\u001b[0m\u001b[0;34m(\u001b[0m\u001b[0mX_test\u001b[0m\u001b[0;34m)\u001b[0m\u001b[0;34m\u001b[0m\u001b[0;34m\u001b[0m\u001b[0m\n\u001b[1;32m      3\u001b[0m   \u001b[0mtest_pad\u001b[0m\u001b[0;34m=\u001b[0m\u001b[0msequence\u001b[0m\u001b[0;34m.\u001b[0m\u001b[0mpad_sequences\u001b[0m\u001b[0;34m(\u001b[0m\u001b[0mtest_sequences\u001b[0m\u001b[0;34m,\u001b[0m \u001b[0mmaxlen\u001b[0m\u001b[0;34m=\u001b[0m\u001b[0mtrain_pad\u001b[0m\u001b[0;34m.\u001b[0m\u001b[0mshape\u001b[0m\u001b[0;34m[\u001b[0m\u001b[0;36m1\u001b[0m\u001b[0;34m]\u001b[0m\u001b[0;34m)\u001b[0m\u001b[0;34m\u001b[0m\u001b[0;34m\u001b[0m\u001b[0m\n\u001b[0;32m----> 4\u001b[0;31m   \u001b[0my_pred\u001b[0m \u001b[0;34m=\u001b[0m \u001b[0mmodel\u001b[0m\u001b[0;34m.\u001b[0m\u001b[0mpredict\u001b[0m\u001b[0;34m(\u001b[0m\u001b[0mtest_pad\u001b[0m\u001b[0;34m)\u001b[0m\u001b[0;34m\u001b[0m\u001b[0;34m\u001b[0m\u001b[0m\n\u001b[0m\u001b[1;32m      5\u001b[0m   \u001b[0macc\u001b[0m\u001b[0;34m=\u001b[0m\u001b[0mmodel\u001b[0m\u001b[0;34m.\u001b[0m\u001b[0mevaluate\u001b[0m\u001b[0;34m(\u001b[0m\u001b[0mtest_pad\u001b[0m\u001b[0;34m,\u001b[0m \u001b[0my_test\u001b[0m\u001b[0;34m)\u001b[0m\u001b[0;34m\u001b[0m\u001b[0;34m\u001b[0m\u001b[0m\n\u001b[1;32m      6\u001b[0m   \u001b[0mprint\u001b[0m\u001b[0;34m(\u001b[0m\u001b[0;34m\"Accuracy: {}\"\u001b[0m\u001b[0;34m.\u001b[0m\u001b[0mformat\u001b[0m\u001b[0;34m(\u001b[0m\u001b[0macc\u001b[0m\u001b[0;34m[\u001b[0m\u001b[0;36m1\u001b[0m\u001b[0;34m]\u001b[0m\u001b[0;34m)\u001b[0m\u001b[0;34m)\u001b[0m\u001b[0;34m\u001b[0m\u001b[0;34m\u001b[0m\u001b[0m\n",
      "\u001b[0;32m~/opt/anaconda3/lib/python3.7/site-packages/keras/engine/training.py\u001b[0m in \u001b[0;36mpredict\u001b[0;34m(self, x, batch_size, verbose, steps, callbacks, max_queue_size, workers, use_multiprocessing)\u001b[0m\n\u001b[1;32m   1439\u001b[0m \u001b[0;34m\u001b[0m\u001b[0m\n\u001b[1;32m   1440\u001b[0m         \u001b[0;31m# Case 2: Symbolic tensors or Numpy array-like.\u001b[0m\u001b[0;34m\u001b[0m\u001b[0;34m\u001b[0m\u001b[0;34m\u001b[0m\u001b[0m\n\u001b[0;32m-> 1441\u001b[0;31m         \u001b[0mx\u001b[0m\u001b[0;34m,\u001b[0m \u001b[0m_\u001b[0m\u001b[0;34m,\u001b[0m \u001b[0m_\u001b[0m \u001b[0;34m=\u001b[0m \u001b[0mself\u001b[0m\u001b[0;34m.\u001b[0m\u001b[0m_standardize_user_data\u001b[0m\u001b[0;34m(\u001b[0m\u001b[0mx\u001b[0m\u001b[0;34m)\u001b[0m\u001b[0;34m\u001b[0m\u001b[0;34m\u001b[0m\u001b[0m\n\u001b[0m\u001b[1;32m   1442\u001b[0m         \u001b[0;32mif\u001b[0m \u001b[0mself\u001b[0m\u001b[0;34m.\u001b[0m\u001b[0mstateful\u001b[0m\u001b[0;34m:\u001b[0m\u001b[0;34m\u001b[0m\u001b[0;34m\u001b[0m\u001b[0m\n\u001b[1;32m   1443\u001b[0m             \u001b[0;32mif\u001b[0m \u001b[0mx\u001b[0m\u001b[0;34m[\u001b[0m\u001b[0;36m0\u001b[0m\u001b[0;34m]\u001b[0m\u001b[0;34m.\u001b[0m\u001b[0mshape\u001b[0m\u001b[0;34m[\u001b[0m\u001b[0;36m0\u001b[0m\u001b[0;34m]\u001b[0m \u001b[0;34m>\u001b[0m \u001b[0mbatch_size\u001b[0m \u001b[0;32mand\u001b[0m \u001b[0mx\u001b[0m\u001b[0;34m[\u001b[0m\u001b[0;36m0\u001b[0m\u001b[0;34m]\u001b[0m\u001b[0;34m.\u001b[0m\u001b[0mshape\u001b[0m\u001b[0;34m[\u001b[0m\u001b[0;36m0\u001b[0m\u001b[0;34m]\u001b[0m \u001b[0;34m%\u001b[0m \u001b[0mbatch_size\u001b[0m \u001b[0;34m!=\u001b[0m \u001b[0;36m0\u001b[0m\u001b[0;34m:\u001b[0m\u001b[0;34m\u001b[0m\u001b[0;34m\u001b[0m\u001b[0m\n",
      "\u001b[0;32m~/opt/anaconda3/lib/python3.7/site-packages/keras/engine/training.py\u001b[0m in \u001b[0;36m_standardize_user_data\u001b[0;34m(self, x, y, sample_weight, class_weight, check_array_lengths, batch_size)\u001b[0m\n\u001b[1;32m    577\u001b[0m             \u001b[0mfeed_input_shapes\u001b[0m\u001b[0;34m,\u001b[0m\u001b[0;34m\u001b[0m\u001b[0;34m\u001b[0m\u001b[0m\n\u001b[1;32m    578\u001b[0m             \u001b[0mcheck_batch_axis\u001b[0m\u001b[0;34m=\u001b[0m\u001b[0;32mFalse\u001b[0m\u001b[0;34m,\u001b[0m  \u001b[0;31m# Don't enforce the batch size.\u001b[0m\u001b[0;34m\u001b[0m\u001b[0;34m\u001b[0m\u001b[0m\n\u001b[0;32m--> 579\u001b[0;31m             exception_prefix='input')\n\u001b[0m\u001b[1;32m    580\u001b[0m \u001b[0;34m\u001b[0m\u001b[0m\n\u001b[1;32m    581\u001b[0m         \u001b[0;32mif\u001b[0m \u001b[0my\u001b[0m \u001b[0;32mis\u001b[0m \u001b[0;32mnot\u001b[0m \u001b[0;32mNone\u001b[0m\u001b[0;34m:\u001b[0m\u001b[0;34m\u001b[0m\u001b[0;34m\u001b[0m\u001b[0m\n",
      "\u001b[0;32m~/opt/anaconda3/lib/python3.7/site-packages/keras/engine/training_utils.py\u001b[0m in \u001b[0;36mstandardize_input_data\u001b[0;34m(data, names, shapes, check_batch_axis, exception_prefix)\u001b[0m\n\u001b[1;32m    143\u001b[0m                             \u001b[0;34m': expected '\u001b[0m \u001b[0;34m+\u001b[0m \u001b[0mnames\u001b[0m\u001b[0;34m[\u001b[0m\u001b[0mi\u001b[0m\u001b[0;34m]\u001b[0m \u001b[0;34m+\u001b[0m \u001b[0;34m' to have shape '\u001b[0m \u001b[0;34m+\u001b[0m\u001b[0;34m\u001b[0m\u001b[0;34m\u001b[0m\u001b[0m\n\u001b[1;32m    144\u001b[0m                             \u001b[0mstr\u001b[0m\u001b[0;34m(\u001b[0m\u001b[0mshape\u001b[0m\u001b[0;34m)\u001b[0m \u001b[0;34m+\u001b[0m \u001b[0;34m' but got array with shape '\u001b[0m \u001b[0;34m+\u001b[0m\u001b[0;34m\u001b[0m\u001b[0;34m\u001b[0m\u001b[0m\n\u001b[0;32m--> 145\u001b[0;31m                             str(data_shape))\n\u001b[0m\u001b[1;32m    146\u001b[0m     \u001b[0;32mreturn\u001b[0m \u001b[0mdata\u001b[0m\u001b[0;34m\u001b[0m\u001b[0;34m\u001b[0m\u001b[0m\n\u001b[1;32m    147\u001b[0m \u001b[0;34m\u001b[0m\u001b[0m\n",
      "\u001b[0;31mValueError\u001b[0m: Error when checking input: expected embedding_1_input to have shape (34,) but got array with shape (28,)"
     ]
    }
   ],
   "source": [
    "\n",
    "print(\"CNN accuracy : \")\n",
    "check_accuracy(cnn_model, X_test, y_test)"
   ]
  },
  {
   "cell_type": "code",
   "execution_count": 1,
   "metadata": {
    "colab": {},
    "colab_type": "code",
    "id": "4XzxT33FfVRc"
   },
   "outputs": [
    {
     "name": "stdout",
     "output_type": "stream",
     "text": [
      "LSTM accuracy : \n"
     ]
    },
    {
     "ename": "NameError",
     "evalue": "name 'check_accuracy' is not defined",
     "output_type": "error",
     "traceback": [
      "\u001b[0;31m---------------------------------------------------------------------------\u001b[0m",
      "\u001b[0;31mNameError\u001b[0m                                 Traceback (most recent call last)",
      "\u001b[0;32m<ipython-input-1-11e22ee9e9b0>\u001b[0m in \u001b[0;36m<module>\u001b[0;34m\u001b[0m\n\u001b[1;32m      1\u001b[0m \u001b[0;32mfrom\u001b[0m \u001b[0msklearn\u001b[0m \u001b[0;32mimport\u001b[0m \u001b[0mmetrics\u001b[0m\u001b[0;34m\u001b[0m\u001b[0;34m\u001b[0m\u001b[0m\n\u001b[1;32m      2\u001b[0m \u001b[0mprint\u001b[0m\u001b[0;34m(\u001b[0m\u001b[0;34m\"LSTM accuracy : \"\u001b[0m\u001b[0;34m)\u001b[0m\u001b[0;34m\u001b[0m\u001b[0;34m\u001b[0m\u001b[0m\n\u001b[0;32m----> 3\u001b[0;31m \u001b[0mcheck_accuracy\u001b[0m\u001b[0;34m(\u001b[0m\u001b[0mlstm_model\u001b[0m\u001b[0;34m,\u001b[0m \u001b[0mX_test\u001b[0m\u001b[0;34m,\u001b[0m \u001b[0my_test\u001b[0m\u001b[0;34m)\u001b[0m\u001b[0;34m\u001b[0m\u001b[0;34m\u001b[0m\u001b[0m\n\u001b[0m",
      "\u001b[0;31mNameError\u001b[0m: name 'check_accuracy' is not defined"
     ]
    }
   ],
   "source": [
    "from sklearn import metrics\n",
    "print(\"LSTM accuracy : \")\n",
    "check_accuracy(lstm_model, X_test, y_test)"
   ]
  }
 ],
 "metadata": {
  "accelerator": "GPU",
  "colab": {
   "collapsed_sections": [],
   "name": "Text_classification_(LSTM).ipynb",
   "provenance": []
  },
  "kernelspec": {
   "display_name": "Python 3",
   "language": "python",
   "name": "python3"
  },
  "language_info": {
   "codemirror_mode": {
    "name": "ipython",
    "version": 3
   },
   "file_extension": ".py",
   "mimetype": "text/x-python",
   "name": "python",
   "nbconvert_exporter": "python",
   "pygments_lexer": "ipython3",
   "version": "3.7.4"
  }
 },
 "nbformat": 4,
 "nbformat_minor": 1
}
