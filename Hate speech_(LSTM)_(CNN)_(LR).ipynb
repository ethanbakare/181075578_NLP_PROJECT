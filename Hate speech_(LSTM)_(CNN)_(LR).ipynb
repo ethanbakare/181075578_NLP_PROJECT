{
 "cells": [
  {
   "cell_type": "markdown",
   "metadata": {
    "colab_type": "text",
    "id": "Pj2kEtlTbFSH"
   },
   "source": [
    " Importing data and libraries"
   ]
  },
  {
   "cell_type": "code",
   "execution_count": 118,
   "metadata": {
    "colab": {},
    "colab_type": "code",
    "id": "IYFKUV8ZOc4X"
   },
   "outputs": [],
   "source": [
    "import numpy as np\n",
    "import pandas as pd\n",
    "import matplotlib.pyplot as plt\n",
    "import seaborn as sns\n",
    "from tqdm import tqdm\n",
    "from sklearn.model_selection import train_test_split, cross_val_score, StratifiedKFold \n",
    "from sklearn.preprocessing import LabelEncoder\n",
    "from sklearn.metrics import precision_score, recall_score, accuracy_score, f1_score, confusion_matrix\n",
    "from keras.preprocessing.text import Tokenizer\n",
    "from keras.preprocessing import sequence\n",
    "from keras.utils import to_categorical\n",
    "from keras import optimizers\n",
    "from keras.models import Sequential, Model\n",
    "from keras.layers import LSTM, SpatialDropout1D, Activation, GlobalAveragePooling1D, Dense, Input, Dropout, Embedding, Conv1D, MaxPooling1D, GlobalMaxPooling1D\n",
    "from sklearn.linear_model import LogisticRegression\n",
    "from sklearn.feature_extraction.text import TfidfVectorizer\n",
    "from scipy.sparse import hstack\n",
    "from sklearn.metrics import ConfusionMatrixDisplay\n",
    "\n",
    "%matplotlib inline\n",
    "\n",
    "import warnings\n",
    "warnings.filterwarnings('ignore')"
   ]
  },
  {
   "cell_type": "code",
   "execution_count": 119,
   "metadata": {
    "colab": {},
    "colab_type": "code",
    "id": "1ZxAtymmOufT"
   },
   "outputs": [],
   "source": [
    "def load_data():\n",
    "  data=pd.read_csv('https://raw.githubusercontent.com/t-davidson/hate-speech-and-offensive-language/master/data/labeled_data.csv')\n",
    "  data=data.drop('Unnamed: 0', axis=1)\n",
    "  data=data.drop(labels=['hate_speech', 'offensive_language', 'neither', 'count'], axis=1)\n",
    "  return data"
   ]
  },
  {
   "cell_type": "code",
   "execution_count": 120,
   "metadata": {
    "colab": {},
    "colab_type": "code",
    "id": "uGMySd7rSR4L"
   },
   "outputs": [],
   "source": [
    "label={0:'hate_speech', 1:'offensive_language', 2:'neither'}"
   ]
  },
  {
   "cell_type": "code",
   "execution_count": 121,
   "metadata": {
    "colab": {},
    "colab_type": "code",
    "id": "THno6BlJRS4i"
   },
   "outputs": [],
   "source": [
    "def plot(data):\n",
    "  sns.countplot(data['class'])\n",
    "  plt.xlabel('Class')\n",
    "  plt.title('Distribution of data in each class')\n",
    "  plt.ylabel('Count')\n",
    "  plt.show()"
   ]
  },
  {
   "cell_type": "markdown",
   "metadata": {
    "colab_type": "text",
    "id": "_N85T_YU7GjP"
   },
   "source": [
    " Cleaning tweets"
   ]
  },
  {
   "cell_type": "code",
   "execution_count": 122,
   "metadata": {
    "colab": {},
    "colab_type": "code",
    "id": "kuL5Tn856B7Z"
   },
   "outputs": [],
   "source": [
    "import re\n",
    "def clean_text(data):\n",
    "  for i in range(len(data)):\n",
    "    txt = data.loc[i][\"tweet\"]\n",
    "    txt=re.sub(r'@[A-Z0-9a-z_:]+','',txt) #replace username-tags\n",
    "    txt=re.sub(r'^[RT]+','',txt) #replace RT-tags\n",
    "    txt = re.sub('https?://[A-Za-z0-9./]+','',txt) #replace URLs\n",
    "    txt=re.sub(\"[^a-zA-Z]\", \" \",txt) #replace hashtags\n",
    "    data.at[i,\"tweet\"]=txt\n",
    "  return data"
   ]
  },
  {
   "cell_type": "code",
   "execution_count": 123,
   "metadata": {
    "colab": {},
    "colab_type": "code",
    "id": "ATE9tdLOSK45"
   },
   "outputs": [],
   "source": [
    "def split_data(data):\n",
    "  X=data['tweet']\n",
    "  Y=data['class'].values\n",
    "  Y=to_categorical(Y)\n",
    "  X_train, X_test, y_train, y_test=train_test_split(X, Y, test_size=0.15)\n",
    "  return X_train, y_train, X_test, y_test"
   ]
  },
  {
   "cell_type": "markdown",
   "metadata": {
    "colab_type": "text",
    "id": "TLnkeVe8bM1q"
   },
   "source": [
    " Applying tokenization on the training data"
   ]
  },
  {
   "cell_type": "code",
   "execution_count": 124,
   "metadata": {
    "colab": {},
    "colab_type": "code",
    "id": "YX8622JvUIba"
   },
   "outputs": [],
   "source": [
    "def create_token(X):\n",
    "  token=Tokenizer()\n",
    "  token.fit_on_texts(X)\n",
    "  word_index = token.word_index\n",
    "  \n",
    "  sequences=token.texts_to_sequences(X)\n",
    "  pad_sequence=sequence.pad_sequences(sequences)\n",
    "\n",
    "  return token, pad_sequence, word_index"
   ]
  },
  {
   "cell_type": "markdown",
   "metadata": {
    "colab_type": "text",
    "id": "R31683EC3MjB"
   },
   "source": [
    "# Creating CNN model"
   ]
  },
  {
   "cell_type": "code",
   "execution_count": 125,
   "metadata": {
    "colab": {
     "base_uri": "https://localhost:8080/",
     "height": 34
    },
    "colab_type": "code",
    "id": "yAmpPQ379kul",
    "outputId": "dda308d9-1e87-48bb-f300-5aa749433254"
   },
   "outputs": [
    {
     "name": "stdout",
     "output_type": "stream",
     "text": [
      "Drive already mounted at /content/gdrive; to attempt to forcibly remount, call drive.mount(\"/content/gdrive\", force_remount=True).\n"
     ]
    }
   ],
   "source": [
    "from google.colab import drive\n",
    "drive.mount('/content/gdrive')"
   ]
  },
  {
   "cell_type": "code",
   "execution_count": 126,
   "metadata": {
    "colab": {
     "base_uri": "https://localhost:8080/",
     "height": 34
    },
    "colab_type": "code",
    "id": "FcGp8M5m-ANV",
    "outputId": "107c8faa-dc3c-4377-8aad-aa8682f327c5"
   },
   "outputs": [
    {
     "name": "stdout",
     "output_type": "stream",
     "text": [
      "/content/gdrive/My Drive/Colab Notebooks\n"
     ]
    }
   ],
   "source": [
    "%cd /content/gdrive/My Drive/Colab Notebooks"
   ]
  },
  {
   "cell_type": "code",
   "execution_count": 127,
   "metadata": {
    "colab": {},
    "colab_type": "code",
    "id": "Rxf8BFb39GFm"
   },
   "outputs": [],
   "source": [
    "def index_vector():\n",
    "  embeddings_index = {}\n",
    "  f = open('glove.6B.100d.txt', encoding='utf-8')\n",
    "  for line in f:\n",
    "    values = line.split()\n",
    "    word = values[0]\n",
    "    coefs = np.asarray(values[1:], dtype='float32')\n",
    "    embeddings_index[word] = coefs\n",
    "  f.close()\n",
    "  return embeddings_index\n",
    "\n",
    "def create_embed_matrix(word_index, embeddings_index):\n",
    "  embedding_matrix = np.zeros((len(word_index) + 1, 100))\n",
    "  for word, i in tqdm(word_index.items()):\n",
    "    embedding_vector = embeddings_index.get(word)\n",
    "    if embedding_vector is not None:\n",
    "        embedding_matrix[i] = embedding_vector\n",
    "  return embedding_matrix"
   ]
  },
  {
   "cell_type": "code",
   "execution_count": 128,
   "metadata": {
    "colab": {},
    "colab_type": "code",
    "id": "vfREXixU3MFo"
   },
   "outputs": [],
   "source": [
    "def cnn_model(nb_words, embedding_matrix, max_seq_len, num_classes=3):\n",
    "  model = Sequential()\n",
    "  embed_dim=100\n",
    "  num_filters=64\n",
    "  model.add(Embedding(nb_words, embed_dim, weights=[embedding_matrix], input_length=max_seq_len, trainable=True))\n",
    "  model.add(Conv1D(num_filters, 7, activation='relu', padding='same'))\n",
    "  model.add(MaxPooling1D(2))\n",
    "  model.add(Conv1D(num_filters, 7, activation='relu', padding='same'))\n",
    "  model.add(GlobalMaxPooling1D())\n",
    "  model.add(Dropout(0.5))\n",
    "  model.add(Dense(32, activation='relu'))\n",
    "  model.add(Dense(num_classes, activation='sigmoid'))  #multi-label (k-hot encoding)\n",
    "\n",
    "  adam = optimizers.Adam(lr=0.001, beta_1=0.9, beta_2=0.999, epsilon=1e-08, decay=0.0)\n",
    "  model.compile(loss='binary_crossentropy', optimizer=adam, metrics=['accuracy'])\n",
    "  model.summary()\n",
    "  return model"
   ]
  },
  {
   "cell_type": "markdown",
   "metadata": {
    "colab_type": "text",
    "id": "16mmKblBbTG0"
   },
   "source": [
    "# Creating LSTM model"
   ]
  },
  {
   "cell_type": "code",
   "execution_count": 129,
   "metadata": {
    "colab": {},
    "colab_type": "code",
    "id": "8QAmQWZ5ayS_"
   },
   "outputs": [],
   "source": [
    "def LSTM_model(max_words, max_phrase):\n",
    "  model = Sequential()\n",
    "  model.add(Embedding(input_dim = max_words, output_dim = 100, input_length = max_phrase))\n",
    "  model.add(SpatialDropout1D(0.3))\n",
    "  model.add(LSTM(256, dropout = 0.3, recurrent_dropout = 0.3))\n",
    "  model.add(Dense(256, activation = 'relu'))\n",
    "  model.add(Dropout(0.3))\n",
    "  model.add(Dense(3, activation = 'softmax'))\n",
    "  model.compile(loss='categorical_crossentropy', optimizer='Adam',metrics=['accuracy'])\n",
    "  model.summary()\n",
    "  return model"
   ]
  },
  {
   "cell_type": "code",
   "execution_count": 130,
   "metadata": {
    "colab": {},
    "colab_type": "code",
    "id": "yM_haKeSdtOD"
   },
   "outputs": [],
   "source": [
    "def fit_model(model, pad_sequence):\n",
    "  history = model.fit(pad_sequence, y_train, validation_split = 0.2, epochs = 10, batch_size = 128)\n",
    "  return model, history"
   ]
  },
  {
   "cell_type": "code",
   "execution_count": 131,
   "metadata": {
    "colab": {},
    "colab_type": "code",
    "id": "eE5sOvLzd-RN"
   },
   "outputs": [],
   "source": [
    "def plot_model(hist):\n",
    "  plt.figure(figsize=(10, 6))\n",
    "  plt.subplot(1, 2, 1)\n",
    "  plt.title('Accuracy')\n",
    "  plt.plot(np.arange(1, 11), hist.history['accuracy'], label='Training accuracy')\n",
    "  plt.plot(np.arange(1, 11), hist.history['val_accuracy'], label='Val_accuracy')\n",
    "  plt.xlabel('Epochs')\n",
    "  plt.ylabel('Accuracy')\n",
    "  plt.legend()\n",
    "\n",
    "  plt.subplot(1, 2, 2)\n",
    "  plt.title('Loss')\n",
    "  plt.plot(np.arange(1, 11), hist.history['loss'], label='Training loss')\n",
    "  plt.plot(np.arange(1, 11), hist.history['val_loss'],label='Val_loss')\n",
    "  plt.xlabel('Epochs')\n",
    "  plt.ylabel('Loss')\n",
    "  plt.legend()\n",
    "\n",
    "  plt.show()"
   ]
  },
  {
   "cell_type": "markdown",
   "metadata": {
    "colab_type": "text",
    "id": "GUuEGpIIAcO5"
   },
   "source": [
    " Training and Testing the model"
   ]
  },
  {
   "cell_type": "code",
   "execution_count": 132,
   "metadata": {
    "colab": {
     "base_uri": "https://localhost:8080/",
     "height": 195
    },
    "colab_type": "code",
    "id": "m3vG8YMyshZF",
    "outputId": "ecc0dc51-aa05-4712-8cbc-f7c2e2aa2a08"
   },
   "outputs": [
    {
     "data": {
      "text/html": [
       "<div>\n",
       "<style scoped>\n",
       "    .dataframe tbody tr th:only-of-type {\n",
       "        vertical-align: middle;\n",
       "    }\n",
       "\n",
       "    .dataframe tbody tr th {\n",
       "        vertical-align: top;\n",
       "    }\n",
       "\n",
       "    .dataframe thead th {\n",
       "        text-align: right;\n",
       "    }\n",
       "</style>\n",
       "<table border=\"1\" class=\"dataframe\">\n",
       "  <thead>\n",
       "    <tr style=\"text-align: right;\">\n",
       "      <th></th>\n",
       "      <th>class</th>\n",
       "      <th>tweet</th>\n",
       "    </tr>\n",
       "  </thead>\n",
       "  <tbody>\n",
       "    <tr>\n",
       "      <th>0</th>\n",
       "      <td>2</td>\n",
       "      <td>!!! RT @mayasolovely: As a woman you shouldn't...</td>\n",
       "    </tr>\n",
       "    <tr>\n",
       "      <th>1</th>\n",
       "      <td>1</td>\n",
       "      <td>!!!!! RT @mleew17: boy dats cold...tyga dwn ba...</td>\n",
       "    </tr>\n",
       "    <tr>\n",
       "      <th>2</th>\n",
       "      <td>1</td>\n",
       "      <td>!!!!!!! RT @UrKindOfBrand Dawg!!!! RT @80sbaby...</td>\n",
       "    </tr>\n",
       "    <tr>\n",
       "      <th>3</th>\n",
       "      <td>1</td>\n",
       "      <td>!!!!!!!!! RT @C_G_Anderson: @viva_based she lo...</td>\n",
       "    </tr>\n",
       "    <tr>\n",
       "      <th>4</th>\n",
       "      <td>1</td>\n",
       "      <td>!!!!!!!!!!!!! RT @ShenikaRoberts: The shit you...</td>\n",
       "    </tr>\n",
       "  </tbody>\n",
       "</table>\n",
       "</div>"
      ],
      "text/plain": [
       "   class                                              tweet\n",
       "0      2  !!! RT @mayasolovely: As a woman you shouldn't...\n",
       "1      1  !!!!! RT @mleew17: boy dats cold...tyga dwn ba...\n",
       "2      1  !!!!!!! RT @UrKindOfBrand Dawg!!!! RT @80sbaby...\n",
       "3      1  !!!!!!!!! RT @C_G_Anderson: @viva_based she lo...\n",
       "4      1  !!!!!!!!!!!!! RT @ShenikaRoberts: The shit you..."
      ]
     },
     "execution_count": 132,
     "metadata": {
      "tags": []
     },
     "output_type": "execute_result"
    }
   ],
   "source": [
    "data = load_data()\n",
    "data.head()"
   ]
  },
  {
   "cell_type": "code",
   "execution_count": 133,
   "metadata": {
    "colab": {
     "base_uri": "https://localhost:8080/",
     "height": 295
    },
    "colab_type": "code",
    "id": "-4Ry1QaYsiCh",
    "outputId": "0851ac42-7419-4851-a390-0712b7ee7bdc"
   },
   "outputs": [
    {
     "data": {
      "image/png": "[encoded data removed]",
      "text/plain": [
       "<Figure size 432x288 with 1 Axes>"
      ]
     },
     "metadata": {
      "needs_background": "light",
      "tags": []
     },
     "output_type": "display_data"
    }
   ],
   "source": [
    "plot(data)"
   ]
  },
  {
   "cell_type": "code",
   "execution_count": 134,
   "metadata": {
    "colab": {
     "base_uri": "https://localhost:8080/",
     "height": 50
    },
    "colab_type": "code",
    "id": "n_XyqAl-siZE",
    "outputId": "6e7a6836-8905-40b7-b8aa-ec2f6b108964"
   },
   "outputs": [
    {
     "name": "stdout",
     "output_type": "stream",
     "text": [
      "Length of train data: 21065\n",
      "Length of test data: 3718\n"
     ]
    }
   ],
   "source": [
    "data = clean_text(data)\n",
    "X_train, y_train, X_test, y_test = split_data(data)\n",
    "print(\"Length of train data: {}\".format(X_train.shape[0]))\n",
    "print(\"Length of test data: {}\".format(X_test.shape[0]))"
   ]
  },
  {
   "cell_type": "code",
   "execution_count": 135,
   "metadata": {
    "colab": {},
    "colab_type": "code",
    "id": "q70ScZnhshve"
   },
   "outputs": [],
   "source": [
    "token, train_pad, word_index = create_token(X_train)"
   ]
  },
  {
   "cell_type": "markdown",
   "metadata": {
    "colab_type": "text",
    "id": "SQedSl1SfEKR"
   },
   "source": [
    "# Train CNN_model"
   ]
  },
  {
   "cell_type": "code",
   "execution_count": 136,
   "metadata": {
    "colab": {
     "base_uri": "https://localhost:8080/",
     "height": 34
    },
    "colab_type": "code",
    "id": "jbzLtCNnCc1B",
    "outputId": "0f8fb255-0594-48cd-b6be-3b6d2c826d58"
   },
   "outputs": [
    {
     "name": "stderr",
     "output_type": "stream",
     "text": [
      "100%|██████████| 18442/18442 [00:00<00:00, 534175.99it/s]\n"
     ]
    }
   ],
   "source": [
    "embeddings_index=index_vector()\n",
    "embeddings_matrix=create_embed_matrix(word_index, embeddings_index)"
   ]
  },
  {
   "cell_type": "code",
   "execution_count": 137,
   "metadata": {
    "colab": {
     "base_uri": "https://localhost:8080/",
     "height": 420
    },
    "colab_type": "code",
    "id": "RDQbjL3AuBbM",
    "outputId": "802affb4-f40a-4d37-a3ff-7df1389a693d"
   },
   "outputs": [
    {
     "name": "stdout",
     "output_type": "stream",
     "text": [
      "Model: \"sequential_4\"\n",
      "_________________________________________________________________\n",
      "Layer (type)                 Output Shape              Param #   \n",
      "=================================================================\n",
      "embedding_4 (Embedding)      (None, 34, 100)           1844300   \n",
      "_________________________________________________________________\n",
      "conv1d_4 (Conv1D)            (None, 34, 64)            44864     \n",
      "_________________________________________________________________\n",
      "max_pooling1d_2 (MaxPooling1 (None, 17, 64)            0         \n",
      "_________________________________________________________________\n",
      "conv1d_5 (Conv1D)            (None, 17, 64)            28736     \n",
      "_________________________________________________________________\n",
      "global_max_pooling1d_2 (Glob (None, 64)                0         \n",
      "_________________________________________________________________\n",
      "dropout_4 (Dropout)          (None, 64)                0         \n",
      "_________________________________________________________________\n",
      "dense_8 (Dense)              (None, 32)                2080      \n",
      "_________________________________________________________________\n",
      "dense_9 (Dense)              (None, 3)                 99        \n",
      "=================================================================\n",
      "Total params: 1,920,079\n",
      "Trainable params: 1,920,079\n",
      "Non-trainable params: 0\n",
      "_________________________________________________________________\n"
     ]
    }
   ],
   "source": [
    "cnn_model = cnn_model(len(word_index)+1, embeddings_matrix, train_pad.shape[1])"
   ]
  },
  {
   "cell_type": "code",
   "execution_count": 138,
   "metadata": {
    "colab": {
     "base_uri": "https://localhost:8080/",
     "height": 353
    },
    "colab_type": "code",
    "id": "qGblyHKtuBwS",
    "outputId": "8d313987-6170-4912-ff67-7615e8085d53"
   },
   "outputs": [
    {
     "name": "stdout",
     "output_type": "stream",
     "text": [
      "Epoch 1/10\n",
      "132/132 [==============================] - 3s 26ms/step - loss: 0.3448 - accuracy: 0.7906 - val_loss: 0.2262 - val_accuracy: 0.8763\n",
      "Epoch 2/10\n",
      "132/132 [==============================] - 3s 25ms/step - loss: 0.2141 - accuracy: 0.8817 - val_loss: 0.1870 - val_accuracy: 0.9001\n",
      "Epoch 3/10\n",
      "132/132 [==============================] - 3s 25ms/step - loss: 0.1697 - accuracy: 0.9070 - val_loss: 0.1760 - val_accuracy: 0.9041\n",
      "Epoch 4/10\n",
      "132/132 [==============================] - 3s 25ms/step - loss: 0.1370 - accuracy: 0.9249 - val_loss: 0.1795 - val_accuracy: 0.9074\n",
      "Epoch 5/10\n",
      "132/132 [==============================] - 3s 25ms/step - loss: 0.1100 - accuracy: 0.9375 - val_loss: 0.1871 - val_accuracy: 0.9046\n",
      "Epoch 6/10\n",
      "132/132 [==============================] - 3s 25ms/step - loss: 0.0886 - accuracy: 0.9497 - val_loss: 0.2014 - val_accuracy: 0.9027\n",
      "Epoch 7/10\n",
      "132/132 [==============================] - 3s 25ms/step - loss: 0.0708 - accuracy: 0.9607 - val_loss: 0.2302 - val_accuracy: 0.8939\n",
      "Epoch 8/10\n",
      "132/132 [==============================] - 3s 25ms/step - loss: 0.0540 - accuracy: 0.9712 - val_loss: 0.2431 - val_accuracy: 0.8894\n",
      "Epoch 9/10\n",
      "132/132 [==============================] - 3s 24ms/step - loss: 0.0399 - accuracy: 0.9777 - val_loss: 0.2915 - val_accuracy: 0.8944\n",
      "Epoch 10/10\n",
      "132/132 [==============================] - 3s 24ms/step - loss: 0.0301 - accuracy: 0.9847 - val_loss: 0.3353 - val_accuracy: 0.8948\n"
     ]
    }
   ],
   "source": [
    "cnn_model, cnn_hist = fit_model(cnn_model, train_pad)"
   ]
  },
  {
   "cell_type": "code",
   "execution_count": 139,
   "metadata": {
    "colab": {
     "base_uri": "https://localhost:8080/",
     "height": 404
    },
    "colab_type": "code",
    "id": "6OSMVvJbkhhy",
    "outputId": "141ad2d5-ff65-4860-f7fe-624cd9486236"
   },
   "outputs": [
    {
     "data": {
      "image/png": "[encoded data removed]",
      "text/plain": [
       "<Figure size 720x432 with 2 Axes>"
      ]
     },
     "metadata": {
      "needs_background": "light",
      "tags": []
     },
     "output_type": "display_data"
    }
   ],
   "source": [
    "plot_model(cnn_hist)"
   ]
  },
  {
   "cell_type": "markdown",
   "metadata": {
    "colab_type": "text",
    "id": "Zsnr00MufIHx"
   },
   "source": [
    "# Train LSTM model"
   ]
  },
  {
   "cell_type": "code",
   "execution_count": 36,
   "metadata": {
    "colab": {
     "base_uri": "https://localhost:8080/",
     "height": 370
    },
    "colab_type": "code",
    "id": "THbzHWv_C7tF",
    "outputId": "a9fbb485-68cc-41ec-8fda-33357fb3f7d2"
   },
   "outputs": [
    {
     "name": "stdout",
     "output_type": "stream",
     "text": [
      "WARNING:tensorflow:Layer lstm_1 will not use cuDNN kernel since it doesn't meet the cuDNN kernel criteria. It will use generic GPU kernel as fallback when running on GPU\n",
      "Model: \"sequential_2\"\n",
      "_________________________________________________________________\n",
      "Layer (type)                 Output Shape              Param #   \n",
      "=================================================================\n",
      "embedding_2 (Embedding)      (None, 34, 100)           1851400   \n",
      "_________________________________________________________________\n",
      "spatial_dropout1d_1 (Spatial (None, 34, 100)           0         \n",
      "_________________________________________________________________\n",
      "lstm_1 (LSTM)                (None, 256)               365568    \n",
      "_________________________________________________________________\n",
      "dense_4 (Dense)              (None, 256)               65792     \n",
      "_________________________________________________________________\n",
      "dropout_2 (Dropout)          (None, 256)               0         \n",
      "_________________________________________________________________\n",
      "dense_5 (Dense)              (None, 3)                 771       \n",
      "=================================================================\n",
      "Total params: 2,283,531\n",
      "Trainable params: 2,283,531\n",
      "Non-trainable params: 0\n",
      "_________________________________________________________________\n"
     ]
    }
   ],
   "source": [
    "lstm_model = LSTM_model(len(word_index)+1, train_pad.shape[1])"
   ]
  },
  {
   "cell_type": "code",
   "execution_count": 37,
   "metadata": {
    "colab": {
     "base_uri": "https://localhost:8080/",
     "height": 353
    },
    "colab_type": "code",
    "id": "6MFwBiQR8pK5",
    "outputId": "abb0f682-273d-466a-ea4d-2a7c1e4e4456"
   },
   "outputs": [
    {
     "name": "stdout",
     "output_type": "stream",
     "text": [
      "Epoch 1/10\n",
      "132/132 [==============================] - 32s 239ms/step - loss: 0.5540 - accuracy: 0.8103 - val_loss: 0.3706 - val_accuracy: 0.8785\n",
      "Epoch 2/10\n",
      "132/132 [==============================] - 31s 235ms/step - loss: 0.2997 - accuracy: 0.9018 - val_loss: 0.3213 - val_accuracy: 0.8868\n",
      "Epoch 3/10\n",
      "132/132 [==============================] - 31s 232ms/step - loss: 0.2146 - accuracy: 0.9275 - val_loss: 0.3276 - val_accuracy: 0.8846\n",
      "Epoch 4/10\n",
      "132/132 [==============================] - 30s 229ms/step - loss: 0.1613 - accuracy: 0.9426 - val_loss: 0.3520 - val_accuracy: 0.8908\n",
      "Epoch 5/10\n",
      "132/132 [==============================] - 31s 231ms/step - loss: 0.1245 - accuracy: 0.9567 - val_loss: 0.3605 - val_accuracy: 0.8899\n",
      "Epoch 6/10\n",
      "132/132 [==============================] - 30s 230ms/step - loss: 0.1015 - accuracy: 0.9638 - val_loss: 0.4227 - val_accuracy: 0.8827\n",
      "Epoch 7/10\n",
      "132/132 [==============================] - 31s 231ms/step - loss: 0.0805 - accuracy: 0.9718 - val_loss: 0.4509 - val_accuracy: 0.8797\n",
      "Epoch 8/10\n",
      "132/132 [==============================] - 31s 233ms/step - loss: 0.0732 - accuracy: 0.9733 - val_loss: 0.4946 - val_accuracy: 0.8699\n",
      "Epoch 9/10\n",
      "132/132 [==============================] - 30s 230ms/step - loss: 0.0559 - accuracy: 0.9794 - val_loss: 0.5086 - val_accuracy: 0.8706\n",
      "Epoch 10/10\n",
      "132/132 [==============================] - 31s 231ms/step - loss: 0.0525 - accuracy: 0.9810 - val_loss: 0.5452 - val_accuracy: 0.8775\n"
     ]
    }
   ],
   "source": [
    "lstm_model, lstm_hist = fit_model(lstm_model, train_pad)"
   ]
  },
  {
   "cell_type": "code",
   "execution_count": 38,
   "metadata": {
    "colab": {
     "base_uri": "https://localhost:8080/",
     "height": 404
    },
    "colab_type": "code",
    "id": "HrtirS-dk_82",
    "outputId": "7388e615-01dd-45af-be2a-20a0496f3454"
   },
   "outputs": [
    {
     "data": {
      "image/png": "[encoded data removed]",
      "text/plain": [
       "<Figure size 720x432 with 2 Axes>"
      ]
     },
     "metadata": {
      "needs_background": "light",
      "tags": []
     },
     "output_type": "display_data"
    }
   ],
   "source": [
    "plot_model(lstm_hist)"
   ]
  },
  {
   "cell_type": "code",
   "execution_count": 142,
   "metadata": {
    "colab": {},
    "colab_type": "code",
    "id": "ZTwJsFM-0DY7"
   },
   "outputs": [],
   "source": [
    "def check_accuracy(model, X_test, y_test):\n",
    "  test_sequences=token.texts_to_sequences(X_test)\n",
    "  test_pad=sequence.pad_sequences(test_sequences, maxlen=train_pad.shape[1])\n",
    "  y_pred = model.predict(test_pad)\n",
    "  acc=model.evaluate(test_pad, y_test)\n",
    "  print(\"Accuracy: {}\".format(acc[1]))\n",
    "  y_test_=np.argmax(y_test, axis=1)\n",
    "  y_pred=np.argmax(y_pred, axis=1)\n",
    "  print(metrics.classification_report(y_test_, y_pred))\n",
    "  cm = confusion_matrix(y_test_, y_pred, normalize='true')\n",
    "  \n",
    "  np.set_printoptions(precision=2)\n",
    "  # cm = confusion_matrix(y_test, y_pred)\n",
    "\n",
    "  cm_display = ConfusionMatrixDisplay(cm, display_labels=label.values()).plot(cmap=plt.cm.Blues)"
   ]
  },
  {
   "cell_type": "markdown",
   "metadata": {
    "colab_type": "text",
    "id": "FOazozeZfOZf"
   },
   "source": [
    "# Train Logistic regression"
   ]
  },
  {
   "cell_type": "code",
   "execution_count": 40,
   "metadata": {
    "colab": {},
    "colab_type": "code",
    "id": "BDnYE0iMSBxF"
   },
   "outputs": [],
   "source": [
    "text_transformer = TfidfVectorizer(stop_words='english', ngram_range=(1, 2), lowercase=True, max_features=10000)"
   ]
  },
  {
   "cell_type": "code",
   "execution_count": 41,
   "metadata": {
    "colab": {},
    "colab_type": "code",
    "id": "1_-AJV_zSQW5"
   },
   "outputs": [],
   "source": [
    "X_train_text = text_transformer.fit_transform(X_train)\n",
    "X_test_text = text_transformer.transform(X_test)"
   ]
  },
  {
   "cell_type": "code",
   "execution_count": 42,
   "metadata": {
    "colab": {},
    "colab_type": "code",
    "id": "ksb72PDSUeuj"
   },
   "outputs": [],
   "source": [
    "logit = LogisticRegression(C=5, solver='lbfgs', multi_class='multinomial', random_state=17, n_jobs=4)\n",
    "skf = StratifiedKFold(n_splits=5, shuffle=True, random_state=17)"
   ]
  },
  {
   "cell_type": "code",
   "execution_count": 43,
   "metadata": {
    "colab": {},
    "colab_type": "code",
    "id": "y_eWGdC2b4gF"
   },
   "outputs": [],
   "source": [
    "y_train_org = np.argmax(y_train, axis=1)\n",
    "y_test_org = np.argmax(y_test, axis=1)"
   ]
  },
  {
   "cell_type": "code",
   "execution_count": 44,
   "metadata": {
    "colab": {
     "base_uri": "https://localhost:8080/",
     "height": 101
    },
    "colab_type": "code",
    "id": "38nhamu5V0cO",
    "outputId": "93450868-7696-4028-ad84-898e0ed655da"
   },
   "outputs": [
    {
     "data": {
      "text/plain": [
       "LogisticRegression(C=5, class_weight=None, dual=False, fit_intercept=True,\n",
       "                   intercept_scaling=1, l1_ratio=None, max_iter=100,\n",
       "                   multi_class='multinomial', n_jobs=4, penalty='l2',\n",
       "                   random_state=17, solver='lbfgs', tol=0.0001, verbose=0,\n",
       "                   warm_start=False)"
      ]
     },
     "execution_count": 44,
     "metadata": {
      "tags": []
     },
     "output_type": "execute_result"
    }
   ],
   "source": [
    "cv_results = cross_val_score(logit, X_train_text, y_train_org, cv=skf, scoring='f1_micro')\n",
    "logit.fit(X_train_text, y_train_org)"
   ]
  },
  {
   "cell_type": "markdown",
   "metadata": {
    "colab_type": "text",
    "id": "XS7gJHI9ev7-"
   },
   "source": [
    "# Compare accuracy"
   ]
  },
  {
   "cell_type": "code",
   "execution_count": 143,
   "metadata": {
    "colab": {
     "base_uri": "https://localhost:8080/",
     "height": 498
    },
    "colab_type": "code",
    "id": "C4ovZMuVc3BL",
    "outputId": "dbf0ce99-137b-42b5-9803-2024c78b69f3"
   },
   "outputs": [
    {
     "name": "stdout",
     "output_type": "stream",
     "text": [
      "CNN accuracy : \n",
      "117/117 [==============================] - 0s 3ms/step - loss: 0.3290 - accuracy: 0.8943\n",
      "Accuracy: 0.8942980170249939\n",
      "              precision    recall  f1-score   support\n",
      "\n",
      "           0       0.46      0.25      0.32       222\n",
      "           1       0.92      0.96      0.94      2903\n",
      "           2       0.84      0.83      0.84       593\n",
      "\n",
      "    accuracy                           0.89      3718\n",
      "   macro avg       0.74      0.68      0.70      3718\n",
      "weighted avg       0.88      0.89      0.89      3718\n",
      "\n"
     ]
    },
    {
     "data": {
      "image/png": "[encoded data removed]",
      "text/plain": [
       "<Figure size 432x288 with 2 Axes>"
      ]
     },
     "metadata": {
      "needs_background": "light",
      "tags": []
     },
     "output_type": "display_data"
    }
   ],
   "source": [
    "from sklearn import metrics\n",
    "print(\"CNN accuracy : \")\n",
    "check_accuracy(cnn_model, X_test, y_test)"
   ]
  },
  {
   "cell_type": "code",
   "execution_count": 109,
   "metadata": {
    "colab": {
     "base_uri": "https://localhost:8080/",
     "height": 549
    },
    "colab_type": "code",
    "id": "4XzxT33FfVRc",
    "outputId": "43e15d82-e951-40d2-8445-244b895b1190"
   },
   "outputs": [
    {
     "name": "stdout",
     "output_type": "stream",
     "text": [
      "LSTM accuracy : \n",
      "117/117 [==============================] - 2s 20ms/step - loss: 0.1993 - accuracy: 0.9505\n",
      "Accuracy: 0.9505110383033752\n",
      "              precision    recall  f1-score   support\n",
      "\n",
      "           0       0.79      0.68      0.73       219\n",
      "           1       0.96      0.98      0.97      2852\n",
      "           2       0.96      0.91      0.93       647\n",
      "\n",
      "    accuracy                           0.95      3718\n",
      "   macro avg       0.90      0.86      0.88      3718\n",
      "weighted avg       0.95      0.95      0.95      3718\n",
      "\n",
      "[[0.68 0.3  0.02]\n",
      " [0.01 0.98 0.01]\n",
      " [0.01 0.08 0.91]]\n"
     ]
    },
    {
     "data": {
      "image/png": "[encoded data removed]",
      "text/plain": [
       "<Figure size 432x288 with 2 Axes>"
      ]
     },
     "metadata": {
      "needs_background": "light",
      "tags": []
     },
     "output_type": "display_data"
    }
   ],
   "source": [
    "print(\"LSTM accuracy : \")\n",
    "check_accuracy(lstm_model, X_test, y_test)"
   ]
  },
  {
   "cell_type": "code",
   "execution_count": 117,
   "metadata": {
    "colab": {
     "base_uri": "https://localhost:8080/",
     "height": 465
    },
    "colab_type": "code",
    "id": "OG_Pqin0lRF5",
    "outputId": "5129cb6f-2850-4dfb-fcab-21506e5edfb7"
   },
   "outputs": [
    {
     "name": "stdout",
     "output_type": "stream",
     "text": [
      "Logistic regression accuracy : \n",
      "              precision    recall  f1-score   support\n",
      "\n",
      "           0       0.07      0.03      0.04       219\n",
      "           1       0.77      0.81      0.79      2852\n",
      "           2       0.19      0.18      0.19       647\n",
      "\n",
      "    accuracy                           0.65      3718\n",
      "   macro avg       0.34      0.34      0.34      3718\n",
      "weighted avg       0.63      0.65      0.64      3718\n",
      "\n"
     ]
    },
    {
     "data": {
      "image/png": "[encoded data removed]",
      "text/plain": [
       "<Figure size 432x288 with 2 Axes>"
      ]
     },
     "metadata": {
      "needs_background": "light",
      "tags": []
     },
     "output_type": "display_data"
    }
   ],
   "source": [
    "print(\"Logistic regression accuracy : \")\n",
    "logit.score(X_test_text, y_test_org)\n",
    "y_pred = logit.predict(X_test_text)\n",
    "y_test_=np.argmax(y_test, axis=1)\n",
    "print(metrics.classification_report(y_test_, y_pred))\n",
    "cm = confusion_matrix(y_test_, y_pred, normalize='true')\n",
    "\n",
    "np.set_printoptions(precision=2)\n",
    "# cm = confusion_matrix(y_test, y_pred)\n",
    "\n",
    "cm_display = ConfusionMatrixDisplay(cm, display_labels=label.values()).plot(cmap=plt.cm.Blues)"
   ]
  }
 ],
 "metadata": {
  "accelerator": "GPU",
  "colab": {
   "collapsed_sections": [],
   "name": "Text_classification_(LSTM).ipynb",
   "provenance": []
  },
  "kernelspec": {
   "display_name": "Python 3",
   "language": "python",
   "name": "python3"
  },
  "language_info": {
   "codemirror_mode": {
    "name": "ipython",
    "version": 3
   },
   "file_extension": ".py",
   "mimetype": "text/x-python",
   "name": "python",
   "nbconvert_exporter": "python",
   "pygments_lexer": "ipython3",
   "version": "3.6.7"
  }
 },
 "nbformat": 4,
 "nbformat_minor": 1
}
