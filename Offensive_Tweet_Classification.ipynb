{
  "nbformat": 4,
  "nbformat_minor": 0,
  "metadata": {
    "colab": {
      "name": "Offensive Tweet Classification",
      "provenance": [],
      "collapsed_sections": []
    },
    "kernelspec": {
      "name": "python3",
      "display_name": "Python 3"
    },
    "accelerator": "GPU"
  },
  "cells": [
    {
      "cell_type": "code",
      "metadata": {
        "id": "cikgdPvnhIFr",
        "colab": {
          "base_uri": "https://localhost:8080/",
          "height": 190
        },
        "outputId": "c59c7aae-7ab0-4719-a63f-3a474d7b83fb"
      },
      "source": [
        "!pip install emoji"
      ],
      "execution_count": null,
      "outputs": [
        {
          "output_type": "stream",
          "text": [
            "Collecting emoji\n",
            "\u001b[?25l  Downloading https://files.pythonhosted.org/packages/40/8d/521be7f0091fe0f2ae690cc044faf43e3445e0ff33c574eae752dd7e39fa/emoji-0.5.4.tar.gz (43kB)\n",
            "\r\u001b[K     |███████▌                        | 10kB 21.5MB/s eta 0:00:01\r\u001b[K     |███████████████                 | 20kB 5.6MB/s eta 0:00:01\r\u001b[K     |██████████████████████▋         | 30kB 6.5MB/s eta 0:00:01\r\u001b[K     |██████████████████████████████▏ | 40kB 7.1MB/s eta 0:00:01\r\u001b[K     |████████████████████████████████| 51kB 4.2MB/s \n",
            "\u001b[?25hBuilding wheels for collected packages: emoji\n",
            "  Building wheel for emoji (setup.py) ... \u001b[?25l\u001b[?25hdone\n",
            "  Created wheel for emoji: filename=emoji-0.5.4-cp36-none-any.whl size=42176 sha256=d88b9bd7368ade8d43f3231ba1a0dfbc8a258e33d5ea6d21d52dbcf98c386f31\n",
            "  Stored in directory: /root/.cache/pip/wheels/2a/a9/0a/4f8e8cce8074232aba240caca3fade315bb49fac68808d1a9c\n",
            "Successfully built emoji\n",
            "Installing collected packages: emoji\n",
            "Successfully installed emoji-0.5.4\n"
          ],
          "name": "stdout"
        }
      ]
    },
    {
      "cell_type": "code",
      "metadata": {
        "id": "iojbsQIQ-XNJ",
        "colab": {
          "base_uri": "https://localhost:8080/",
          "height": 124
        },
        "outputId": "10173e08-e3b1-4566-fb30-d797b31f99c8"
      },
      "source": [
        "from google.colab import drive\n",
        "drive.mount('/content/drive')"
      ],
      "execution_count": null,
      "outputs": [
        {
          "output_type": "stream",
          "text": [
            "Go to this URL in a browser: https://accounts.google.com/o/oauth2/auth?client_id=947318989803-6bn6qk8qdgf4n4g3pfee6491hc0brc4i.apps.googleusercontent.com&redirect_uri=urn%3aietf%3awg%3aoauth%3a2.0%3aoob&response_type=code&scope=email%20https%3a%2f%2fwww.googleapis.com%2fauth%2fdocs.test%20https%3a%2f%2fwww.googleapis.com%2fauth%2fdrive%20https%3a%2f%2fwww.googleapis.com%2fauth%2fdrive.photos.readonly%20https%3a%2f%2fwww.googleapis.com%2fauth%2fpeopleapi.readonly\n",
            "\n",
            "Enter your authorization code:\n",
            "··········\n",
            "Mounted at /content/drive\n"
          ],
          "name": "stdout"
        }
      ]
    },
    {
      "cell_type": "code",
      "metadata": {
        "id": "RA9C3bQzoXnP",
        "colab": {
          "base_uri": "https://localhost:8080/",
          "height": 52
        },
        "outputId": "fcd24b9e-70e3-41bd-cd8b-da6f83dffb06"
      },
      "source": [
        "import pandas as pd\n",
        "import emoji\n",
        "import nltk\n",
        "from nltk.corpus import stopwords \n",
        "import string\n",
        "from sklearn.preprocessing import LabelEncoder, OneHotEncoder\n",
        "\n",
        "nltk.download('stopwords')  \n",
        "stop_words = set(stopwords.words('english')) \n",
        "\n",
        "#Reading datasets from csv and tsv files\n",
        "\n",
        "olid_train_dataset = pd.read_csv('/content/drive/My Drive/OLIDv1.0/olid-training-v1.0.tsv',sep='\\t',index_col=0)\n",
        "olid_test_dataset_a = pd.read_csv('/content/drive/My Drive/OLIDv1.0/testset-levela.tsv',sep='\\t',index_col=0)\n",
        "\n",
        "olid_test_labels_a = pd.read_csv('/content/drive/My Drive/OLIDv1.0/labels-levela.csv',names=['label'],index_col=0)\n",
        "olid_test_labels_b = pd.read_csv('/content/drive/My Drive/OLIDv1.0/labels-levelb.csv',names=['label'],index_col=0)\n",
        "olid_test_labels_c = pd.read_csv('/content/drive/My Drive/OLIDv1.0/labels-levelc.csv',names=['label'],index_col=0)\n"
      ],
      "execution_count": null,
      "outputs": [
        {
          "output_type": "stream",
          "text": [
            "[nltk_data] Downloading package stopwords to /root/nltk_data...\n",
            "[nltk_data]   Unzipping corpora/stopwords.zip.\n"
          ],
          "name": "stdout"
        }
      ]
    },
    {
      "cell_type": "code",
      "metadata": {
        "id": "dlOAJrOvAb1x"
      },
      "source": [
        "#Create lists for train and test subtask labels\n",
        "train_data_subtask_a = list(olid_train_dataset['tweet'][:])\n",
        "test_data_subtask_a = list(olid_test_dataset_a['tweet'][:])\n",
        "\n",
        "train_labels_subtask_a = list(olid_train_dataset['subtask_a'][:])\n",
        "train_labels_subtask_b = list(olid_train_dataset['subtask_b'][:])\n",
        "train_labels_subtask_c = list(olid_train_dataset['subtask_c'][:])\n",
        "\n",
        "a_indexes = list(olid_test_labels_a.index)\n",
        "\n",
        "test_labels_subtask_a = list(olid_test_labels_a['label'])\n",
        "test_labels_subtask_b = []\n",
        "test_labels_subtask_c = []\n",
        "\n",
        "for i in range(len(a_indexes)):\n",
        "  if a_indexes[i] in olid_test_labels_b.index:\n",
        "    test_labels_subtask_b.append(olid_test_labels_b.loc[a_indexes[i]]['label'])\n",
        "  else:\n",
        "    test_labels_subtask_b.append('nan')\n",
        "\n",
        "  if a_indexes[i] in olid_test_labels_c.index:\n",
        "    test_labels_subtask_c.append(olid_test_labels_c.loc[a_indexes[i]]['label'])\n",
        "  else:\n",
        "    test_labels_subtask_c.append('nan')"
      ],
      "execution_count": null,
      "outputs": []
    },
    {
      "cell_type": "code",
      "metadata": {
        "id": "Ldqdbj6hGoRE"
      },
      "source": [
        "#Combine classes for both test and train dataset\n",
        "def concatenate_five_classes(labels_a,labels_b,labels_c):\n",
        "  combined_class = []\n",
        "  for i in range(len(labels_a)):\n",
        "    if str(labels_b[i]) == 'nan' and str(labels_c[i]) == 'nan':\n",
        "      combined_class.append('NOT')\n",
        "    elif str(labels_b[i]) != 'nan' and str(labels_c[i]) == 'nan':\n",
        "      combined_class.append('OFF-UNT')\n",
        "    else:\n",
        "      combined_class.append('OFF-TIN-'+str(labels_c[i]))\n",
        "    \n",
        "  return combined_class\n",
        "\n",
        "train_labels_abc = concatenate_five_classes(train_labels_subtask_a,train_labels_subtask_b,train_labels_subtask_c)\n",
        "test_labels_abc = concatenate_five_classes(test_labels_subtask_a,test_labels_subtask_b,test_labels_subtask_c)"
      ],
      "execution_count": null,
      "outputs": []
    },
    {
      "cell_type": "code",
      "metadata": {
        "id": "pkK30rS-12VV",
        "colab": {
          "base_uri": "https://localhost:8080/",
          "height": 34
        },
        "outputId": "0adf99ff-ccd2-4879-add2-07e26bf159bb"
      },
      "source": [
        "len(test_labels_abc)"
      ],
      "execution_count": null,
      "outputs": [
        {
          "output_type": "execute_result",
          "data": {
            "text/plain": [
              "860"
            ]
          },
          "metadata": {
            "tags": []
          },
          "execution_count": 6
        }
      ]
    },
    {
      "cell_type": "code",
      "metadata": {
        "id": "q-AvqlgZO6QX"
      },
      "source": [
        "#Sub Task A - Binary Classification for text being offensive and not offensive\n",
        "#Tokenization and Preprocessing for train and test data\n",
        "\n",
        "from nltk.tokenize import WhitespaceTokenizer\n",
        "\n",
        "whitespacetokenizer = WhitespaceTokenizer()\n",
        "\n",
        "#Tokenization\n",
        "subtask_a_corpus = [whitespacetokenizer.tokenize(emoji.demojize(i)) for i in train_data_subtask_a]\n",
        "subtask_a_corpus_test = [whitespacetokenizer.tokenize(emoji.demojize(i)) for i in test_data_subtask_a]\n",
        "\n",
        "def preprocess_corpus(corpus,corpus_labels,corpus_labels_abc):\n",
        "  corpus_pre_processed = []\n",
        "  corpus_pre_processed_labels = []\n",
        "  corpus_pre_processed_labels_abc = []\n",
        "\n",
        "  #Strip words of punctuations and digits\n",
        "  \n",
        "  punctuationList = string.punctuation.replace(\"*\",\"\") #To ignore * \n",
        "  punctuationList = punctuationList.replace(\":\",\"\")  #To ignore : in emoji strings\n",
        "  punctuationList = punctuationList + '’'\n",
        "\n",
        "  table = str.maketrans('', '', punctuationList+'0123456789')\n",
        "\n",
        "  corpus_stripped = []\n",
        "  for words in corpus:\n",
        "    stripped = []\n",
        "    for w in words:\n",
        "      stripped.append(w.translate(table))\n",
        "    corpus_stripped.append(stripped) \n",
        "\n",
        "  for sentence_index in range(len(corpus_stripped)):\n",
        "    new_sentence = []\n",
        "    for word in corpus_stripped[sentence_index]:\n",
        "      word = word.lower()\n",
        "      if word.isdigit() or word == ''  or word == 'url' or word == 'user' or word == 'maga'  or word in stop_words:\n",
        "        pass\n",
        "      else:\n",
        "        new_sentence.append(word)\n",
        "    \n",
        "\n",
        "    corpus_pre_processed.append(new_sentence)\n",
        "\n",
        "    #Create new list of labels with corresponding preprocessed corpus data\n",
        "    corpus_pre_processed_labels.append(corpus_labels[sentence_index])\n",
        "    corpus_pre_processed_labels_abc.append(corpus_labels_abc[sentence_index])\n",
        "\n",
        "  return corpus_pre_processed,corpus_pre_processed_labels,corpus_pre_processed_labels_abc\n",
        "\n"
      ],
      "execution_count": null,
      "outputs": []
    },
    {
      "cell_type": "code",
      "metadata": {
        "id": "46V4dGgm5eQz"
      },
      "source": [
        "preprocessed_corpus_a,preprocessed_corpus_a_labels,preprocessed_corpus_labels_abc = preprocess_corpus(subtask_a_corpus,train_labels_subtask_a,train_labels_abc)\n",
        "preprocessed_corpus_a_test,preprocessed_corpus_a_labels_test,preprocessed_corpus_labels_abc_test = preprocess_corpus(subtask_a_corpus_test,test_labels_subtask_a,test_labels_abc)"
      ],
      "execution_count": null,
      "outputs": []
    },
    {
      "cell_type": "code",
      "metadata": {
        "id": "iB1xVG_LPh2D"
      },
      "source": [
        "flat_corpus_a = []\n",
        "for sentence_index in range(len(preprocessed_corpus_a)):\n",
        "  for word in preprocessed_corpus_a[sentence_index]:\n",
        "    flat_corpus_a.append(word)\n"
      ],
      "execution_count": null,
      "outputs": []
    },
    {
      "cell_type": "code",
      "metadata": {
        "id": "MQdaObCeU3_W"
      },
      "source": [
        "#List of unique words / Vocabulary\n",
        "corpus_a_word_index = set(flat_corpus_a)\n",
        "\n",
        "#Word to indices dictionary with first 3 indexes for extra tokens\n",
        "word2idx = {word:id+3 for id,word in enumerate(corpus_a_word_index)}\n",
        "word2idx[\"<PAD>\"] = 0\n",
        "word2idx[\"<START>\"] = 1\n",
        "word2idx[\"<UNK>\"] = 2  \n",
        "\n",
        "idx2word = {id:word for (word,id) in word2idx.items()}\n"
      ],
      "execution_count": null,
      "outputs": []
    },
    {
      "cell_type": "code",
      "metadata": {
        "id": "XpALacOk5y5g"
      },
      "source": [
        "#Preparing training and test data and labels before feeding to model\n",
        "X_train = []\n",
        "y_train = []\n",
        "\n",
        "for i in range(len(preprocessed_corpus_a)):\n",
        "    X_train.append([word2idx[j] for j in preprocessed_corpus_a[i]])\n",
        "    \n",
        "    if preprocessed_corpus_a_labels[i] == 'OFF':\n",
        "      y_train.append(1)\n",
        "    else:\n",
        "      y_train.append(0)\n",
        "\n",
        "X_test = []\n",
        "y_test = []\n",
        "\n",
        "#Assigning index value of <UNK> -> 2 to words in test data that are not in word2idx dictionary\n",
        "for i in range(len(preprocessed_corpus_a_test)):\n",
        "    X_test.append([word2idx[j] if j in word2idx.keys() else word2idx['<UNK>'] for j in preprocessed_corpus_a_test[i]])\n",
        "    \n",
        "    if preprocessed_corpus_a_labels_test[i] == 'OFF':\n",
        "      y_test.append(1)\n",
        "    else:\n",
        "      y_test.append(0)\n"
      ],
      "execution_count": null,
      "outputs": []
    },
    {
      "cell_type": "code",
      "metadata": {
        "id": "GTMMmmCgu84H",
        "colab": {
          "base_uri": "https://localhost:8080/",
          "height": 34
        },
        "outputId": "c0055aea-3171-4857-fbd5-273f0b2ea9af"
      },
      "source": [
        "#Predefined functions for one hot and global average pooling in Lab 4\n",
        "\n",
        "import keras\n",
        "import numpy as np\n",
        "from keras.layers import Lambda, GlobalAveragePooling1D, Dense, Embedding,LSTM,Dropout,SimpleRNN,Conv1D,GlobalMaxPooling1D\n",
        "from keras import backend as K\n",
        "from keras.models import Sequential\n",
        "\n",
        "def OneHot(input_dim=None, input_length=None):\n",
        "    \n",
        "    if input_dim is None or input_length is None:\n",
        "        raise TypeError(\"input_dim or input_length is not set\")\n",
        "\n",
        "    \n",
        "    def _one_hot(x, num_classes):\n",
        "        return K.one_hot(K.cast(x, 'uint8'),\n",
        "                          num_classes=num_classes)\n",
        "\n",
        "    return Lambda(_one_hot,\n",
        "                  arguments={'num_classes': input_dim},\n",
        "                  input_shape=(input_length,))\n",
        "    \n",
        "class GlobalAveragePooling1DMasked(GlobalAveragePooling1D):\n",
        "    def call(self, x, mask=None):\n",
        "        if mask != None:\n",
        "            return K.sum(x, axis=1) / K.sum(mask, axis=1)\n",
        "        else:\n",
        "            return super().call(x)"
      ],
      "execution_count": null,
      "outputs": [
        {
          "output_type": "stream",
          "text": [
            "Using TensorFlow backend.\n"
          ],
          "name": "stderr"
        }
      ]
    },
    {
      "cell_type": "code",
      "metadata": {
        "id": "6AH4LMEdvGCx"
      },
      "source": [
        "VOCAB_SIZE = len(corpus_a_word_index)+2\n",
        "MAX_SEQUENCE_LENGTH = 60\n",
        "\n",
        "X_train_enc = keras.preprocessing.sequence.pad_sequences(X_train,\n",
        "                                                        value=word2idx[\"<PAD>\"],\n",
        "                                                        padding='pre',\n",
        "                                                        maxlen=MAX_SEQUENCE_LENGTH)\n",
        "X_test_enc =  keras.preprocessing.sequence.pad_sequences(X_test,\n",
        "                                                        value=word2idx[\"<PAD>\"],\n",
        "                                                        padding='pre',\n",
        "                                                        maxlen=MAX_SEQUENCE_LENGTH)"
      ],
      "execution_count": null,
      "outputs": []
    },
    {
      "cell_type": "code",
      "metadata": {
        "id": "xqyvh6BPviU7"
      },
      "source": [
        "#Model1\n",
        "model = keras.Sequential()\n",
        "model.add(Lambda(OneHot(input_dim=VOCAB_SIZE,input_length=MAX_SEQUENCE_LENGTH)))\n",
        "model.add(GlobalAveragePooling1DMasked())\n",
        "model.add(Dense(units=128))\n",
        "model.add(Dense(units=1,activation='sigmoid'))\n",
        "\n",
        "model.compile(optimizer='adam',\n",
        "              loss='binary_crossentropy',\n",
        "              metrics=['accuracy'])\n",
        "\n"
      ],
      "execution_count": null,
      "outputs": []
    },
    {
      "cell_type": "code",
      "metadata": {
        "id": "JcdK5uUMCv_6",
        "colab": {
          "base_uri": "https://localhost:8080/",
          "height": 260
        },
        "outputId": "2997c0d9-96f0-409c-b006-1f9932c9f5a1"
      },
      "source": [
        "#Model 2\n",
        "EMBED_SIZE = 100\n",
        "model2 = keras.Sequential()\n",
        "model2.add(Embedding(input_dim=VOCAB_SIZE,output_dim=EMBED_SIZE))\n",
        "#model2.add(Dropout(rate=0.5))\n",
        "model2.add(LSTM(units=100,activation='relu'))\n",
        "#model2.add(Dropout(rate=0.5))\n",
        "model2.add(Dense(units=1,activation='sigmoid'))\n",
        "model2.compile(optimizer='adam',\n",
        "              loss='binary_crossentropy',\n",
        "              metrics=['accuracy'])\n",
        "\n",
        "model2.summary()"
      ],
      "execution_count": null,
      "outputs": [
        {
          "output_type": "stream",
          "text": [
            "Model: \"sequential_2\"\n",
            "_________________________________________________________________\n",
            "Layer (type)                 Output Shape              Param #   \n",
            "=================================================================\n",
            "embedding_1 (Embedding)      (None, None, 100)         2188200   \n",
            "_________________________________________________________________\n",
            "lstm_1 (LSTM)                (None, 100)               80400     \n",
            "_________________________________________________________________\n",
            "dense_3 (Dense)              (None, 1)                 101       \n",
            "=================================================================\n",
            "Total params: 2,268,701\n",
            "Trainable params: 2,268,701\n",
            "Non-trainable params: 0\n",
            "_________________________________________________________________\n"
          ],
          "name": "stdout"
        }
      ]
    },
    {
      "cell_type": "code",
      "metadata": {
        "id": "IRPf7KyYoPFG"
      },
      "source": [
        ""
      ],
      "execution_count": null,
      "outputs": []
    },
    {
      "cell_type": "code",
      "metadata": {
        "id": "Id1mqHLX1Yzh"
      },
      "source": [
        "#Model 3\n",
        "EMBED_SIZE = 100\n",
        "model3 = keras.Sequential()\n",
        "model3.add(Embedding(input_dim=VOCAB_SIZE,output_dim=EMBED_SIZE))\n",
        "model3.add(Dropout(rate=0.5))\n",
        "model3.add(Conv1D(filters=250,kernel_size=3,strides=1,padding='valid',kernel_initializer='glorot_uniform'))\n",
        "model3.add(GlobalMaxPooling1D())\n",
        "model3.add(Dropout(rate=0.5))\n",
        "model3.add(Dense(units=1,activation='sigmoid'))\n",
        "model3.compile(optimizer='adam',\n",
        "              loss='binary_crossentropy',\n",
        "              metrics=['accuracy'])"
      ],
      "execution_count": null,
      "outputs": []
    },
    {
      "cell_type": "code",
      "metadata": {
        "id": "PZzGBEmpwA-t"
      },
      "source": [
        "X_val = np.array(X_train_enc[:3000])\n",
        "partial_X_train = np.array(X_train_enc[3000:])\n",
        "\n",
        "y_val = np.array(y_train[:3000])\n",
        "partial_y_train = np.array(y_train[3000:])"
      ],
      "execution_count": null,
      "outputs": []
    },
    {
      "cell_type": "code",
      "metadata": {
        "id": "4kSCNxWfwSRC",
        "colab": {
          "base_uri": "https://localhost:8080/",
          "height": 173
        },
        "outputId": "7e3099dd-22ac-4bea-c694-f44ca434b1b3"
      },
      "source": [
        "history = model2.fit(partial_X_train,\n",
        "                    partial_y_train,\n",
        "                    epochs=3,\n",
        "                    batch_size=100,\n",
        "                    validation_data=(X_val, y_val),\n",
        "                    verbose=1)"
      ],
      "execution_count": null,
      "outputs": [
        {
          "output_type": "stream",
          "text": [
            "/usr/local/lib/python3.6/dist-packages/tensorflow/python/framework/indexed_slices.py:434: UserWarning: Converting sparse IndexedSlices to a dense Tensor of unknown shape. This may consume a large amount of memory.\n",
            "  \"Converting sparse IndexedSlices to a dense Tensor of unknown shape. \"\n"
          ],
          "name": "stderr"
        },
        {
          "output_type": "stream",
          "text": [
            "Train on 10240 samples, validate on 3000 samples\n",
            "Epoch 1/3\n",
            "10240/10240 [==============================] - 14s 1ms/step - loss: 0.6293 - accuracy: 0.6687 - val_loss: 0.6087 - val_accuracy: 0.6577\n",
            "Epoch 2/3\n",
            "10240/10240 [==============================] - 12s 1ms/step - loss: 0.5250 - accuracy: 0.7741 - val_loss: 0.5636 - val_accuracy: 0.7537\n",
            "Epoch 3/3\n",
            "10240/10240 [==============================] - 12s 1ms/step - loss: 0.6756 - accuracy: 0.8404 - val_loss: 0.5489 - val_accuracy: 0.7467\n"
          ],
          "name": "stdout"
        }
      ]
    },
    {
      "cell_type": "code",
      "metadata": {
        "id": "Kg-KqJQwoJZk",
        "colab": {
          "base_uri": "https://localhost:8080/",
          "height": 850
        },
        "outputId": "616e5964-0b92-4b22-aa24-173b86fe790d"
      },
      "source": [
        "import matplotlib.pyplot as plt\n",
        "\n",
        "history_dict = history.history\n",
        "\n",
        "accuracy = history_dict['accuracy']\n",
        "val_accuracy = history_dict['val_accuracy']\n",
        "loss = history_dict['loss']\n",
        "val_loss = history_dict['val_loss']\n",
        "\n",
        "epochs = range(1, len(accuracy) + 1)\n",
        "\n",
        "plt.plot(epochs, history_dict['accuracy'], 'bo', label='Training acc')\n",
        "plt.plot(epochs, history_dict['val_accuracy'], 'b', label='Validation acc')\n",
        "\n",
        "#plt.plot(epochs, acc, 'bo', label='Training acc')\n",
        "#plt.plot(epochs, val_acc, 'b', label='Validation acc')\n",
        "plt.title('Training and validation accuracy')\n",
        "plt.xlabel('Epochs')\n",
        "plt.ylabel('Accuracy')\n",
        "plt.legend()\n",
        "\n",
        "plt.show()\n",
        "\n",
        "# summarize history for accuracy\n",
        "plt.plot(history.history['accuracy'])\n",
        "plt.plot(history.history['val_accuracy'])\n",
        "plt.title('model accuracy')\n",
        "plt.ylabel('accuracy')\n",
        "plt.xlabel('epoch')\n",
        "plt.legend(['train', 'test'], loc='upper left')\n",
        "plt.show()\n",
        "# summarize history for loss\n",
        "plt.plot(history.history['loss'])\n",
        "plt.plot(history.history['val_loss'])\n",
        "plt.title('model loss')\n",
        "plt.ylabel('loss')\n",
        "plt.xlabel('epoch')\n",
        "plt.legend(['train', 'test'], loc='upper left')\n",
        "plt.show()\n",
        "\n"
      ],
      "execution_count": null,
      "outputs": [
        {
          "output_type": "display_data",
          "data": {
            "image/png": "[encoded data removed]",
            "text/plain": [
              "<Figure size 432x288 with 1 Axes>"
            ]
          },
          "metadata": {
            "tags": [],
            "needs_background": "light"
          }
        },
        {
          "output_type": "display_data",
          "data": {
            "image/png": "[encoded data removed]",
            "text/plain": [
              "<Figure size 432x288 with 1 Axes>"
            ]
          },
          "metadata": {
            "tags": [],
            "needs_background": "light"
          }
        },
        {
          "output_type": "display_data",
          "data": {
            "image/png": "[encoded data removed]",
            "text/plain": [
              "<Figure size 432x288 with 1 Axes>"
            ]
          },
          "metadata": {
            "tags": [],
            "needs_background": "light"
          }
        }
      ]
    },
    {
      "cell_type": "code",
      "metadata": {
        "id": "OL080HOO7huM",
        "colab": {
          "base_uri": "https://localhost:8080/",
          "height": 52
        },
        "outputId": "b0596167-6919-4445-b5b2-bed3a541fb9e"
      },
      "source": [
        "results = model2.evaluate(X_test_enc,y_test)\n",
        "print(f'Test loss - {results[0]} Test accuracy - {results[1]}')"
      ],
      "execution_count": null,
      "outputs": [
        {
          "output_type": "stream",
          "text": [
            "860/860 [==============================] - 0s 318us/step\n",
            "Test loss - 0.4807213320288547 Test accuracy - 0.804651141166687\n"
          ],
          "name": "stdout"
        }
      ]
    },
    {
      "cell_type": "code",
      "metadata": {
        "id": "R-m-Y0MHh08U"
      },
      "source": [
        "#Sub Task ABC\n",
        "#For 2nd task, create combined class for each row out of 5 classes\n",
        "\n",
        "encoded_label = LabelEncoder().fit_transform(preprocessed_corpus_labels_abc)\n",
        "encoded_label = encoded_label.reshape((len(encoded_label),1))\n",
        "encoded_onehot_abc = np.array(OneHotEncoder(sparse=False).fit_transform(encoded_label))\n",
        "\n",
        "encoded_label_test = LabelEncoder().fit_transform(preprocessed_corpus_labels_abc_test)\n",
        "encoded_label_test = encoded_label_test.reshape((len(encoded_label_test),1))\n",
        "encoded_onehot_abc_test = np.array(OneHotEncoder(sparse=False).fit_transform(encoded_label_test))"
      ],
      "execution_count": null,
      "outputs": []
    },
    {
      "cell_type": "code",
      "metadata": {
        "id": "B_K0hg591dA-",
        "colab": {
          "base_uri": "https://localhost:8080/",
          "height": 329
        },
        "outputId": "0809b2da-15a3-408f-b9cb-6fa6404cd607"
      },
      "source": [
        "#Model 4\n",
        "EMBED_SIZE = 200\n",
        "model4 = keras.Sequential()\n",
        "model4.add(Embedding(input_dim=VOCAB_SIZE,output_dim=EMBED_SIZE))\n",
        "model4.add(Dropout(rate=0.5))\n",
        "model4.add(LSTM(units=100,activation='relu'))\n",
        "model4.add(Dropout(rate=0.5))\n",
        "model4.add(Dense(units=5,activation='softmax'))\n",
        "model4.compile(optimizer='adam',\n",
        "              loss='categorical_crossentropy',\n",
        "              metrics=['accuracy'])\n",
        "model4.summary()"
      ],
      "execution_count": null,
      "outputs": [
        {
          "output_type": "stream",
          "text": [
            "Model: \"sequential_5\"\n",
            "_________________________________________________________________\n",
            "Layer (type)                 Output Shape              Param #   \n",
            "=================================================================\n",
            "embedding_4 (Embedding)      (None, None, 200)         4376400   \n",
            "_________________________________________________________________\n",
            "dropout_5 (Dropout)          (None, None, 200)         0         \n",
            "_________________________________________________________________\n",
            "lstm_3 (LSTM)                (None, 100)               120400    \n",
            "_________________________________________________________________\n",
            "dropout_6 (Dropout)          (None, 100)               0         \n",
            "_________________________________________________________________\n",
            "dense_6 (Dense)              (None, 5)                 505       \n",
            "=================================================================\n",
            "Total params: 4,497,305\n",
            "Trainable params: 4,497,305\n",
            "Non-trainable params: 0\n",
            "_________________________________________________________________\n"
          ],
          "name": "stdout"
        }
      ]
    },
    {
      "cell_type": "code",
      "metadata": {
        "id": "bjN_etJRmPIM",
        "colab": {
          "base_uri": "https://localhost:8080/",
          "height": 398
        },
        "outputId": "784d56fb-362d-4e92-fe03-2bcb19822ecf"
      },
      "source": [
        "#Model 5\n",
        "EMBED_SIZE = 200\n",
        "model5 = keras.Sequential()\n",
        "model5.add(Embedding(input_dim=VOCAB_SIZE,output_dim=EMBED_SIZE))\n",
        "model5.add(Dropout(rate=0.5))\n",
        "model5.add(Conv1D(filters=50,kernel_size=3,strides=1,padding='SAME',kernel_initializer='glorot_uniform'))\n",
        "model5.add(GlobalMaxPooling1D())\n",
        "model5.add(Dense(100))\n",
        "model5.add(Dropout(rate=0.5))\n",
        "model5.add(Dense(units=5,activation='softmax'))\n",
        "model5.compile(optimizer='adam',\n",
        "              loss='categorical_crossentropy',\n",
        "              metrics=['accuracy'])\n",
        "model5.summary()"
      ],
      "execution_count": null,
      "outputs": [
        {
          "output_type": "stream",
          "text": [
            "Model: \"sequential_6\"\n",
            "_________________________________________________________________\n",
            "Layer (type)                 Output Shape              Param #   \n",
            "=================================================================\n",
            "embedding_5 (Embedding)      (None, None, 200)         4376400   \n",
            "_________________________________________________________________\n",
            "dropout_7 (Dropout)          (None, None, 200)         0         \n",
            "_________________________________________________________________\n",
            "conv1d_2 (Conv1D)            (None, None, 50)          30050     \n",
            "_________________________________________________________________\n",
            "global_max_pooling1d_2 (Glob (None, 50)                0         \n",
            "_________________________________________________________________\n",
            "dense_7 (Dense)              (None, 100)               5100      \n",
            "_________________________________________________________________\n",
            "dropout_8 (Dropout)          (None, 100)               0         \n",
            "_________________________________________________________________\n",
            "dense_8 (Dense)              (None, 5)                 505       \n",
            "=================================================================\n",
            "Total params: 4,412,055\n",
            "Trainable params: 4,412,055\n",
            "Non-trainable params: 0\n",
            "_________________________________________________________________\n"
          ],
          "name": "stdout"
        }
      ]
    },
    {
      "cell_type": "code",
      "metadata": {
        "id": "QFx9FCOLh37x"
      },
      "source": [
        "y_val_abc = np.array(encoded_onehot_abc[:3000])\n",
        "partial_y_train_abc = np.array(encoded_onehot_abc[3000:])\n",
        "\n"
      ],
      "execution_count": null,
      "outputs": []
    },
    {
      "cell_type": "code",
      "metadata": {
        "id": "RdayG3yQkuza",
        "colab": {
          "base_uri": "https://localhost:8080/",
          "height": 173
        },
        "outputId": "1c799761-0d2a-4487-98ec-7007e0d6d4ef"
      },
      "source": [
        "history2 = model5.fit(partial_X_train,\n",
        "                    partial_y_train_abc,\n",
        "                    epochs=3,\n",
        "                    batch_size=100,\n",
        "                    validation_data=(X_val, y_val_abc),\n",
        "                    verbose=1)"
      ],
      "execution_count": null,
      "outputs": [
        {
          "output_type": "stream",
          "text": [
            "/usr/local/lib/python3.6/dist-packages/tensorflow/python/framework/indexed_slices.py:434: UserWarning: Converting sparse IndexedSlices to a dense Tensor of unknown shape. This may consume a large amount of memory.\n",
            "  \"Converting sparse IndexedSlices to a dense Tensor of unknown shape. \"\n"
          ],
          "name": "stderr"
        },
        {
          "output_type": "stream",
          "text": [
            "Train on 10240 samples, validate on 3000 samples\n",
            "Epoch 1/3\n",
            "10240/10240 [==============================] - 6s 569us/step - loss: 1.0608 - accuracy: 0.6639 - val_loss: 1.0513 - val_accuracy: 0.6577\n",
            "Epoch 2/3\n",
            "10240/10240 [==============================] - 1s 102us/step - loss: 0.9081 - accuracy: 0.6948 - val_loss: 0.8714 - val_accuracy: 0.7103\n",
            "Epoch 3/3\n",
            "10240/10240 [==============================] - 1s 104us/step - loss: 0.7060 - accuracy: 0.7573 - val_loss: 0.8721 - val_accuracy: 0.7063\n"
          ],
          "name": "stdout"
        }
      ]
    },
    {
      "cell_type": "code",
      "metadata": {
        "id": "_P9bPBI6t37P",
        "colab": {
          "base_uri": "https://localhost:8080/",
          "height": 294
        },
        "outputId": "3cd23d1e-bcb1-439f-acf2-7c1353e7f631"
      },
      "source": [
        "history_dict = history2.history\n",
        "\n",
        "acc = history_dict['accuracy']\n",
        "val_acc = history_dict['val_accuracy']\n",
        "loss = history_dict['loss']\n",
        "val_loss = history_dict['val_loss']\n",
        "\n",
        "epochs = range(1, len(acc) + 1)\n",
        "\n",
        "plt.plot(epochs, accuracy, 'bo', label='Training acc')\n",
        "plt.plot(epochs, val_accuracy, 'b', label='Validation acc')\n",
        "plt.title('Training and validation accuracy')\n",
        "plt.xlabel('Epochs')\n",
        "plt.ylabel('Accuracy')\n",
        "plt.legend()\n",
        "\n",
        "plt.show()"
      ],
      "execution_count": null,
      "outputs": [
        {
          "output_type": "display_data",
          "data": {
            "image/png": "[encoded data removed]",
            "text/plain": [
              "<Figure size 432x288 with 1 Axes>"
            ]
          },
          "metadata": {
            "tags": [],
            "needs_background": "light"
          }
        }
      ]
    },
    {
      "cell_type": "code",
      "metadata": {
        "id": "--P1uGvb84FO",
        "colab": {
          "base_uri": "https://localhost:8080/",
          "height": 52
        },
        "outputId": "fc7e94e3-7b0c-4be9-d65e-2368139110fb"
      },
      "source": [
        "results = model5.evaluate(X_test_enc,encoded_onehot_abc_test)\n",
        "print(f'Test loss - {results[0]} Test accuracy - {results[1]}')"
      ],
      "execution_count": null,
      "outputs": [
        {
          "output_type": "stream",
          "text": [
            "860/860 [==============================] - 0s 106us/step\n",
            "Test loss - 0.7924199187478354 Test accuracy - 0.7639535069465637\n"
          ],
          "name": "stdout"
        }
      ]
    }
  ]
}